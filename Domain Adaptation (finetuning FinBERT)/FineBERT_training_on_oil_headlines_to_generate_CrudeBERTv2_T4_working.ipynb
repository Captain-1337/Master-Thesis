{
 "cells": [
  {
   "cell_type": "markdown",
   "id": "4d867629",
   "metadata": {},
   "source": [
    "### Import Libraries"
   ]
  },
  {
   "cell_type": "code",
   "execution_count": 2,
   "id": "3af4e7a6",
   "metadata": {
    "scrolled": false
   },
   "outputs": [
    {
     "name": "stderr",
     "output_type": "stream",
     "text": [
      "[nltk_data] Downloading package punkt to\n",
      "[nltk_data]     C:\\Users\\KAPLAN\\AppData\\Roaming\\nltk_data...\n",
      "[nltk_data]   Package punkt is already up-to-date!\n",
      "<ipython-input-2-a0746e54ffe7>:27: FutureWarning: Passing a negative integer is deprecated in version 1.0 and will not be supported in future version. Instead, use None to not limit the column width.\n",
      "  pd.set_option('max_colwidth', -1)\n"
     ]
    }
   ],
   "source": [
    "from pathlib import Path\n",
    "import shutil\n",
    "import os\n",
    "import logging\n",
    "import sys\n",
    "import gc\n",
    "sys.path.append('C:/Users/KAPLAN/Desktop/pytorch_examples/models/')\n",
    "from pandas import DataFrame\n",
    "from textblob import TextBlob\n",
    "from pprint import pprint\n",
    "from sklearn.metrics import classification_report, confusion_matrix\n",
    "import seaborn as sns\n",
    "import matplotlib.pyplot as plt\n",
    "import nltk\n",
    "nltk.download('punkt')\n",
    "\n",
    "import time\n",
    "from transformers import AutoModelForSequenceClassification\n",
    "\n",
    "from finbert.finbert import *\n",
    "import finbert.utils as tools\n",
    "\n",
    "%load_ext autoreload\n",
    "%autoreload 2\n",
    "\n",
    "project_dir = Path.cwd().parent\n",
    "pd.set_option('max_colwidth', -1)"
   ]
  },
  {
   "cell_type": "code",
   "execution_count": 3,
   "id": "92735402",
   "metadata": {
    "scrolled": true
   },
   "outputs": [
    {
     "data": {
      "text/plain": [
       "WindowsPath('C:/Users/KAPLAN/Desktop')"
      ]
     },
     "execution_count": 3,
     "metadata": {},
     "output_type": "execute_result"
    }
   ],
   "source": [
    "project_dir"
   ]
  },
  {
   "cell_type": "code",
   "execution_count": 4,
   "id": "8b91ba0e",
   "metadata": {},
   "outputs": [],
   "source": [
    "logging.basicConfig(format = '%(asctime)s - %(levelname)s - %(name)s -   %(message)s',\n",
    "                    datefmt = '%m/%d/%Y %H:%M:%S',\n",
    "                    level = logging.ERROR)"
   ]
  },
  {
   "cell_type": "code",
   "execution_count": 5,
   "id": "934b0db6",
   "metadata": {},
   "outputs": [],
   "source": [
    "lm_path = project_dir/'pytorch_examples'/'models'/'language_model'/'finbertTRC2'\n",
    "cl_path = project_dir/'pytorch_examples'/'models'/'classifier_model'/'finbert_sentiment'\n",
    "cl_data_path = project_dir/'pytorch_examples'/'models'/'data'/'sentiment_data'"
   ]
  },
  {
   "cell_type": "markdown",
   "id": "56b0ad9e",
   "metadata": {},
   "source": [
    "## Configuring adapted functions"
   ]
  },
  {
   "cell_type": "code",
   "execution_count": 6,
   "id": "366d804d",
   "metadata": {},
   "outputs": [],
   "source": [
    "def oneHot(row):\n",
    "  if row=='negative': return -1\n",
    "  if row=='neutral' : return  0\n",
    "  if row=='positive' : return +1"
   ]
  },
  {
   "cell_type": "code",
   "execution_count": 51,
   "id": "ab74c8d7",
   "metadata": {},
   "outputs": [],
   "source": [
    "def predict(text, model, write_to_csv=False, path=None):\n",
    "    \"\"\"\n",
    "    Predict sentiments of sentences in a given text. The function first tokenizes sentences, make predictions and write\n",
    "    results.\n",
    "    Parameters\n",
    "    ----------\n",
    "    text: string\n",
    "        text to be analyzed\n",
    "    model: BertForSequenceClassification\n",
    "        path to the classifier model\n",
    "    write_to_csv (optional): bool\n",
    "    path (optional): string\n",
    "        path to write the string\n",
    "    \"\"\"\n",
    "    model.eval()\n",
    "    tokenizer = AutoTokenizer.from_pretrained('bert-base-uncased')\n",
    "    sentences = text   \n",
    "    label_list = ['positive', 'negative', 'neutral']\n",
    "    label_dict = {0: 'positive', 1: 'negative', 2: 'neutral'}\n",
    "    result = pd.DataFrame(columns=['sentence', 'logit', 'prediction', 'sentiment_score'])\n",
    "    for batch in chunks(text, len(text)):\n",
    "        examples = [InputExample(str(i), sentence) for i, sentence in enumerate(batch)]\n",
    "\n",
    "        features = convert_examples_to_features(examples, label_list, 64, tokenizer)\n",
    "\n",
    "        all_input_ids = torch.tensor([f.input_ids for f in features], dtype=torch.long)\n",
    "        all_attention_mask = torch.tensor([f.attention_mask for f in features], dtype=torch.long)\n",
    "        all_token_type_ids = torch.tensor([f.token_type_ids for f in features], dtype=torch.long)\n",
    "\n",
    "        with torch.no_grad():\n",
    "            logits = model(all_input_ids, all_attention_mask, all_token_type_ids)[0]\n",
    "            logging.info(logits)\n",
    "            logits = softmax(np.array(logits))\n",
    "            sentiment_score = pd.Series(logits[:, 0] - logits[:, 1])\n",
    "            predictions = np.squeeze(np.argmax(logits, axis=1))\n",
    "\n",
    "            batch_result = {'sentence': batch,\n",
    "                            'logit': list(logits),\n",
    "                            'prediction': predictions,\n",
    "                            'sentiment_score': sentiment_score}\n",
    "\n",
    "            batch_result = pd.DataFrame(batch_result)\n",
    "            result = pd.concat([result, batch_result], ignore_index=True)\n",
    "\n",
    "    result['prediction'] = result.prediction.apply(lambda x: label_dict[x])\n",
    "    if write_to_csv:\n",
    "        result.to_csv(path, sep=',', index=True)\n",
    "\n",
    "    return result"
   ]
  },
  {
   "cell_type": "markdown",
   "id": "bc15bc10",
   "metadata": {},
   "source": [
    "## Configuring training parameters"
   ]
  },
  {
   "cell_type": "code",
   "execution_count": 8,
   "id": "ab85b048",
   "metadata": {
    "scrolled": true
   },
   "outputs": [],
   "source": [
    "# Clean the cl_path\n",
    "try:\n",
    "    shutil.rmtree(cl_path) \n",
    "except:\n",
    "    pass\n",
    "\n",
    "bertmodel = AutoModelForSequenceClassification.from_pretrained(lm_path,cache_dir=None, num_labels=3)\n",
    "\n",
    "\n",
    "config = Config(   data_dir=cl_data_path,\n",
    "                   bert_model=bertmodel,\n",
    "                   num_train_epochs=4,\n",
    "                   model_dir=cl_path,\n",
    "                   max_seq_length = 48,\n",
    "                   train_batch_size = 32,\n",
    "                   learning_rate = 2e-5,\n",
    "                   output_mode='classification',\n",
    "                   warm_up_proportion=0.2,\n",
    "                   local_rank=-1,\n",
    "                   discriminate=True,\n",
    "                   gradual_unfreeze=True)"
   ]
  },
  {
   "cell_type": "code",
   "execution_count": 9,
   "id": "b1ddf65d",
   "metadata": {},
   "outputs": [],
   "source": [
    "finbert = FinBert(config)\n",
    "finbert.base_model = 'bert-base-uncased'\n",
    "finbert.config.discriminate=True\n",
    "finbert.config.gradual_unfreeze=True"
   ]
  },
  {
   "cell_type": "code",
   "execution_count": 10,
   "id": "7bc30d28",
   "metadata": {},
   "outputs": [
    {
     "name": "stderr",
     "output_type": "stream",
     "text": [
      "06/30/2021 16:21:50 - INFO - finbert.finbert -   device: cpu n_gpu: 0, distributed training: False, 16-bits training: False\n"
     ]
    }
   ],
   "source": [
    "finbert.prepare_model(label_list=['positive','negative','neutral'])\n",
    "class_names = ['positive','negative','neutral']"
   ]
  },
  {
   "cell_type": "code",
   "execution_count": 11,
   "id": "ee1f5b2f",
   "metadata": {
    "scrolled": false
   },
   "outputs": [],
   "source": [
    "train_data = finbert.get_data('train')"
   ]
  },
  {
   "cell_type": "code",
   "execution_count": 12,
   "id": "7c8a3963",
   "metadata": {
    "scrolled": true
   },
   "outputs": [],
   "source": [
    "model = finbert.create_the_model()"
   ]
  },
  {
   "cell_type": "code",
   "execution_count": 13,
   "id": "a40cfba0",
   "metadata": {
    "scrolled": false
   },
   "outputs": [
    {
     "name": "stderr",
     "output_type": "stream",
     "text": [
      "06/30/2021 16:21:57 - INFO - finbert.utils -   *** Example ***\n",
      "06/30/2021 16:21:57 - INFO - finbert.utils -   guid: train-1\n",
      "06/30/2021 16:21:57 - INFO - finbert.utils -   tokens: [CLS] vietnam 1 ##q crude - oil exports down 17 . 4 % on year at 1 . 82 ##m tons - customs [SEP]\n",
      "06/30/2021 16:21:57 - INFO - finbert.utils -   input_ids: 101 5148 1015 4160 13587 1011 3514 14338 2091 2459 1012 1018 1003 2006 2095 2012 1015 1012 6445 2213 6197 1011 8205 102 0 0 0 0 0 0 0 0 0 0 0 0 0 0 0 0 0 0 0 0 0 0 0 0\n",
      "06/30/2021 16:21:57 - INFO - finbert.utils -   attention_mask: 1 1 1 1 1 1 1 1 1 1 1 1 1 1 1 1 1 1 1 1 1 1 1 1 0 0 0 0 0 0 0 0 0 0 0 0 0 0 0 0 0 0 0 0 0 0 0 0\n",
      "06/30/2021 16:21:57 - INFO - finbert.utils -   token_type_ids: 0 0 0 0 0 0 0 0 0 0 0 0 0 0 0 0 0 0 0 0 0 0 0 0 0 0 0 0 0 0 0 0 0 0 0 0 0 0 0 0 0 0 0 0 0 0 0 0\n",
      "06/30/2021 16:21:57 - INFO - finbert.utils -   label: positive (id = 0)\n",
      "06/30/2021 16:21:58 - INFO - finbert.finbert -   ***** Loading data *****\n",
      "06/30/2021 16:21:58 - INFO - finbert.finbert -     Num examples = 11871\n",
      "06/30/2021 16:21:58 - INFO - finbert.finbert -     Batch size = 32\n",
      "06/30/2021 16:21:58 - INFO - finbert.finbert -     Num steps = 492\n",
      "Epoch:   0%|          | 0/4 [00:00<?, ?it/s]"
     ]
    },
    {
     "data": {
      "application/vnd.jupyter.widget-view+json": {
       "model_id": "4fc7279a899e4d82b50bafc8659c50af",
       "version_major": 2,
       "version_minor": 0
      },
      "text/plain": [
       "HBox(children=(FloatProgress(value=0.0, description='Iteration', max=371.0, style=ProgressStyle(description_wi…"
      ]
     },
     "metadata": {},
     "output_type": "display_data"
    },
    {
     "name": "stderr",
     "output_type": "stream",
     "text": [
      "06/30/2021 16:33:15 - INFO - finbert.utils -   *** Example ***\n",
      "06/30/2021 16:33:15 - INFO - finbert.utils -   guid: validation-1\n",
      "06/30/2021 16:33:15 - INFO - finbert.utils -   tokens: [CLS] doe : us crude oil stocks - 4 . 61 ##7 ml ##n bb ##l at 425 . 332 ml ##n bb ##l [SEP]\n",
      "06/30/2021 16:33:15 - INFO - finbert.utils -   input_ids: 101 18629 1024 2149 13587 3514 15768 1011 1018 1012 6079 2581 19875 2078 22861 2140 2012 23285 1012 29327 19875 2078 22861 2140 102 0 0 0 0 0 0 0 0 0 0 0 0 0 0 0 0 0 0 0 0 0 0 0\n",
      "06/30/2021 16:33:15 - INFO - finbert.utils -   attention_mask: 1 1 1 1 1 1 1 1 1 1 1 1 1 1 1 1 1 1 1 1 1 1 1 1 1 0 0 0 0 0 0 0 0 0 0 0 0 0 0 0 0 0 0 0 0 0 0 0\n",
      "06/30/2021 16:33:15 - INFO - finbert.utils -   token_type_ids: 0 0 0 0 0 0 0 0 0 0 0 0 0 0 0 0 0 0 0 0 0 0 0 0 0 0 0 0 0 0 0 0 0 0 0 0 0 0 0 0 0 0 0 0 0 0 0 0\n",
      "06/30/2021 16:33:15 - INFO - finbert.utils -   label: positive (id = 0)\n"
     ]
    },
    {
     "name": "stdout",
     "output_type": "stream",
     "text": [
      "\n"
     ]
    },
    {
     "name": "stderr",
     "output_type": "stream",
     "text": [
      "06/30/2021 16:33:15 - INFO - finbert.finbert -   ***** Loading data *****\n",
      "06/30/2021 16:33:15 - INFO - finbert.finbert -     Num examples = 3956\n",
      "06/30/2021 16:33:15 - INFO - finbert.finbert -     Batch size = 32\n",
      "06/30/2021 16:33:15 - INFO - finbert.finbert -     Num steps = 492\n"
     ]
    },
    {
     "data": {
      "application/vnd.jupyter.widget-view+json": {
       "model_id": "92f355400c9d47519d01918d590e32d1",
       "version_major": 2,
       "version_minor": 0
      },
      "text/plain": [
       "HBox(children=(FloatProgress(value=0.0, description='Validating', max=124.0, style=ProgressStyle(description_w…"
      ]
     },
     "metadata": {},
     "output_type": "display_data"
    },
    {
     "name": "stdout",
     "output_type": "stream",
     "text": [
      "\n",
      "Validation losses: [0.3026972360488388]\n",
      "No best model found\n"
     ]
    },
    {
     "name": "stderr",
     "output_type": "stream",
     "text": [
      "\r",
      "Epoch:  25%|██▌       | 1/4 [13:44<41:12, 824.23s/it]"
     ]
    },
    {
     "data": {
      "application/vnd.jupyter.widget-view+json": {
       "model_id": "637a1270be244545a9065c6865086e84",
       "version_major": 2,
       "version_minor": 0
      },
      "text/plain": [
       "HBox(children=(FloatProgress(value=0.0, description='Iteration', max=371.0, style=ProgressStyle(description_wi…"
      ]
     },
     "metadata": {},
     "output_type": "display_data"
    },
    {
     "name": "stderr",
     "output_type": "stream",
     "text": [
      "06/30/2021 16:51:41 - INFO - finbert.utils -   *** Example ***\n",
      "06/30/2021 16:51:41 - INFO - finbert.utils -   guid: validation-1\n",
      "06/30/2021 16:51:41 - INFO - finbert.utils -   tokens: [CLS] doe : us crude oil stocks - 4 . 61 ##7 ml ##n bb ##l at 425 . 332 ml ##n bb ##l [SEP]\n",
      "06/30/2021 16:51:41 - INFO - finbert.utils -   input_ids: 101 18629 1024 2149 13587 3514 15768 1011 1018 1012 6079 2581 19875 2078 22861 2140 2012 23285 1012 29327 19875 2078 22861 2140 102 0 0 0 0 0 0 0 0 0 0 0 0 0 0 0 0 0 0 0 0 0 0 0\n",
      "06/30/2021 16:51:41 - INFO - finbert.utils -   attention_mask: 1 1 1 1 1 1 1 1 1 1 1 1 1 1 1 1 1 1 1 1 1 1 1 1 1 0 0 0 0 0 0 0 0 0 0 0 0 0 0 0 0 0 0 0 0 0 0 0\n",
      "06/30/2021 16:51:41 - INFO - finbert.utils -   token_type_ids: 0 0 0 0 0 0 0 0 0 0 0 0 0 0 0 0 0 0 0 0 0 0 0 0 0 0 0 0 0 0 0 0 0 0 0 0 0 0 0 0 0 0 0 0 0 0 0 0\n",
      "06/30/2021 16:51:41 - INFO - finbert.utils -   label: positive (id = 0)\n"
     ]
    },
    {
     "name": "stdout",
     "output_type": "stream",
     "text": [
      "\n"
     ]
    },
    {
     "name": "stderr",
     "output_type": "stream",
     "text": [
      "06/30/2021 16:51:41 - INFO - finbert.finbert -   ***** Loading data *****\n",
      "06/30/2021 16:51:41 - INFO - finbert.finbert -     Num examples = 3956\n",
      "06/30/2021 16:51:41 - INFO - finbert.finbert -     Batch size = 32\n",
      "06/30/2021 16:51:41 - INFO - finbert.finbert -     Num steps = 492\n"
     ]
    },
    {
     "data": {
      "application/vnd.jupyter.widget-view+json": {
       "model_id": "946ed4962a4e460e91977a8ad803f3e3",
       "version_major": 2,
       "version_minor": 0
      },
      "text/plain": [
       "HBox(children=(FloatProgress(value=0.0, description='Validating', max=124.0, style=ProgressStyle(description_w…"
      ]
     },
     "metadata": {},
     "output_type": "display_data"
    },
    {
     "name": "stdout",
     "output_type": "stream",
     "text": [
      "\n",
      "Validation losses: [0.3026972360488388, 0.0976397918627387]\n"
     ]
    },
    {
     "name": "stderr",
     "output_type": "stream",
     "text": [
      "\r",
      "Epoch:  50%|█████     | 2/4 [32:08<30:16, 908.18s/it]"
     ]
    },
    {
     "data": {
      "application/vnd.jupyter.widget-view+json": {
       "model_id": "584e017a49ae4663b6c85645a62f814e",
       "version_major": 2,
       "version_minor": 0
      },
      "text/plain": [
       "HBox(children=(FloatProgress(value=0.0, description='Iteration', max=371.0, style=ProgressStyle(description_wi…"
      ]
     },
     "metadata": {},
     "output_type": "display_data"
    },
    {
     "name": "stderr",
     "output_type": "stream",
     "text": [
      "06/30/2021 17:15:10 - INFO - finbert.utils -   *** Example ***\n",
      "06/30/2021 17:15:10 - INFO - finbert.utils -   guid: validation-1\n",
      "06/30/2021 17:15:10 - INFO - finbert.utils -   tokens: [CLS] doe : us crude oil stocks - 4 . 61 ##7 ml ##n bb ##l at 425 . 332 ml ##n bb ##l [SEP]\n",
      "06/30/2021 17:15:10 - INFO - finbert.utils -   input_ids: 101 18629 1024 2149 13587 3514 15768 1011 1018 1012 6079 2581 19875 2078 22861 2140 2012 23285 1012 29327 19875 2078 22861 2140 102 0 0 0 0 0 0 0 0 0 0 0 0 0 0 0 0 0 0 0 0 0 0 0\n",
      "06/30/2021 17:15:10 - INFO - finbert.utils -   attention_mask: 1 1 1 1 1 1 1 1 1 1 1 1 1 1 1 1 1 1 1 1 1 1 1 1 1 0 0 0 0 0 0 0 0 0 0 0 0 0 0 0 0 0 0 0 0 0 0 0\n",
      "06/30/2021 17:15:10 - INFO - finbert.utils -   token_type_ids: 0 0 0 0 0 0 0 0 0 0 0 0 0 0 0 0 0 0 0 0 0 0 0 0 0 0 0 0 0 0 0 0 0 0 0 0 0 0 0 0 0 0 0 0 0 0 0 0\n",
      "06/30/2021 17:15:10 - INFO - finbert.utils -   label: positive (id = 0)\n"
     ]
    },
    {
     "name": "stdout",
     "output_type": "stream",
     "text": [
      "\n"
     ]
    },
    {
     "name": "stderr",
     "output_type": "stream",
     "text": [
      "06/30/2021 17:15:10 - INFO - finbert.finbert -   ***** Loading data *****\n",
      "06/30/2021 17:15:10 - INFO - finbert.finbert -     Num examples = 3956\n",
      "06/30/2021 17:15:10 - INFO - finbert.finbert -     Batch size = 32\n",
      "06/30/2021 17:15:10 - INFO - finbert.finbert -     Num steps = 492\n"
     ]
    },
    {
     "data": {
      "application/vnd.jupyter.widget-view+json": {
       "model_id": "74480f35bc7048e99e41feadf4981ae6",
       "version_major": 2,
       "version_minor": 0
      },
      "text/plain": [
       "HBox(children=(FloatProgress(value=0.0, description='Validating', max=124.0, style=ProgressStyle(description_w…"
      ]
     },
     "metadata": {},
     "output_type": "display_data"
    },
    {
     "name": "stdout",
     "output_type": "stream",
     "text": [
      "\n",
      "Validation losses: [0.3026972360488388, 0.0976397918627387, 0.08612998336884042]\n"
     ]
    },
    {
     "name": "stderr",
     "output_type": "stream",
     "text": [
      "\r",
      "Epoch:  75%|███████▌  | 3/4 [55:40<17:39, 1059.27s/it]"
     ]
    },
    {
     "data": {
      "application/vnd.jupyter.widget-view+json": {
       "model_id": "f6b8618d54ae4b8db267572150a92b94",
       "version_major": 2,
       "version_minor": 0
      },
      "text/plain": [
       "HBox(children=(FloatProgress(value=0.0, description='Iteration', max=371.0, style=ProgressStyle(description_wi…"
      ]
     },
     "metadata": {},
     "output_type": "display_data"
    },
    {
     "name": "stderr",
     "output_type": "stream",
     "text": [
      "06/30/2021 17:41:30 - INFO - finbert.utils -   *** Example ***\n",
      "06/30/2021 17:41:30 - INFO - finbert.utils -   guid: validation-1\n",
      "06/30/2021 17:41:30 - INFO - finbert.utils -   tokens: [CLS] doe : us crude oil stocks - 4 . 61 ##7 ml ##n bb ##l at 425 . 332 ml ##n bb ##l [SEP]\n",
      "06/30/2021 17:41:30 - INFO - finbert.utils -   input_ids: 101 18629 1024 2149 13587 3514 15768 1011 1018 1012 6079 2581 19875 2078 22861 2140 2012 23285 1012 29327 19875 2078 22861 2140 102 0 0 0 0 0 0 0 0 0 0 0 0 0 0 0 0 0 0 0 0 0 0 0\n",
      "06/30/2021 17:41:30 - INFO - finbert.utils -   attention_mask: 1 1 1 1 1 1 1 1 1 1 1 1 1 1 1 1 1 1 1 1 1 1 1 1 1 0 0 0 0 0 0 0 0 0 0 0 0 0 0 0 0 0 0 0 0 0 0 0\n",
      "06/30/2021 17:41:30 - INFO - finbert.utils -   token_type_ids: 0 0 0 0 0 0 0 0 0 0 0 0 0 0 0 0 0 0 0 0 0 0 0 0 0 0 0 0 0 0 0 0 0 0 0 0 0 0 0 0 0 0 0 0 0 0 0 0\n",
      "06/30/2021 17:41:30 - INFO - finbert.utils -   label: positive (id = 0)\n"
     ]
    },
    {
     "name": "stdout",
     "output_type": "stream",
     "text": [
      "\n"
     ]
    },
    {
     "name": "stderr",
     "output_type": "stream",
     "text": [
      "06/30/2021 17:41:30 - INFO - finbert.finbert -   ***** Loading data *****\n",
      "06/30/2021 17:41:30 - INFO - finbert.finbert -     Num examples = 3956\n",
      "06/30/2021 17:41:30 - INFO - finbert.finbert -     Batch size = 32\n",
      "06/30/2021 17:41:30 - INFO - finbert.finbert -     Num steps = 492\n"
     ]
    },
    {
     "data": {
      "application/vnd.jupyter.widget-view+json": {
       "model_id": "63534983378444138e19f68773d0a810",
       "version_major": 2,
       "version_minor": 0
      },
      "text/plain": [
       "HBox(children=(FloatProgress(value=0.0, description='Validating', max=124.0, style=ProgressStyle(description_w…"
      ]
     },
     "metadata": {},
     "output_type": "display_data"
    },
    {
     "name": "stdout",
     "output_type": "stream",
     "text": [
      "\n",
      "Validation losses: [0.3026972360488388, 0.0976397918627387, 0.08612998336884042, 0.08424124569677177]\n"
     ]
    },
    {
     "name": "stderr",
     "output_type": "stream",
     "text": [
      "Epoch: 100%|██████████| 4/4 [1:21:59<00:00, 1229.89s/it]\n"
     ]
    }
   ],
   "source": [
    "from finbert.finbert import *\n",
    "trained_model = finbert.train(train_examples = train_data, model = model)"
   ]
  },
  {
   "cell_type": "code",
   "execution_count": 14,
   "id": "d2d91073",
   "metadata": {},
   "outputs": [],
   "source": [
    "test_data = finbert.get_data('test')"
   ]
  },
  {
   "cell_type": "code",
   "execution_count": 15,
   "id": "cd71bd1e",
   "metadata": {
    "scrolled": true
   },
   "outputs": [
    {
     "name": "stderr",
     "output_type": "stream",
     "text": [
      "06/30/2021 17:45:23 - INFO - finbert.utils -   *** Example ***\n",
      "06/30/2021 17:45:23 - INFO - finbert.utils -   guid: test-1\n",
      "06/30/2021 17:45:23 - INFO - finbert.utils -   tokens: [CLS] api : us crude stocks d ##n 3 . 09 ##2 million bb ##l in week [SEP]\n",
      "06/30/2021 17:45:23 - INFO - finbert.utils -   input_ids: 101 17928 1024 2149 13587 15768 1040 2078 1017 1012 5641 2475 2454 22861 2140 1999 2733 102 0 0 0 0 0 0 0 0 0 0 0 0 0 0 0 0 0 0 0 0 0 0 0 0 0 0 0 0 0 0\n",
      "06/30/2021 17:45:23 - INFO - finbert.utils -   attention_mask: 1 1 1 1 1 1 1 1 1 1 1 1 1 1 1 1 1 1 0 0 0 0 0 0 0 0 0 0 0 0 0 0 0 0 0 0 0 0 0 0 0 0 0 0 0 0 0 0\n",
      "06/30/2021 17:45:23 - INFO - finbert.utils -   token_type_ids: 0 0 0 0 0 0 0 0 0 0 0 0 0 0 0 0 0 0 0 0 0 0 0 0 0 0 0 0 0 0 0 0 0 0 0 0 0 0 0 0 0 0 0 0 0 0 0 0\n",
      "06/30/2021 17:45:23 - INFO - finbert.utils -   label: positive (id = 0)\n",
      "06/30/2021 17:45:23 - INFO - finbert.finbert -   ***** Loading data *****\n",
      "06/30/2021 17:45:23 - INFO - finbert.finbert -     Num examples = 3956\n",
      "06/30/2021 17:45:23 - INFO - finbert.finbert -     Batch size = 32\n",
      "06/30/2021 17:45:23 - INFO - finbert.finbert -     Num steps = 492\n",
      "06/30/2021 17:45:23 - INFO - finbert.finbert -   ***** Running evaluation ***** \n",
      "06/30/2021 17:45:23 - INFO - finbert.finbert -     Num examples = 3956\n",
      "06/30/2021 17:45:23 - INFO - finbert.finbert -     Batch size = 32\n"
     ]
    },
    {
     "data": {
      "application/vnd.jupyter.widget-view+json": {
       "model_id": "e3bfd897b83644dc9b814cbd8240970d",
       "version_major": 2,
       "version_minor": 0
      },
      "text/plain": [
       "HBox(children=(FloatProgress(value=0.0, description='Testing', max=124.0, style=ProgressStyle(description_widt…"
      ]
     },
     "metadata": {},
     "output_type": "display_data"
    },
    {
     "name": "stdout",
     "output_type": "stream",
     "text": [
      "\n"
     ]
    }
   ],
   "source": [
    "results = finbert.evaluate(examples=test_data, model=trained_model)"
   ]
  },
  {
   "cell_type": "code",
   "execution_count": 16,
   "id": "9fddc2b6",
   "metadata": {},
   "outputs": [],
   "source": [
    "results['prediction'] = results.predictions.apply(lambda x: np.argmax(x,axis=0))"
   ]
  },
  {
   "cell_type": "code",
   "execution_count": 17,
   "id": "24643160",
   "metadata": {},
   "outputs": [],
   "source": [
    "y_test = results['labels'] \n",
    "y_pred = results['prediction']\n",
    "\n",
    "def report(df, cols=['label','prediction','logits']):\n",
    "    #print('Validation loss:{0:.2f}'.format(metrics['best_validation_loss']))\n",
    "    cs = CrossEntropyLoss(weight=finbert.class_weights)\n",
    "    loss = cs(torch.tensor(list(df[cols[2]])),torch.tensor(list(df[cols[0]])))\n",
    "    print(\"Loss:{0:.2f}\".format(loss))\n",
    "    print(\"Accuracy:{0:.2f}\".format((df[cols[0]] == df[cols[1]]).sum() / df.shape[0]) )\n",
    "    print(\"\\nClassification Report:\")\n",
    "    print(classification_report(df[cols[0]], df[cols[1]]))"
   ]
  },
  {
   "cell_type": "code",
   "execution_count": 18,
   "id": "bc3fbe22",
   "metadata": {
    "scrolled": true
   },
   "outputs": [
    {
     "name": "stderr",
     "output_type": "stream",
     "text": [
      "06/30/2021 17:47:50 - INFO - numexpr.utils -   Note: NumExpr detected 32 cores but \"NUMEXPR_MAX_THREADS\" not set, so enforcing safe limit of 8.\n",
      "06/30/2021 17:47:50 - INFO - numexpr.utils -   NumExpr defaulting to 8 threads.\n"
     ]
    },
    {
     "name": "stdout",
     "output_type": "stream",
     "text": [
      "Loss:0.09\n",
      "Accuracy:0.98\n",
      "\n",
      "Classification Report:\n",
      "              precision    recall  f1-score   support\n",
      "\n",
      "           0       0.98      0.97      0.98      1965\n",
      "           1       0.98      0.98      0.98      1924\n",
      "           2       0.96      0.97      0.96        67\n",
      "\n",
      "    accuracy                           0.98      3956\n",
      "   macro avg       0.97      0.97      0.97      3956\n",
      "weighted avg       0.98      0.98      0.98      3956\n",
      "\n"
     ]
    }
   ],
   "source": [
    "report(results,cols=['labels','prediction','predictions'])"
   ]
  },
  {
   "cell_type": "code",
   "execution_count": 19,
   "id": "e93653bd",
   "metadata": {},
   "outputs": [
    {
     "data": {
      "image/png": "[encoded data removed]",
      "text/plain": [
       "<Figure size 432x288 with 2 Axes>"
      ]
     },
     "metadata": {
      "needs_background": "light"
     },
     "output_type": "display_data"
    }
   ],
   "source": [
    "def show_confusion_matrix(confusion_matrix):\n",
    "  hmap = sns.heatmap(confusion_matrix, annot=True, fmt=\"d\", cmap=\"Blues\")\n",
    "  hmap.yaxis.set_ticklabels(hmap.yaxis.get_ticklabels(), rotation=0, ha='right')\n",
    "  hmap.xaxis.set_ticklabels(hmap.xaxis.get_ticklabels(), rotation=30, ha='right')\n",
    "  plt.ylabel('True sentiment')\n",
    "  plt.xlabel('Predicted sentiment');\n",
    "\n",
    "cm = confusion_matrix(y_test, y_pred)\n",
    "df_cm = pd.DataFrame(cm, index=class_names, columns=class_names)\n",
    "show_confusion_matrix(df_cm)"
   ]
  },
  {
   "cell_type": "markdown",
   "id": "7c8fab72",
   "metadata": {},
   "source": [
    "## Load the pre-trained Model"
   ]
  },
  {
   "cell_type": "code",
   "execution_count": 36,
   "id": "a3d09792",
   "metadata": {},
   "outputs": [],
   "source": [
    "model = AutoModelForSequenceClassification.from_pretrained(cl_path, cache_dir=None, num_labels=3)"
   ]
  },
  {
   "cell_type": "markdown",
   "id": "727076b1",
   "metadata": {},
   "source": [
    "## Or import already pre-trained Model"
   ]
  },
  {
   "cell_type": "code",
   "execution_count": 37,
   "id": "7753bbbb",
   "metadata": {},
   "outputs": [
    {
     "data": {
      "text/plain": [
       "\"\\nmodel_finbert = BertForSequenceClassification.from_pretrained('model_test/pytorch_model.bin',config='model_test/config.json',num_labels=3)\\nmodel_crudebert = BertForSequenceClassification.from_pretrained('model_test/crude_bert_model.bin',config='model_test/crude_bert_config.json',num_labels=3)\\n\""
      ]
     },
     "execution_count": 37,
     "metadata": {},
     "output_type": "execute_result"
    }
   ],
   "source": [
    "\"\"\"\n",
    "model_finbert = BertForSequenceClassification.from_pretrained('model_test/pytorch_model.bin',config='model_test/config.json',num_labels=3)\n",
    "model_crudebert = BertForSequenceClassification.from_pretrained('model_test/crude_bert_model.bin',config='model_test/crude_bert_config.json',num_labels=3)\n",
    "\"\"\""
   ]
  },
  {
   "cell_type": "markdown",
   "id": "76be8b8c",
   "metadata": {},
   "source": [
    "## Save pre-trained Model"
   ]
  },
  {
   "cell_type": "code",
   "execution_count": 39,
   "id": "6844931d",
   "metadata": {
    "scrolled": true
   },
   "outputs": [],
   "source": [
    "import torch\n",
    "\n",
    "torch_path =\"C:/Users/KAPLAN/Desktop/pytorch_examples/models/CrudeBERT_model\"\n",
    "torch.save(model.state_dict(), os.path.join(torch_path, \"crudebert_T4.pth\"))"
   ]
  },
  {
   "cell_type": "markdown",
   "id": "9c4e2e2c",
   "metadata": {},
   "source": [
    "# Read Headlines"
   ]
  },
  {
   "cell_type": "code",
   "execution_count": 40,
   "id": "110b5b2e",
   "metadata": {},
   "outputs": [],
   "source": [
    "news = pd.read_excel(\"news.xlsx\",parse_dates=[['Date', 'Time']], engine='openpyxl')"
   ]
  },
  {
   "cell_type": "code",
   "execution_count": 41,
   "id": "c6408709",
   "metadata": {
    "scrolled": true
   },
   "outputs": [
    {
     "name": "stderr",
     "output_type": "stream",
     "text": [
      "[nltk_data] Downloading package punkt to\n",
      "[nltk_data]     C:\\Users\\KAPLAN\\AppData\\Roaming\\nltk_data...\n",
      "[nltk_data]   Package punkt is already up-to-date!\n"
     ]
    },
    {
     "data": {
      "text/plain": [
       "True"
      ]
     },
     "execution_count": 41,
     "metadata": {},
     "output_type": "execute_result"
    }
   ],
   "source": [
    "import nltk\n",
    "nltk.download('punkt')"
   ]
  },
  {
   "cell_type": "code",
   "execution_count": 42,
   "id": "510453da",
   "metadata": {},
   "outputs": [
    {
     "data": {
      "text/plain": [
       "98"
      ]
     },
     "execution_count": 42,
     "metadata": {},
     "output_type": "execute_result"
    }
   ],
   "source": [
    "# Clear Ram with gc (garbage collector)\n",
    "\n",
    "gc.collect()\n",
    "\n",
    "#del my_array\n",
    "#del my_object\n",
    "#gc.collect()"
   ]
  },
  {
   "cell_type": "markdown",
   "id": "f568f6c0",
   "metadata": {},
   "source": [
    "### Slice dataframe if it is to big for the RAM"
   ]
  },
  {
   "cell_type": "code",
   "execution_count": 43,
   "id": "3d93ccdf",
   "metadata": {},
   "outputs": [],
   "source": [
    "news_text_first_quarter = news.Headline[:int(len(news.Headline)/4)]"
   ]
  },
  {
   "cell_type": "code",
   "execution_count": 44,
   "id": "c2ab9a6c",
   "metadata": {},
   "outputs": [],
   "source": [
    "news_text_second_quarter = news.Headline[int(len(news.Headline)/4):int(len(news.Headline)/2)]"
   ]
  },
  {
   "cell_type": "code",
   "execution_count": 45,
   "id": "22860a29",
   "metadata": {},
   "outputs": [],
   "source": [
    "news_text_third_quarter = news.Headline[int(len(news.Headline)/2):int(len(news.Headline)/4)*3]"
   ]
  },
  {
   "cell_type": "code",
   "execution_count": 46,
   "id": "328c611c",
   "metadata": {},
   "outputs": [],
   "source": [
    "news_text_fourth_quarter = news.Headline[int(len(news.Headline)/4)*3:]"
   ]
  },
  {
   "cell_type": "markdown",
   "id": "c584de5c",
   "metadata": {},
   "source": [
    "### Verify if sum of slices have the same size as the unsliced dataframe"
   ]
  },
  {
   "cell_type": "code",
   "execution_count": 47,
   "id": "80b51e2c",
   "metadata": {},
   "outputs": [
    {
     "data": {
      "text/plain": [
       "True"
      ]
     },
     "execution_count": 47,
     "metadata": {},
     "output_type": "execute_result"
    }
   ],
   "source": [
    "len(news) == len(news_text_first_quarter) + len(news_text_second_quarter) + len(news_text_third_quarter) + len(news_text_fourth_quarter)"
   ]
  },
  {
   "cell_type": "markdown",
   "id": "8fab9aef",
   "metadata": {},
   "source": [
    "### Check with a small sample first"
   ]
  },
  {
   "cell_type": "code",
   "execution_count": 48,
   "id": "f7601322",
   "metadata": {},
   "outputs": [],
   "source": [
    "sample = news.Headline[:50]"
   ]
  },
  {
   "cell_type": "code",
   "execution_count": 49,
   "id": "c3410b1d",
   "metadata": {},
   "outputs": [
    {
     "data": {
      "text/plain": [
       "0     India Apr-Nov Oil Imports $6.20B Vs $4.03B; +53.86%                                                                                                                                                 \n",
       "1     Texaco and Chevron Missed the Boat on Big Stock Gains --- Their Returns Were Stagnant as Oil Prices Soared Amid Mergers Among Rivals ---- By Steve Liesman Staff Reporter of The Wall Street Journal\n",
       "2     Taiwan CPC Dec Crude Oil Imports 20.4M Bbl, US$23.79/Bbl                                                                                                                                            \n",
       "3     Midday US Spot Crude: Prices Sink With Crude Futures                                                                                                                                                \n",
       "4     API: US Crude Stocks Dn 1.568 Mln Bbl In Week                                                                                                                                                       \n",
       "5     Nymex Access Crude Down After 4th Straight Day Of Losses                                                                                                                                            \n",
       "6     China's CNPC '99 Crude Output 107.08M MT; Dn 0.3%                                                                                                                                                   \n",
       "7     Late US Spot Crude: Prices Lower After Choppy Day                                                                                                                                                   \n",
       "8     WSJ(1/7): Texaco Says Oil Find May Hold A Billion Barrels                                                                                                                                           \n",
       "9     Nymex Midmorning:Crude Dn On Report Of Higher OPEC Output                                                                                                                                           \n",
       "10    Nymex Midday: Crude Weakens After Morning Rally Fizzles                                                                                                                                             \n",
       "11    Midday US Spot Crude: Prices Slip; Differentials Strengthen                                                                                                                                         \n",
       "12    Late US Spot Crude: Prices Rebound In Late Short-Covering                                                                                                                                           \n",
       "13    Colombia's Ecopetrol: To Sell Crude Cargo Tuesday                                                                                                                                                   \n",
       "14    Nymex Crude Drops Overnight On API Inventory Data                                                                                                                                                   \n",
       "15    API: US Crude Stocks Up 1.711 Mln Bbl In Week                                                                                                                                                       \n",
       "16    Energy Highlights: US Crude Stocks Up 1.711 Mln Bbl In Wk                                                                                                                                           \n",
       "17    DOE: US Crude Oil Stocks Up 3.1 Mln Bbls In Week                                                                                                                                                    \n",
       "18    Thai Jan-Nov Oil Imports 732,930B/D; Up 3.7%                                                                                                                                                        \n",
       "19    US Dec Oil Demand Unchanged From Nov - EIA                                                                                                                                                          \n",
       "20    US Dec Oil Demand Up 400,000 B/D On Year - EIA                                                                                                                                                      \n",
       "21    Iraq Oil Exports Seen Rebounding To 2 Mln B/D -Sources                                                                                                                                              \n",
       "22    Nymex Close: Crude Gains On Likely OPEC Cut Extension                                                                                                                                               \n",
       "23    IPE Close: Brent Settles Up On Bullish OPEC Comments                                                                                                                                                \n",
       "24    First Report On French Oil Spill Blames Owners And Others                                                                                                                                           \n",
       "25    Korea Fin Min: Oil Price Rises No Major Impact On CPI                                                                                                                                               \n",
       "26    Energy Highlights: Iraqi Oil Exports Rebound To 2 Mln B/D                                                                                                                                           \n",
       "27    N.Y. Stocks: Rising Oil Prices, Slumping Bonds Weigh In                                                                                                                                             \n",
       "28    Canada Bonds Down, Pacing Treasurys As Oil Prices Rise                                                                                                                                              \n",
       "29    API: US Crude Stocks Up 0.812 Mln Bbl In Week                                                                                                                                                       \n",
       "30    Nymex Access Crude Dn On Stks Data After Nearing $30/Bbl                                                                                                                                            \n",
       "31    S Korea Sees '00 Crude Oil Imports +36.7% To $20.2B                                                                                                                                                 \n",
       "32    Petroleum Prices Fall in London, Relieving Some Inflation Worries ---- Associated Press News Service                                                                                                \n",
       "33    Singapore December Domestic Oil Exports +39.5% On Yr                                                                                                                                                \n",
       "34    DOE: US Crude Oil Stocks Dn 0.1 Mln Bbls In Week                                                                                                                                                    \n",
       "35    Ecuador Dec Crude Output 379,728 B/D, Up 2.3% On Yr                                                                                                                                                 \n",
       "36    Brazil Oil Spill Spreads; Petrobras Fires 2 -CBN Radio                                                                                                                                              \n",
       "37    WSJ(1/24): Commodities: Oil Futures Up In Frigid Weather Fri                                                                                                                                        \n",
       "38    Resumption of Iraqi Arms Inspections Is Impeded by Oil-Price Rise, U.N. Split ---- By Neil King Jr. Staff Reporter of The Wall Street Journal                                                       \n",
       "39    Greenpeace Protests As Brazil's Oil Spill Spreads                                                                                                                                                   \n",
       "40    Iraq Oil Exports Fall To 1.85M B/D, Price Up At $25.38                                                                                                                                              \n",
       "41    Midday US Spot Crude: Prices Sink With Crude Futures                                                                                                                                                \n",
       "42    Mexico's December Crude Export Price $22.15/Bbl - Fin Min                                                                                                                                           \n",
       "43    Exxon Mobil Budget-2: Sees 2000 Oil Production Up 4%>XOM                                                                                                                                            \n",
       "44    Ecuador's Dec Oil Exports -23.5% On Yr To 180,968 B/D                                                                                                                                               \n",
       "45    News Highlights: US Crude Stocks Dn 3.004 Mln Bbl In Week                                                                                                                                           \n",
       "46    IPE Close: Brent Settles Higher In Choppy Session                                                                                                                                                   \n",
       "47    API: US Crude Stocks Dn 3.004 Mln Bbl In Week                                                                                                                                                       \n",
       "48    Upton Resources Dec Oil Output Rises To 4,400 B/D >T.URC                                                                                                                                            \n",
       "49    DOE: US Crude Oil Stocks Dn 2.4 Mln Bbls In Week                                                                                                                                                    \n",
       "Name: Headline, dtype: object"
      ]
     },
     "execution_count": 49,
     "metadata": {},
     "output_type": "execute_result"
    }
   ],
   "source": [
    "sample"
   ]
  },
  {
   "cell_type": "code",
   "execution_count": 52,
   "id": "d831e0f1",
   "metadata": {},
   "outputs": [
    {
     "name": "stderr",
     "output_type": "stream",
     "text": [
      "06/30/2021 18:03:06 - INFO - finbert.utils -   *** Example ***\n",
      "06/30/2021 18:03:06 - INFO - finbert.utils -   guid: 0\n",
      "06/30/2021 18:03:06 - INFO - finbert.utils -   tokens: [CLS] india apr - nov oil imports $ 6 . 20 ##b vs $ 4 . 03 ##b ; + 53 . 86 % [SEP]\n",
      "06/30/2021 18:03:06 - INFO - finbert.utils -   input_ids: 101 2634 19804 1011 13292 3514 17589 1002 1020 1012 2322 2497 5443 1002 1018 1012 6021 2497 1025 1009 5187 1012 6564 1003 102 0 0 0 0 0 0 0 0 0 0 0 0 0 0 0 0 0 0 0 0 0 0 0 0 0 0 0 0 0 0 0 0 0 0 0 0 0 0 0\n",
      "06/30/2021 18:03:06 - INFO - finbert.utils -   attention_mask: 1 1 1 1 1 1 1 1 1 1 1 1 1 1 1 1 1 1 1 1 1 1 1 1 1 0 0 0 0 0 0 0 0 0 0 0 0 0 0 0 0 0 0 0 0 0 0 0 0 0 0 0 0 0 0 0 0 0 0 0 0 0 0 0\n",
      "06/30/2021 18:03:06 - INFO - finbert.utils -   token_type_ids: 0 0 0 0 0 0 0 0 0 0 0 0 0 0 0 0 0 0 0 0 0 0 0 0 0 0 0 0 0 0 0 0 0 0 0 0 0 0 0 0 0 0 0 0 0 0 0 0 0 0 0 0 0 0 0 0 0 0 0 0 0 0 0 0\n",
      "06/30/2021 18:03:06 - INFO - finbert.utils -   label: None (id = 9090)\n",
      "06/30/2021 18:03:08 - INFO - root -   tensor([[ 3.3882, -1.5367, -3.1972],\n",
      "        [ 2.7904, -0.3303, -4.0319],\n",
      "        [ 2.5515, -0.5031, -3.5959],\n",
      "        [-0.9978,  4.0808, -3.2066],\n",
      "        [ 3.7005, -2.4942, -3.3282],\n",
      "        [-1.3464,  4.0694, -2.7984],\n",
      "        [ 3.4971, -2.8356, -2.5454],\n",
      "        [-1.3771,  4.0679, -2.7016],\n",
      "        [-1.1381,  4.1294, -2.9229],\n",
      "        [-1.2633,  4.1151, -3.0455],\n",
      "        [-1.1835,  4.1057, -3.0945],\n",
      "        [-1.2288,  4.1899, -3.1427],\n",
      "        [ 3.7428, -1.8503, -3.2864],\n",
      "        [-1.1614,  3.6427, -2.9083],\n",
      "        [-1.4527,  4.0543, -2.6969],\n",
      "        [-1.7200,  4.4627, -2.4859],\n",
      "        [-1.6582,  4.5025, -2.5768],\n",
      "        [-1.7196,  4.4970, -2.4791],\n",
      "        [ 3.6667, -1.7426, -3.3143],\n",
      "        [-1.7546, -2.0577,  4.5064],\n",
      "        [ 3.7658, -1.6378, -3.6575],\n",
      "        [-2.0089,  4.3634, -1.7643],\n",
      "        [ 3.6591, -1.9252, -3.0499],\n",
      "        [ 3.5940, -1.8007, -3.1093],\n",
      "        [ 3.6536, -2.0002, -3.4448],\n",
      "        [ 3.7355, -1.8367, -3.2416],\n",
      "        [-1.8592,  4.3736, -1.9999],\n",
      "        [ 3.2133, -0.5415, -4.1725],\n",
      "        [ 1.4854,  1.8412, -4.1379],\n",
      "        [-1.7428,  4.4534, -2.4428],\n",
      "        [-1.4065,  4.0650, -2.7105],\n",
      "        [ 3.6167, -1.7906, -3.2790],\n",
      "        [-1.2100,  4.1438, -3.1029],\n",
      "        [-1.6167,  4.4189, -2.6521],\n",
      "        [ 3.6828, -2.5790, -3.2113],\n",
      "        [-1.8721,  4.4476, -2.1841],\n",
      "        [ 3.5887, -1.7918, -3.6600],\n",
      "        [ 3.8040, -1.6707, -3.5231],\n",
      "        [ 3.3168, -1.3625, -3.5617],\n",
      "        [ 3.5598, -1.9758, -3.4369],\n",
      "        [ 3.7334, -2.5019, -3.2343],\n",
      "        [-0.9978,  4.0808, -3.2066],\n",
      "        [-0.5859,  3.0815, -2.9394],\n",
      "        [-1.7631,  4.4540, -2.3383],\n",
      "        [ 3.6893, -2.2843, -3.4598],\n",
      "        [ 3.7061, -2.5210, -3.2933],\n",
      "        [ 3.6794, -1.8275, -3.2147],\n",
      "        [ 3.7050, -2.4657, -3.3603],\n",
      "        [-1.6511,  4.5178, -2.5599],\n",
      "        [ 3.6896, -2.5941, -3.1963]])\n"
     ]
    },
    {
     "name": "stdout",
     "output_type": "stream",
     "text": [
      " Time passed: 4.586670160293579 seconds \n"
     ]
    }
   ],
   "source": [
    "#if TypeError: expected string or bytes-like object -> re-run def predict(text, model, write_to_csv=False, path=None):\n",
    "start_time = time.time()\n",
    "df_sample = predict(sample , model)\n",
    "print(\" Time passed: {} seconds \".format(time.time() - start_time))"
   ]
  },
  {
   "cell_type": "code",
   "execution_count": 53,
   "id": "ca320922",
   "metadata": {
    "scrolled": true
   },
   "outputs": [
    {
     "data": {
      "text/html": [
       "<div>\n",
       "<style scoped>\n",
       "    .dataframe tbody tr th:only-of-type {\n",
       "        vertical-align: middle;\n",
       "    }\n",
       "\n",
       "    .dataframe tbody tr th {\n",
       "        vertical-align: top;\n",
       "    }\n",
       "\n",
       "    .dataframe thead th {\n",
       "        text-align: right;\n",
       "    }\n",
       "</style>\n",
       "<table border=\"1\" class=\"dataframe\">\n",
       "  <thead>\n",
       "    <tr style=\"text-align: right;\">\n",
       "      <th></th>\n",
       "      <th>sentence</th>\n",
       "      <th>logit</th>\n",
       "      <th>prediction</th>\n",
       "      <th>sentiment_score</th>\n",
       "    </tr>\n",
       "  </thead>\n",
       "  <tbody>\n",
       "    <tr>\n",
       "      <th>0</th>\n",
       "      <td>India Apr-Nov Oil Imports $6.20B Vs $4.03B; +53.86%</td>\n",
       "      <td>[0.99143, 0.007201431, 0.001368628]</td>\n",
       "      <td>positive</td>\n",
       "      <td>0.984229</td>\n",
       "    </tr>\n",
       "    <tr>\n",
       "      <th>1</th>\n",
       "      <td>Texaco and Chevron Missed the Boat on Big Stock Gains --- Their Returns Were Stagnant as Oil Prices Soared Amid Mergers Among Rivals ---- By Steve Liesman Staff Reporter of The Wall Street Journal</td>\n",
       "      <td>[0.95674115, 0.04221672, 0.0010420616]</td>\n",
       "      <td>positive</td>\n",
       "      <td>0.914524</td>\n",
       "    </tr>\n",
       "    <tr>\n",
       "      <th>2</th>\n",
       "      <td>Taiwan CPC Dec Crude Oil Imports 20.4M Bbl, US$23.79/Bbl</td>\n",
       "      <td>[0.9530355, 0.044925828, 0.002038634]</td>\n",
       "      <td>positive</td>\n",
       "      <td>0.908110</td>\n",
       "    </tr>\n",
       "    <tr>\n",
       "      <th>3</th>\n",
       "      <td>Midday US Spot Crude: Prices Sink With Crude Futures</td>\n",
       "      <td>[0.0061857277, 0.99313486, 0.0006794133]</td>\n",
       "      <td>negative</td>\n",
       "      <td>-0.986949</td>\n",
       "    </tr>\n",
       "    <tr>\n",
       "      <th>4</th>\n",
       "      <td>API: US Crude Stocks Dn 1.568 Mln Bbl In Week</td>\n",
       "      <td>[0.9970822, 0.0020342732, 0.0008834445]</td>\n",
       "      <td>positive</td>\n",
       "      <td>0.995048</td>\n",
       "    </tr>\n",
       "    <tr>\n",
       "      <th>5</th>\n",
       "      <td>Nymex Access Crude Down After 4th Straight Day Of Losses</td>\n",
       "      <td>[0.0044214576, 0.99454343, 0.0010351299]</td>\n",
       "      <td>negative</td>\n",
       "      <td>-0.990122</td>\n",
       "    </tr>\n",
       "    <tr>\n",
       "      <th>6</th>\n",
       "      <td>China's CNPC '99 Crude Output 107.08M MT; Dn 0.3%</td>\n",
       "      <td>[0.99586415, 0.0017699075, 0.0023658401]</td>\n",
       "      <td>positive</td>\n",
       "      <td>0.994094</td>\n",
       "    </tr>\n",
       "    <tr>\n",
       "      <th>7</th>\n",
       "      <td>Late US Spot Crude: Prices Lower After Choppy Day</td>\n",
       "      <td>[0.0042944127, 0.9945635, 0.0011420498]</td>\n",
       "      <td>negative</td>\n",
       "      <td>-0.990269</td>\n",
       "    </tr>\n",
       "    <tr>\n",
       "      <th>8</th>\n",
       "      <td>WSJ(1/7): Texaco Says Oil Find May Hold A Billion Barrels</td>\n",
       "      <td>[0.0051258565, 0.99401397, 0.0008602149]</td>\n",
       "      <td>negative</td>\n",
       "      <td>-0.988888</td>\n",
       "    </tr>\n",
       "    <tr>\n",
       "      <th>9</th>\n",
       "      <td>Nymex Midmorning:Crude Dn On Report Of Higher OPEC Output</td>\n",
       "      <td>[0.0045907963, 0.9946367, 0.00077243726]</td>\n",
       "      <td>negative</td>\n",
       "      <td>-0.990046</td>\n",
       "    </tr>\n",
       "    <tr>\n",
       "      <th>10</th>\n",
       "      <td>Nymex Midday: Crude Weakens After Morning Rally Fizzles</td>\n",
       "      <td>[0.005016695, 0.9942411, 0.00074215693]</td>\n",
       "      <td>negative</td>\n",
       "      <td>-0.989224</td>\n",
       "    </tr>\n",
       "    <tr>\n",
       "      <th>11</th>\n",
       "      <td>Midday US Spot Crude: Prices Slip; Differentials Strengthen</td>\n",
       "      <td>[0.0044106035, 0.99493885, 0.0006505746]</td>\n",
       "      <td>negative</td>\n",
       "      <td>-0.990528</td>\n",
       "    </tr>\n",
       "    <tr>\n",
       "      <th>12</th>\n",
       "      <td>Late US Spot Crude: Prices Rebound In Late Short-Covering</td>\n",
       "      <td>[0.9954123, 0.0037061318, 0.0008815638]</td>\n",
       "      <td>positive</td>\n",
       "      <td>0.991706</td>\n",
       "    </tr>\n",
       "    <tr>\n",
       "      <th>13</th>\n",
       "      <td>Colombia's Ecopetrol: To Sell Crude Cargo Tuesday</td>\n",
       "      <td>[0.00811755, 0.9904675, 0.001415003]</td>\n",
       "      <td>negative</td>\n",
       "      <td>-0.982350</td>\n",
       "    </tr>\n",
       "    <tr>\n",
       "      <th>14</th>\n",
       "      <td>Nymex Crude Drops Overnight On API Inventory Data</td>\n",
       "      <td>[0.0040372387, 0.99479926, 0.0011634602]</td>\n",
       "      <td>negative</td>\n",
       "      <td>-0.990762</td>\n",
       "    </tr>\n",
       "    <tr>\n",
       "      <th>15</th>\n",
       "      <td>API: US Crude Stocks Up 1.711 Mln Bbl In Week</td>\n",
       "      <td>[0.0020586287, 0.9969843, 0.00095713633]</td>\n",
       "      <td>negative</td>\n",
       "      <td>-0.994926</td>\n",
       "    </tr>\n",
       "    <tr>\n",
       "      <th>16</th>\n",
       "      <td>Energy Highlights: US Crude Stocks Up 1.711 Mln Bbl In Wk</td>\n",
       "      <td>[0.0021046305, 0.9970554, 0.0008399191]</td>\n",
       "      <td>negative</td>\n",
       "      <td>-0.994951</td>\n",
       "    </tr>\n",
       "    <tr>\n",
       "      <th>17</th>\n",
       "      <td>DOE: US Crude Oil Stocks Up 3.1 Mln Bbls In Week</td>\n",
       "      <td>[0.0019902468, 0.99707854, 0.0009312331]</td>\n",
       "      <td>negative</td>\n",
       "      <td>-0.995088</td>\n",
       "    </tr>\n",
       "    <tr>\n",
       "      <th>18</th>\n",
       "      <td>Thai Jan-Nov Oil Imports 732,930B/D; Up 3.7%</td>\n",
       "      <td>[0.9946249, 0.004450684, 0.0009243947]</td>\n",
       "      <td>positive</td>\n",
       "      <td>0.990174</td>\n",
       "    </tr>\n",
       "    <tr>\n",
       "      <th>19</th>\n",
       "      <td>US Dec Oil Demand Unchanged From Nov - EIA</td>\n",
       "      <td>[0.0019029703, 0.0014054297, 0.9966916]</td>\n",
       "      <td>neutral</td>\n",
       "      <td>0.000498</td>\n",
       "    </tr>\n",
       "    <tr>\n",
       "      <th>20</th>\n",
       "      <td>US Dec Oil Demand Up 400,000 B/D On Year - EIA</td>\n",
       "      <td>[0.99492836, 0.004477596, 0.0005941167]</td>\n",
       "      <td>positive</td>\n",
       "      <td>0.990451</td>\n",
       "    </tr>\n",
       "    <tr>\n",
       "      <th>21</th>\n",
       "      <td>Iraq Oil Exports Seen Rebounding To 2 Mln B/D -Sources</td>\n",
       "      <td>[0.001701668, 0.99612516, 0.0021732196]</td>\n",
       "      <td>negative</td>\n",
       "      <td>-0.994424</td>\n",
       "    </tr>\n",
       "    <tr>\n",
       "      <th>22</th>\n",
       "      <td>Nymex Close: Crude Gains On Likely OPEC Cut Extension</td>\n",
       "      <td>[0.9950486, 0.0037375756, 0.0012138454]</td>\n",
       "      <td>positive</td>\n",
       "      <td>0.991311</td>\n",
       "    </tr>\n",
       "    <tr>\n",
       "      <th>23</th>\n",
       "      <td>IPE Close: Brent Settles Up On Bullish OPEC Comments</td>\n",
       "      <td>[0.99426585, 0.004514453, 0.001219782]</td>\n",
       "      <td>positive</td>\n",
       "      <td>0.989751</td>\n",
       "    </tr>\n",
       "    <tr>\n",
       "      <th>24</th>\n",
       "      <td>First Report On French Oil Spill Blames Owners And Others</td>\n",
       "      <td>[0.99568814, 0.0034889528, 0.00082285673]</td>\n",
       "      <td>positive</td>\n",
       "      <td>0.992199</td>\n",
       "    </tr>\n",
       "    <tr>\n",
       "      <th>25</th>\n",
       "      <td>Korea Fin Min: Oil Price Rises No Major Impact On CPI</td>\n",
       "      <td>[0.9952873, 0.0037840374, 0.00092861213]</td>\n",
       "      <td>positive</td>\n",
       "      <td>0.991503</td>\n",
       "    </tr>\n",
       "    <tr>\n",
       "      <th>26</th>\n",
       "      <td>Energy Highlights: Iraqi Oil Exports Rebound To 2 Mln B/D</td>\n",
       "      <td>[0.0019567483, 0.9963431, 0.0017000677]</td>\n",
       "      <td>negative</td>\n",
       "      <td>-0.994386</td>\n",
       "    </tr>\n",
       "    <tr>\n",
       "      <th>27</th>\n",
       "      <td>N.Y. Stocks: Rising Oil Prices, Slumping Bonds Weigh In</td>\n",
       "      <td>[0.97653884, 0.022855707, 0.0006054675]</td>\n",
       "      <td>positive</td>\n",
       "      <td>0.953683</td>\n",
       "    </tr>\n",
       "    <tr>\n",
       "      <th>28</th>\n",
       "      <td>Canada Bonds Down, Pacing Treasurys As Oil Prices Rise</td>\n",
       "      <td>[0.4113669, 0.58714694, 0.0014861447]</td>\n",
       "      <td>negative</td>\n",
       "      <td>-0.175780</td>\n",
       "    </tr>\n",
       "    <tr>\n",
       "      <th>29</th>\n",
       "      <td>API: US Crude Stocks Up 0.812 Mln Bbl In Week</td>\n",
       "      <td>[0.002030864, 0.9969606, 0.0010084887]</td>\n",
       "      <td>negative</td>\n",
       "      <td>-0.994930</td>\n",
       "    </tr>\n",
       "    <tr>\n",
       "      <th>30</th>\n",
       "      <td>Nymex Access Crude Dn On Stks Data After Nearing $30/Bbl</td>\n",
       "      <td>[0.0041824956, 0.99468225, 0.0011352793]</td>\n",
       "      <td>negative</td>\n",
       "      <td>-0.990500</td>\n",
       "    </tr>\n",
       "    <tr>\n",
       "      <th>31</th>\n",
       "      <td>S Korea Sees '00 Crude Oil Imports +36.7% To $20.2B</td>\n",
       "      <td>[0.9945345, 0.0044590156, 0.0010065777]</td>\n",
       "      <td>positive</td>\n",
       "      <td>0.990075</td>\n",
       "    </tr>\n",
       "    <tr>\n",
       "      <th>32</th>\n",
       "      <td>Petroleum Prices Fall in London, Relieving Some Inflation Worries ---- Associated Press News Service</td>\n",
       "      <td>[0.00470452, 0.9945868, 0.0007086254]</td>\n",
       "      <td>negative</td>\n",
       "      <td>-0.989882</td>\n",
       "    </tr>\n",
       "    <tr>\n",
       "      <th>33</th>\n",
       "      <td>Singapore December Domestic Oil Exports +39.5% On Yr</td>\n",
       "      <td>[0.002384266, 0.9967691, 0.0008466179]</td>\n",
       "      <td>negative</td>\n",
       "      <td>-0.994385</td>\n",
       "    </tr>\n",
       "    <tr>\n",
       "      <th>34</th>\n",
       "      <td>DOE: US Crude Oil Stocks Dn 0.1 Mln Bbls In Week</td>\n",
       "      <td>[0.9970868, 0.0019023509, 0.0010107686]</td>\n",
       "      <td>positive</td>\n",
       "      <td>0.995184</td>\n",
       "    </tr>\n",
       "    <tr>\n",
       "      <th>35</th>\n",
       "      <td>Ecuador Dec Crude Output 379,728 B/D, Up 2.3% On Yr</td>\n",
       "      <td>[0.0017949868, 0.9968912, 0.0013138315]</td>\n",
       "      <td>negative</td>\n",
       "      <td>-0.995096</td>\n",
       "    </tr>\n",
       "    <tr>\n",
       "      <th>36</th>\n",
       "      <td>Brazil Oil Spill Spreads; Petrobras Fires 2 -CBN Radio</td>\n",
       "      <td>[0.9947119, 0.0045808544, 0.0007072861]</td>\n",
       "      <td>positive</td>\n",
       "      <td>0.990131</td>\n",
       "    </tr>\n",
       "    <tr>\n",
       "      <th>37</th>\n",
       "      <td>WSJ(1/24): Commodities: Oil Futures Up In Frigid Weather Fri</td>\n",
       "      <td>[0.9951746, 0.0041712145, 0.000654325]</td>\n",
       "      <td>positive</td>\n",
       "      <td>0.991003</td>\n",
       "    </tr>\n",
       "    <tr>\n",
       "      <th>38</th>\n",
       "      <td>Resumption of Iraqi Arms Inspections Is Impeded by Oil-Price Rise, U.N. Split ---- By Neil King Jr. Staff Reporter of The Wall Street Journal</td>\n",
       "      <td>[0.98979086, 0.00919005, 0.0010191179]</td>\n",
       "      <td>positive</td>\n",
       "      <td>0.980601</td>\n",
       "    </tr>\n",
       "    <tr>\n",
       "      <th>39</th>\n",
       "      <td>Greenpeace Protests As Brazil's Oil Spill Spreads</td>\n",
       "      <td>[0.9951651, 0.0039245463, 0.00091041776]</td>\n",
       "      <td>positive</td>\n",
       "      <td>0.991241</td>\n",
       "    </tr>\n",
       "    <tr>\n",
       "      <th>40</th>\n",
       "      <td>Iraq Oil Exports Fall To 1.85M B/D, Price Up At $25.38</td>\n",
       "      <td>[0.99710745, 0.0019534398, 0.0009390892]</td>\n",
       "      <td>positive</td>\n",
       "      <td>0.995154</td>\n",
       "    </tr>\n",
       "    <tr>\n",
       "      <th>41</th>\n",
       "      <td>Midday US Spot Crude: Prices Sink With Crude Futures</td>\n",
       "      <td>[0.0061857277, 0.99313486, 0.0006794133]</td>\n",
       "      <td>negative</td>\n",
       "      <td>-0.986949</td>\n",
       "    </tr>\n",
       "    <tr>\n",
       "      <th>42</th>\n",
       "      <td>Mexico's December Crude Export Price $22.15/Bbl - Fin Min</td>\n",
       "      <td>[0.024847599, 0.9727911, 0.0023613013]</td>\n",
       "      <td>negative</td>\n",
       "      <td>-0.947943</td>\n",
       "    </tr>\n",
       "    <tr>\n",
       "      <th>43</th>\n",
       "      <td>Exxon Mobil Budget-2: Sees 2000 Oil Production Up 4%&gt;XOM</td>\n",
       "      <td>[0.001988805, 0.9968923, 0.0011189579]</td>\n",
       "      <td>negative</td>\n",
       "      <td>-0.994903</td>\n",
       "    </tr>\n",
       "    <tr>\n",
       "      <th>44</th>\n",
       "      <td>Ecuador's Dec Oil Exports -23.5% On Yr To 180,968 B/D</td>\n",
       "      <td>[0.99668044, 0.002536537, 0.0007829665]</td>\n",
       "      <td>positive</td>\n",
       "      <td>0.994144</td>\n",
       "    </tr>\n",
       "    <tr>\n",
       "      <th>45</th>\n",
       "      <td>News Highlights: US Crude Stocks Dn 3.004 Mln Bbl In Week</td>\n",
       "      <td>[0.9971206, 0.0019695605, 0.0009098032]</td>\n",
       "      <td>positive</td>\n",
       "      <td>0.995151</td>\n",
       "    </tr>\n",
       "    <tr>\n",
       "      <th>46</th>\n",
       "      <td>IPE Close: Brent Settles Higher In Choppy Session</td>\n",
       "      <td>[0.99495345, 0.004038023, 0.0010085491]</td>\n",
       "      <td>positive</td>\n",
       "      <td>0.990915</td>\n",
       "    </tr>\n",
       "    <tr>\n",
       "      <th>47</th>\n",
       "      <td>API: US Crude Stocks Dn 3.004 Mln Bbl In Week</td>\n",
       "      <td>[0.99706465, 0.0020836324, 0.0008517563]</td>\n",
       "      <td>positive</td>\n",
       "      <td>0.994981</td>\n",
       "    </tr>\n",
       "    <tr>\n",
       "      <th>48</th>\n",
       "      <td>Upton Resources Dec Oil Output Rises To 4,400 B/D &gt;T.URC</td>\n",
       "      <td>[0.0020874946, 0.99707115, 0.00084127433]</td>\n",
       "      <td>negative</td>\n",
       "      <td>-0.994984</td>\n",
       "    </tr>\n",
       "    <tr>\n",
       "      <th>49</th>\n",
       "      <td>DOE: US Crude Oil Stocks Dn 2.4 Mln Bbls In Week</td>\n",
       "      <td>[0.9971198, 0.00186109, 0.0010191232]</td>\n",
       "      <td>positive</td>\n",
       "      <td>0.995259</td>\n",
       "    </tr>\n",
       "  </tbody>\n",
       "</table>\n",
       "</div>"
      ],
      "text/plain": [
       "                                                                                                                                                                                                sentence  \\\n",
       "0   India Apr-Nov Oil Imports $6.20B Vs $4.03B; +53.86%                                                                                                                                                    \n",
       "1   Texaco and Chevron Missed the Boat on Big Stock Gains --- Their Returns Were Stagnant as Oil Prices Soared Amid Mergers Among Rivals ---- By Steve Liesman Staff Reporter of The Wall Street Journal   \n",
       "2   Taiwan CPC Dec Crude Oil Imports 20.4M Bbl, US$23.79/Bbl                                                                                                                                               \n",
       "3   Midday US Spot Crude: Prices Sink With Crude Futures                                                                                                                                                   \n",
       "4   API: US Crude Stocks Dn 1.568 Mln Bbl In Week                                                                                                                                                          \n",
       "5   Nymex Access Crude Down After 4th Straight Day Of Losses                                                                                                                                               \n",
       "6   China's CNPC '99 Crude Output 107.08M MT; Dn 0.3%                                                                                                                                                      \n",
       "7   Late US Spot Crude: Prices Lower After Choppy Day                                                                                                                                                      \n",
       "8   WSJ(1/7): Texaco Says Oil Find May Hold A Billion Barrels                                                                                                                                              \n",
       "9   Nymex Midmorning:Crude Dn On Report Of Higher OPEC Output                                                                                                                                              \n",
       "10  Nymex Midday: Crude Weakens After Morning Rally Fizzles                                                                                                                                                \n",
       "11  Midday US Spot Crude: Prices Slip; Differentials Strengthen                                                                                                                                            \n",
       "12  Late US Spot Crude: Prices Rebound In Late Short-Covering                                                                                                                                              \n",
       "13  Colombia's Ecopetrol: To Sell Crude Cargo Tuesday                                                                                                                                                      \n",
       "14  Nymex Crude Drops Overnight On API Inventory Data                                                                                                                                                      \n",
       "15  API: US Crude Stocks Up 1.711 Mln Bbl In Week                                                                                                                                                          \n",
       "16  Energy Highlights: US Crude Stocks Up 1.711 Mln Bbl In Wk                                                                                                                                              \n",
       "17  DOE: US Crude Oil Stocks Up 3.1 Mln Bbls In Week                                                                                                                                                       \n",
       "18  Thai Jan-Nov Oil Imports 732,930B/D; Up 3.7%                                                                                                                                                           \n",
       "19  US Dec Oil Demand Unchanged From Nov - EIA                                                                                                                                                             \n",
       "20  US Dec Oil Demand Up 400,000 B/D On Year - EIA                                                                                                                                                         \n",
       "21  Iraq Oil Exports Seen Rebounding To 2 Mln B/D -Sources                                                                                                                                                 \n",
       "22  Nymex Close: Crude Gains On Likely OPEC Cut Extension                                                                                                                                                  \n",
       "23  IPE Close: Brent Settles Up On Bullish OPEC Comments                                                                                                                                                   \n",
       "24  First Report On French Oil Spill Blames Owners And Others                                                                                                                                              \n",
       "25  Korea Fin Min: Oil Price Rises No Major Impact On CPI                                                                                                                                                  \n",
       "26  Energy Highlights: Iraqi Oil Exports Rebound To 2 Mln B/D                                                                                                                                              \n",
       "27  N.Y. Stocks: Rising Oil Prices, Slumping Bonds Weigh In                                                                                                                                                \n",
       "28  Canada Bonds Down, Pacing Treasurys As Oil Prices Rise                                                                                                                                                 \n",
       "29  API: US Crude Stocks Up 0.812 Mln Bbl In Week                                                                                                                                                          \n",
       "30  Nymex Access Crude Dn On Stks Data After Nearing $30/Bbl                                                                                                                                               \n",
       "31  S Korea Sees '00 Crude Oil Imports +36.7% To $20.2B                                                                                                                                                    \n",
       "32  Petroleum Prices Fall in London, Relieving Some Inflation Worries ---- Associated Press News Service                                                                                                   \n",
       "33  Singapore December Domestic Oil Exports +39.5% On Yr                                                                                                                                                   \n",
       "34  DOE: US Crude Oil Stocks Dn 0.1 Mln Bbls In Week                                                                                                                                                       \n",
       "35  Ecuador Dec Crude Output 379,728 B/D, Up 2.3% On Yr                                                                                                                                                    \n",
       "36  Brazil Oil Spill Spreads; Petrobras Fires 2 -CBN Radio                                                                                                                                                 \n",
       "37  WSJ(1/24): Commodities: Oil Futures Up In Frigid Weather Fri                                                                                                                                           \n",
       "38  Resumption of Iraqi Arms Inspections Is Impeded by Oil-Price Rise, U.N. Split ---- By Neil King Jr. Staff Reporter of The Wall Street Journal                                                          \n",
       "39  Greenpeace Protests As Brazil's Oil Spill Spreads                                                                                                                                                      \n",
       "40  Iraq Oil Exports Fall To 1.85M B/D, Price Up At $25.38                                                                                                                                                 \n",
       "41  Midday US Spot Crude: Prices Sink With Crude Futures                                                                                                                                                   \n",
       "42  Mexico's December Crude Export Price $22.15/Bbl - Fin Min                                                                                                                                              \n",
       "43  Exxon Mobil Budget-2: Sees 2000 Oil Production Up 4%>XOM                                                                                                                                               \n",
       "44  Ecuador's Dec Oil Exports -23.5% On Yr To 180,968 B/D                                                                                                                                                  \n",
       "45  News Highlights: US Crude Stocks Dn 3.004 Mln Bbl In Week                                                                                                                                              \n",
       "46  IPE Close: Brent Settles Higher In Choppy Session                                                                                                                                                      \n",
       "47  API: US Crude Stocks Dn 3.004 Mln Bbl In Week                                                                                                                                                          \n",
       "48  Upton Resources Dec Oil Output Rises To 4,400 B/D >T.URC                                                                                                                                               \n",
       "49  DOE: US Crude Oil Stocks Dn 2.4 Mln Bbls In Week                                                                                                                                                       \n",
       "\n",
       "                                        logit prediction  sentiment_score  \n",
       "0   [0.99143, 0.007201431, 0.001368628]        positive   0.984229         \n",
       "1   [0.95674115, 0.04221672, 0.0010420616]     positive   0.914524         \n",
       "2   [0.9530355, 0.044925828, 0.002038634]      positive   0.908110         \n",
       "3   [0.0061857277, 0.99313486, 0.0006794133]   negative  -0.986949         \n",
       "4   [0.9970822, 0.0020342732, 0.0008834445]    positive   0.995048         \n",
       "5   [0.0044214576, 0.99454343, 0.0010351299]   negative  -0.990122         \n",
       "6   [0.99586415, 0.0017699075, 0.0023658401]   positive   0.994094         \n",
       "7   [0.0042944127, 0.9945635, 0.0011420498]    negative  -0.990269         \n",
       "8   [0.0051258565, 0.99401397, 0.0008602149]   negative  -0.988888         \n",
       "9   [0.0045907963, 0.9946367, 0.00077243726]   negative  -0.990046         \n",
       "10  [0.005016695, 0.9942411, 0.00074215693]    negative  -0.989224         \n",
       "11  [0.0044106035, 0.99493885, 0.0006505746]   negative  -0.990528         \n",
       "12  [0.9954123, 0.0037061318, 0.0008815638]    positive   0.991706         \n",
       "13  [0.00811755, 0.9904675, 0.001415003]       negative  -0.982350         \n",
       "14  [0.0040372387, 0.99479926, 0.0011634602]   negative  -0.990762         \n",
       "15  [0.0020586287, 0.9969843, 0.00095713633]   negative  -0.994926         \n",
       "16  [0.0021046305, 0.9970554, 0.0008399191]    negative  -0.994951         \n",
       "17  [0.0019902468, 0.99707854, 0.0009312331]   negative  -0.995088         \n",
       "18  [0.9946249, 0.004450684, 0.0009243947]     positive   0.990174         \n",
       "19  [0.0019029703, 0.0014054297, 0.9966916]    neutral    0.000498         \n",
       "20  [0.99492836, 0.004477596, 0.0005941167]    positive   0.990451         \n",
       "21  [0.001701668, 0.99612516, 0.0021732196]    negative  -0.994424         \n",
       "22  [0.9950486, 0.0037375756, 0.0012138454]    positive   0.991311         \n",
       "23  [0.99426585, 0.004514453, 0.001219782]     positive   0.989751         \n",
       "24  [0.99568814, 0.0034889528, 0.00082285673]  positive   0.992199         \n",
       "25  [0.9952873, 0.0037840374, 0.00092861213]   positive   0.991503         \n",
       "26  [0.0019567483, 0.9963431, 0.0017000677]    negative  -0.994386         \n",
       "27  [0.97653884, 0.022855707, 0.0006054675]    positive   0.953683         \n",
       "28  [0.4113669, 0.58714694, 0.0014861447]      negative  -0.175780         \n",
       "29  [0.002030864, 0.9969606, 0.0010084887]     negative  -0.994930         \n",
       "30  [0.0041824956, 0.99468225, 0.0011352793]   negative  -0.990500         \n",
       "31  [0.9945345, 0.0044590156, 0.0010065777]    positive   0.990075         \n",
       "32  [0.00470452, 0.9945868, 0.0007086254]      negative  -0.989882         \n",
       "33  [0.002384266, 0.9967691, 0.0008466179]     negative  -0.994385         \n",
       "34  [0.9970868, 0.0019023509, 0.0010107686]    positive   0.995184         \n",
       "35  [0.0017949868, 0.9968912, 0.0013138315]    negative  -0.995096         \n",
       "36  [0.9947119, 0.0045808544, 0.0007072861]    positive   0.990131         \n",
       "37  [0.9951746, 0.0041712145, 0.000654325]     positive   0.991003         \n",
       "38  [0.98979086, 0.00919005, 0.0010191179]     positive   0.980601         \n",
       "39  [0.9951651, 0.0039245463, 0.00091041776]   positive   0.991241         \n",
       "40  [0.99710745, 0.0019534398, 0.0009390892]   positive   0.995154         \n",
       "41  [0.0061857277, 0.99313486, 0.0006794133]   negative  -0.986949         \n",
       "42  [0.024847599, 0.9727911, 0.0023613013]     negative  -0.947943         \n",
       "43  [0.001988805, 0.9968923, 0.0011189579]     negative  -0.994903         \n",
       "44  [0.99668044, 0.002536537, 0.0007829665]    positive   0.994144         \n",
       "45  [0.9971206, 0.0019695605, 0.0009098032]    positive   0.995151         \n",
       "46  [0.99495345, 0.004038023, 0.0010085491]    positive   0.990915         \n",
       "47  [0.99706465, 0.0020836324, 0.0008517563]   positive   0.994981         \n",
       "48  [0.0020874946, 0.99707115, 0.00084127433]  negative  -0.994984         \n",
       "49  [0.9971198, 0.00186109, 0.0010191232]      positive   0.995259         "
      ]
     },
     "execution_count": 53,
     "metadata": {},
     "output_type": "execute_result"
    }
   ],
   "source": [
    "df_sample"
   ]
  },
  {
   "cell_type": "markdown",
   "id": "cb5c9674",
   "metadata": {},
   "source": [
    "### Perform Sentiment Analysis on each slice"
   ]
  },
  {
   "cell_type": "code",
   "execution_count": 54,
   "id": "38bfbabc",
   "metadata": {
    "scrolled": true
   },
   "outputs": [
    {
     "name": "stderr",
     "output_type": "stream",
     "text": [
      "06/30/2021 18:03:16 - INFO - finbert.utils -   *** Example ***\n",
      "06/30/2021 18:03:16 - INFO - finbert.utils -   guid: 0\n",
      "06/30/2021 18:03:16 - INFO - finbert.utils -   tokens: [CLS] india apr - nov oil imports $ 6 . 20 ##b vs $ 4 . 03 ##b ; + 53 . 86 % [SEP]\n",
      "06/30/2021 18:03:16 - INFO - finbert.utils -   input_ids: 101 2634 19804 1011 13292 3514 17589 1002 1020 1012 2322 2497 5443 1002 1018 1012 6021 2497 1025 1009 5187 1012 6564 1003 102 0 0 0 0 0 0 0 0 0 0 0 0 0 0 0 0 0 0 0 0 0 0 0 0 0 0 0 0 0 0 0 0 0 0 0 0 0 0 0\n",
      "06/30/2021 18:03:16 - INFO - finbert.utils -   attention_mask: 1 1 1 1 1 1 1 1 1 1 1 1 1 1 1 1 1 1 1 1 1 1 1 1 1 0 0 0 0 0 0 0 0 0 0 0 0 0 0 0 0 0 0 0 0 0 0 0 0 0 0 0 0 0 0 0 0 0 0 0 0 0 0 0\n",
      "06/30/2021 18:03:16 - INFO - finbert.utils -   token_type_ids: 0 0 0 0 0 0 0 0 0 0 0 0 0 0 0 0 0 0 0 0 0 0 0 0 0 0 0 0 0 0 0 0 0 0 0 0 0 0 0 0 0 0 0 0 0 0 0 0 0 0 0 0 0 0 0 0 0 0 0 0 0 0 0 0\n",
      "06/30/2021 18:03:16 - INFO - finbert.utils -   label: None (id = 9090)\n",
      "06/30/2021 18:10:08 - INFO - root -   tensor([[ 3.3882, -1.5367, -3.1972],\n",
      "        [ 2.7904, -0.3303, -4.0319],\n",
      "        [ 2.5515, -0.5031, -3.5959],\n",
      "        ...,\n",
      "        [ 3.6098, -2.6297, -3.0739],\n",
      "        [ 3.1593, -0.8672, -3.9221],\n",
      "        [ 3.6168, -1.7677, -3.2501]])\n"
     ]
    },
    {
     "name": "stdout",
     "output_type": "stream",
     "text": [
      " Time passed: 414.11381936073303 seconds \n"
     ]
    }
   ],
   "source": [
    "start_time = time.time()\n",
    "df_analyzed_news_text_first_quarter = predict(news_text_first_quarter , model)\n",
    "print(\" Time passed: {} seconds \".format(time.time() - start_time))"
   ]
  },
  {
   "cell_type": "code",
   "execution_count": 55,
   "id": "a99ea760",
   "metadata": {
    "scrolled": true
   },
   "outputs": [
    {
     "name": "stderr",
     "output_type": "stream",
     "text": [
      "06/30/2021 18:10:10 - INFO - finbert.utils -   *** Example ***\n",
      "06/30/2021 18:10:10 - INFO - finbert.utils -   guid: 0\n",
      "06/30/2021 18:10:10 - INFO - finbert.utils -   tokens: [CLS] china jun crude oil exports 1 . 42 ml ##n tons , + 550 % - source [SEP]\n",
      "06/30/2021 18:10:10 - INFO - finbert.utils -   input_ids: 101 2859 12022 13587 3514 14338 1015 1012 4413 19875 2078 6197 1010 1009 13274 1003 1011 3120 102 0 0 0 0 0 0 0 0 0 0 0 0 0 0 0 0 0 0 0 0 0 0 0 0 0 0 0 0 0 0 0 0 0 0 0 0 0 0 0 0 0 0 0 0 0\n",
      "06/30/2021 18:10:10 - INFO - finbert.utils -   attention_mask: 1 1 1 1 1 1 1 1 1 1 1 1 1 1 1 1 1 1 1 0 0 0 0 0 0 0 0 0 0 0 0 0 0 0 0 0 0 0 0 0 0 0 0 0 0 0 0 0 0 0 0 0 0 0 0 0 0 0 0 0 0 0 0 0\n",
      "06/30/2021 18:10:10 - INFO - finbert.utils -   token_type_ids: 0 0 0 0 0 0 0 0 0 0 0 0 0 0 0 0 0 0 0 0 0 0 0 0 0 0 0 0 0 0 0 0 0 0 0 0 0 0 0 0 0 0 0 0 0 0 0 0 0 0 0 0 0 0 0 0 0 0 0 0 0 0 0 0\n",
      "06/30/2021 18:10:10 - INFO - finbert.utils -   label: None (id = 9090)\n",
      "06/30/2021 18:16:49 - INFO - root -   tensor([[-1.6894,  4.3277, -2.3927],\n",
      "        [ 0.1159,  2.0094, -2.7653],\n",
      "        [ 3.6921, -1.7683, -3.4125],\n",
      "        ...,\n",
      "        [-1.3364,  4.0637, -3.0921],\n",
      "        [ 3.5995, -1.8517, -3.2024],\n",
      "        [-0.2425,  3.5416, -3.7456]])\n"
     ]
    },
    {
     "name": "stdout",
     "output_type": "stream",
     "text": [
      " Time passed: 400.8982276916504 seconds \n"
     ]
    }
   ],
   "source": [
    "start_time = time.time()\n",
    "news_text_second_quarter = news_text_second_quarter.reset_index(drop=True) #avoids conflict with len of df and expected index\n",
    "df_analyzed_news_text_second_quarter = predict(news_text_second_quarter , model)\n",
    "print(\" Time passed: {} seconds \".format(time.time() - start_time))"
   ]
  },
  {
   "cell_type": "code",
   "execution_count": 56,
   "id": "c9419a5b",
   "metadata": {},
   "outputs": [
    {
     "name": "stderr",
     "output_type": "stream",
     "text": [
      "06/30/2021 18:16:51 - INFO - finbert.utils -   *** Example ***\n",
      "06/30/2021 18:16:51 - INFO - finbert.utils -   guid: 0\n",
      "06/30/2021 18:16:51 - INFO - finbert.utils -   tokens: [CLS] officials : pirates seize oil tanker in ivory coast [SEP]\n",
      "06/30/2021 18:16:51 - INFO - finbert.utils -   input_ids: 101 4584 1024 8350 15126 3514 20135 1999 11554 3023 102 0 0 0 0 0 0 0 0 0 0 0 0 0 0 0 0 0 0 0 0 0 0 0 0 0 0 0 0 0 0 0 0 0 0 0 0 0 0 0 0 0 0 0 0 0 0 0 0 0 0 0 0 0\n",
      "06/30/2021 18:16:51 - INFO - finbert.utils -   attention_mask: 1 1 1 1 1 1 1 1 1 1 1 0 0 0 0 0 0 0 0 0 0 0 0 0 0 0 0 0 0 0 0 0 0 0 0 0 0 0 0 0 0 0 0 0 0 0 0 0 0 0 0 0 0 0 0 0 0 0 0 0 0 0 0 0\n",
      "06/30/2021 18:16:51 - INFO - finbert.utils -   token_type_ids: 0 0 0 0 0 0 0 0 0 0 0 0 0 0 0 0 0 0 0 0 0 0 0 0 0 0 0 0 0 0 0 0 0 0 0 0 0 0 0 0 0 0 0 0 0 0 0 0 0 0 0 0 0 0 0 0 0 0 0 0 0 0 0 0\n",
      "06/30/2021 18:16:51 - INFO - finbert.utils -   label: None (id = 9090)\n",
      "06/30/2021 18:23:19 - INFO - root -   tensor([[ 2.8973, -0.7864, -4.0113],\n",
      "        [ 3.7671, -1.7310, -3.4254],\n",
      "        [ 2.9563, -0.6792, -3.9921],\n",
      "        ...,\n",
      "        [ 0.0728,  2.1946, -2.9557],\n",
      "        [ 3.6628, -2.7601, -2.9590],\n",
      "        [ 3.6997, -1.4541, -3.7167]])\n"
     ]
    },
    {
     "name": "stdout",
     "output_type": "stream",
     "text": [
      " Time passed: 390.4211747646332 seconds \n"
     ]
    }
   ],
   "source": [
    "start_time = time.time()\n",
    "news_text_third_quarter = news_text_third_quarter.reset_index(drop=True)\n",
    "df_analyzed_news_text_third_quarter = predict(news_text_third_quarter , model)\n",
    "print(\" Time passed: {} seconds \".format(time.time() - start_time))"
   ]
  },
  {
   "cell_type": "code",
   "execution_count": 57,
   "id": "3d747702",
   "metadata": {},
   "outputs": [
    {
     "name": "stderr",
     "output_type": "stream",
     "text": [
      "06/30/2021 18:23:22 - INFO - finbert.utils -   *** Example ***\n",
      "06/30/2021 18:23:22 - INFO - finbert.utils -   guid: 0\n",
      "06/30/2021 18:23:22 - INFO - finbert.utils -   tokens: [CLS] bloomberg brief : kuwait & uae oil production cuts ( audio ) [SEP]\n",
      "06/30/2021 18:23:22 - INFO - finbert.utils -   input_ids: 101 22950 4766 1024 13085 1004 17641 3514 2537 7659 1006 5746 1007 102 0 0 0 0 0 0 0 0 0 0 0 0 0 0 0 0 0 0 0 0 0 0 0 0 0 0 0 0 0 0 0 0 0 0 0 0 0 0 0 0 0 0 0 0 0 0 0 0 0 0\n",
      "06/30/2021 18:23:22 - INFO - finbert.utils -   attention_mask: 1 1 1 1 1 1 1 1 1 1 1 1 1 1 0 0 0 0 0 0 0 0 0 0 0 0 0 0 0 0 0 0 0 0 0 0 0 0 0 0 0 0 0 0 0 0 0 0 0 0 0 0 0 0 0 0 0 0 0 0 0 0 0 0\n",
      "06/30/2021 18:23:22 - INFO - finbert.utils -   token_type_ids: 0 0 0 0 0 0 0 0 0 0 0 0 0 0 0 0 0 0 0 0 0 0 0 0 0 0 0 0 0 0 0 0 0 0 0 0 0 0 0 0 0 0 0 0 0 0 0 0 0 0 0 0 0 0 0 0 0 0 0 0 0 0 0 0\n",
      "06/30/2021 18:23:22 - INFO - finbert.utils -   label: None (id = 9090)\n",
      "06/30/2021 18:29:52 - INFO - root -   tensor([[ 3.7590, -2.2832, -3.3332],\n",
      "        [-1.3160,  4.4496, -3.0023],\n",
      "        [ 3.6497, -1.6541, -3.3898],\n",
      "        ...,\n",
      "        [ 3.5770, -2.2353, -3.3148],\n",
      "        [-1.5386,  4.2794, -2.4714],\n",
      "        [-1.5338,  4.4159, -2.6571]])\n"
     ]
    },
    {
     "name": "stdout",
     "output_type": "stream",
     "text": [
      " Time passed: 392.30889439582825 seconds \n"
     ]
    }
   ],
   "source": [
    "start_time = time.time()\n",
    "news_text_fourth_quarter =news_text_fourth_quarter.reset_index(drop=True)\n",
    "df_analyzed_news_text_fourth_quarter = predict(news_text_fourth_quarter , model)\n",
    "print(\" Time passed: {} seconds \".format(time.time() - start_time))"
   ]
  },
  {
   "cell_type": "markdown",
   "id": "93a6aa9e",
   "metadata": {},
   "source": [
    "### Concatenate the slices"
   ]
  },
  {
   "cell_type": "code",
   "execution_count": 58,
   "id": "27a5ff2e",
   "metadata": {},
   "outputs": [],
   "source": [
    "quarters = [df_analyzed_news_text_first_quarter, df_analyzed_news_text_second_quarter, df_analyzed_news_text_third_quarter, df_analyzed_news_text_fourth_quarter]\n",
    "df_analyzed_news_text_full = pd.concat(quarters)\n",
    "df_analyzed_news_text_full = df_analyzed_news_text_full.reset_index(drop=True)"
   ]
  },
  {
   "cell_type": "markdown",
   "id": "d60d261a",
   "metadata": {},
   "source": [
    "### Verify if sum of concatenated slices have the same size as the initial dataframe"
   ]
  },
  {
   "cell_type": "code",
   "execution_count": 59,
   "id": "1f2bc548",
   "metadata": {},
   "outputs": [
    {
     "data": {
      "text/plain": [
       "True"
      ]
     },
     "execution_count": 59,
     "metadata": {},
     "output_type": "execute_result"
    }
   ],
   "source": [
    "#Check if same size\n",
    "len(news) == len(df_analyzed_news_text_full)"
   ]
  },
  {
   "cell_type": "markdown",
   "id": "8f6ca77d",
   "metadata": {},
   "source": [
    "### Apply the binary sentiment scores neg = -1, neu = 0, pos = 1 (Optional)"
   ]
  },
  {
   "cell_type": "code",
   "execution_count": 496,
   "id": "8889ed4d",
   "metadata": {},
   "outputs": [],
   "source": [
    "\"\"\"\n",
    "sentiment_score_binary = df_analyzed_news_text_full.prediction.apply(oneHot)\n",
    "sentiment_score_binary = sentiment_score_binary.reset_index(drop=True)\n",
    "df_analyzed_news_text_full['sentiment_score_binary'] = sentiment_score_binary\n",
    "\"\"\""
   ]
  },
  {
   "cell_type": "code",
   "execution_count": 60,
   "id": "be271ee1",
   "metadata": {},
   "outputs": [
    {
     "data": {
      "text/html": [
       "<div>\n",
       "<style scoped>\n",
       "    .dataframe tbody tr th:only-of-type {\n",
       "        vertical-align: middle;\n",
       "    }\n",
       "\n",
       "    .dataframe tbody tr th {\n",
       "        vertical-align: top;\n",
       "    }\n",
       "\n",
       "    .dataframe thead th {\n",
       "        text-align: right;\n",
       "    }\n",
       "</style>\n",
       "<table border=\"1\" class=\"dataframe\">\n",
       "  <thead>\n",
       "    <tr style=\"text-align: right;\">\n",
       "      <th></th>\n",
       "      <th>sentence</th>\n",
       "      <th>logit</th>\n",
       "      <th>prediction</th>\n",
       "      <th>sentiment_score</th>\n",
       "    </tr>\n",
       "  </thead>\n",
       "  <tbody>\n",
       "    <tr>\n",
       "      <th>0</th>\n",
       "      <td>India Apr-Nov Oil Imports $6.20B Vs $4.03B; +53.86%</td>\n",
       "      <td>[0.99143, 0.007201431, 0.001368628]</td>\n",
       "      <td>positive</td>\n",
       "      <td>0.984229</td>\n",
       "    </tr>\n",
       "    <tr>\n",
       "      <th>1</th>\n",
       "      <td>Texaco and Chevron Missed the Boat on Big Stock Gains --- Their Returns Were Stagnant as Oil Prices Soared Amid Mergers Among Rivals ---- By Steve Liesman Staff Reporter of The Wall Street Journal</td>\n",
       "      <td>[0.95674115, 0.04221672, 0.0010420616]</td>\n",
       "      <td>positive</td>\n",
       "      <td>0.914524</td>\n",
       "    </tr>\n",
       "    <tr>\n",
       "      <th>2</th>\n",
       "      <td>Taiwan CPC Dec Crude Oil Imports 20.4M Bbl, US$23.79/Bbl</td>\n",
       "      <td>[0.9530355, 0.044925828, 0.002038634]</td>\n",
       "      <td>positive</td>\n",
       "      <td>0.908110</td>\n",
       "    </tr>\n",
       "    <tr>\n",
       "      <th>3</th>\n",
       "      <td>Midday US Spot Crude: Prices Sink With Crude Futures</td>\n",
       "      <td>[0.0061857277, 0.99313486, 0.0006794133]</td>\n",
       "      <td>negative</td>\n",
       "      <td>-0.986949</td>\n",
       "    </tr>\n",
       "    <tr>\n",
       "      <th>4</th>\n",
       "      <td>API: US Crude Stocks Dn 1.568 Mln Bbl In Week</td>\n",
       "      <td>[0.9970822, 0.0020342732, 0.0008834445]</td>\n",
       "      <td>positive</td>\n",
       "      <td>0.995048</td>\n",
       "    </tr>\n",
       "    <tr>\n",
       "      <th>...</th>\n",
       "      <td>...</td>\n",
       "      <td>...</td>\n",
       "      <td>...</td>\n",
       "      <td>...</td>\n",
       "    </tr>\n",
       "    <tr>\n",
       "      <th>45906</th>\n",
       "      <td>U.S. oil production to start rising in second quarter: Kemp</td>\n",
       "      <td>[0.002602402, 0.9965634, 0.00083421526]</td>\n",
       "      <td>negative</td>\n",
       "      <td>-0.993961</td>\n",
       "    </tr>\n",
       "    <tr>\n",
       "      <th>45907</th>\n",
       "      <td>OPEC+ to increase oil production from May</td>\n",
       "      <td>[0.0020556238, 0.9967141, 0.0012302483]</td>\n",
       "      <td>negative</td>\n",
       "      <td>-0.994658</td>\n",
       "    </tr>\n",
       "    <tr>\n",
       "      <th>45908</th>\n",
       "      <td>OPEC+ to Ease Oil Output Cuts in Cautious Bet on Recovery</td>\n",
       "      <td>[0.99600935, 0.0029786306, 0.0010120169]</td>\n",
       "      <td>positive</td>\n",
       "      <td>0.993031</td>\n",
       "    </tr>\n",
       "    <tr>\n",
       "      <th>45909</th>\n",
       "      <td>Iraq's crude oil exports exceed 91 mln barrels in March</td>\n",
       "      <td>[0.0029613678, 0.9958734, 0.0011652014]</td>\n",
       "      <td>negative</td>\n",
       "      <td>-0.992912</td>\n",
       "    </tr>\n",
       "    <tr>\n",
       "      <th>45910</th>\n",
       "      <td>Russia to Boost Oil Production by Total of 114,000 Bpd in May-July - Novak</td>\n",
       "      <td>[0.0025976559, 0.9965576, 0.0008447746]</td>\n",
       "      <td>negative</td>\n",
       "      <td>-0.993960</td>\n",
       "    </tr>\n",
       "  </tbody>\n",
       "</table>\n",
       "<p>45911 rows × 4 columns</p>\n",
       "</div>"
      ],
      "text/plain": [
       "                                                                                                                                                                                                   sentence  \\\n",
       "0      India Apr-Nov Oil Imports $6.20B Vs $4.03B; +53.86%                                                                                                                                                    \n",
       "1      Texaco and Chevron Missed the Boat on Big Stock Gains --- Their Returns Were Stagnant as Oil Prices Soared Amid Mergers Among Rivals ---- By Steve Liesman Staff Reporter of The Wall Street Journal   \n",
       "2      Taiwan CPC Dec Crude Oil Imports 20.4M Bbl, US$23.79/Bbl                                                                                                                                               \n",
       "3      Midday US Spot Crude: Prices Sink With Crude Futures                                                                                                                                                   \n",
       "4      API: US Crude Stocks Dn 1.568 Mln Bbl In Week                                                                                                                                                          \n",
       "...                                              ...                                                                                                                                                          \n",
       "45906  U.S. oil production to start rising in second quarter: Kemp                                                                                                                                            \n",
       "45907  OPEC+ to increase oil production from May                                                                                                                                                              \n",
       "45908  OPEC+ to Ease Oil Output Cuts in Cautious Bet on Recovery                                                                                                                                              \n",
       "45909  Iraq's crude oil exports exceed 91 mln barrels in March                                                                                                                                                \n",
       "45910  Russia to Boost Oil Production by Total of 114,000 Bpd in May-July - Novak                                                                                                                             \n",
       "\n",
       "                                          logit prediction  sentiment_score  \n",
       "0      [0.99143, 0.007201431, 0.001368628]       positive   0.984229         \n",
       "1      [0.95674115, 0.04221672, 0.0010420616]    positive   0.914524         \n",
       "2      [0.9530355, 0.044925828, 0.002038634]     positive   0.908110         \n",
       "3      [0.0061857277, 0.99313486, 0.0006794133]  negative  -0.986949         \n",
       "4      [0.9970822, 0.0020342732, 0.0008834445]   positive   0.995048         \n",
       "...                                        ...        ...        ...         \n",
       "45906  [0.002602402, 0.9965634, 0.00083421526]   negative  -0.993961         \n",
       "45907  [0.0020556238, 0.9967141, 0.0012302483]   negative  -0.994658         \n",
       "45908  [0.99600935, 0.0029786306, 0.0010120169]  positive   0.993031         \n",
       "45909  [0.0029613678, 0.9958734, 0.0011652014]   negative  -0.992912         \n",
       "45910  [0.0025976559, 0.9965576, 0.0008447746]   negative  -0.993960         \n",
       "\n",
       "[45911 rows x 4 columns]"
      ]
     },
     "execution_count": 60,
     "metadata": {},
     "output_type": "execute_result"
    }
   ],
   "source": [
    "df_analyzed_news_text_full"
   ]
  },
  {
   "cell_type": "markdown",
   "id": "45cd8980",
   "metadata": {},
   "source": [
    "###  Save the dataframe"
   ]
  },
  {
   "cell_type": "code",
   "execution_count": 61,
   "id": "b592486a",
   "metadata": {},
   "outputs": [],
   "source": [
    "df_analyzed_news_text_full.to_excel(\"df_analyzed_news_text_full_T4.xlsx\")"
   ]
  }
 ],
 "metadata": {
  "kernelspec": {
   "display_name": "Python 3",
   "language": "python",
   "name": "python3"
  },
  "language_info": {
   "codemirror_mode": {
    "name": "ipython",
    "version": 3
   },
   "file_extension": ".py",
   "mimetype": "text/x-python",
   "name": "python",
   "nbconvert_exporter": "python",
   "pygments_lexer": "ipython3",
   "version": "3.8.10"
  }
 },
 "nbformat": 4,
 "nbformat_minor": 5
}
