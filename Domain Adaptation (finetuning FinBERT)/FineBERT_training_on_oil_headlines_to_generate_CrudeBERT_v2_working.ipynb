{
 "cells": [
  {
   "cell_type": "markdown",
   "id": "4d867629",
   "metadata": {},
   "source": [
    "### Import Libraries"
   ]
  },
  {
   "cell_type": "code",
   "execution_count": 23,
   "id": "3af4e7a6",
   "metadata": {
    "scrolled": false
   },
   "outputs": [
    {
     "name": "stdout",
     "output_type": "stream",
     "text": [
      "The autoreload extension is already loaded. To reload it, use:\n",
      "  %reload_ext autoreload\n"
     ]
    },
    {
     "name": "stderr",
     "output_type": "stream",
     "text": [
      "[nltk_data] Downloading package punkt to\n",
      "[nltk_data]     C:\\Users\\KAPLAN\\AppData\\Roaming\\nltk_data...\n",
      "[nltk_data]   Package punkt is already up-to-date!\n",
      "<ipython-input-23-a0746e54ffe7>:27: FutureWarning: Passing a negative integer is deprecated in version 1.0 and will not be supported in future version. Instead, use None to not limit the column width.\n",
      "  pd.set_option('max_colwidth', -1)\n"
     ]
    }
   ],
   "source": [
    "from pathlib import Path\n",
    "import shutil\n",
    "import os\n",
    "import logging\n",
    "import sys\n",
    "import gc\n",
    "sys.path.append('C:/Users/KAPLAN/Desktop/pytorch_examples/models/')\n",
    "from pandas import DataFrame\n",
    "from textblob import TextBlob\n",
    "from pprint import pprint\n",
    "from sklearn.metrics import classification_report, confusion_matrix\n",
    "import seaborn as sns\n",
    "import matplotlib.pyplot as plt\n",
    "import nltk\n",
    "nltk.download('punkt')\n",
    "\n",
    "import time\n",
    "from transformers import AutoModelForSequenceClassification\n",
    "\n",
    "from finbert.finbert import *\n",
    "import finbert.utils as tools\n",
    "\n",
    "%load_ext autoreload\n",
    "%autoreload 2\n",
    "\n",
    "project_dir = Path.cwd().parent\n",
    "pd.set_option('max_colwidth', -1)"
   ]
  },
  {
   "cell_type": "code",
   "execution_count": 2,
   "id": "92735402",
   "metadata": {
    "scrolled": true
   },
   "outputs": [
    {
     "data": {
      "text/plain": [
       "WindowsPath('C:/Users/KAPLAN/Desktop')"
      ]
     },
     "execution_count": 2,
     "metadata": {},
     "output_type": "execute_result"
    }
   ],
   "source": [
    "project_dir"
   ]
  },
  {
   "cell_type": "code",
   "execution_count": 3,
   "id": "8b91ba0e",
   "metadata": {},
   "outputs": [],
   "source": [
    "logging.basicConfig(format = '%(asctime)s - %(levelname)s - %(name)s -   %(message)s',\n",
    "                    datefmt = '%m/%d/%Y %H:%M:%S',\n",
    "                    level = logging.ERROR)"
   ]
  },
  {
   "cell_type": "code",
   "execution_count": 4,
   "id": "934b0db6",
   "metadata": {},
   "outputs": [],
   "source": [
    "lm_path = project_dir/'pytorch_examples'/'models'/'language_model'/'finbertTRC2'\n",
    "cl_path = project_dir/'pytorch_examples'/'models'/'classifier_model'/'finbert_sentiment'\n",
    "cl_data_path = project_dir/'pytorch_examples'/'models'/'data'/'sentiment_data'"
   ]
  },
  {
   "cell_type": "markdown",
   "id": "56b0ad9e",
   "metadata": {},
   "source": [
    "## Configuring adapted functions"
   ]
  },
  {
   "cell_type": "code",
   "execution_count": 5,
   "id": "366d804d",
   "metadata": {},
   "outputs": [],
   "source": [
    "def oneHot(row):\n",
    "  if row=='negative': return -1\n",
    "  if row=='neutral' : return  0\n",
    "  if row=='positive' : return +1"
   ]
  },
  {
   "cell_type": "code",
   "execution_count": 42,
   "id": "ab74c8d7",
   "metadata": {},
   "outputs": [],
   "source": [
    "def predict(text, model, write_to_csv=False, path=None):\n",
    "    \"\"\"\n",
    "    Predict sentiments of sentences in a given text. The function first tokenizes sentences, make predictions and write\n",
    "    results.\n",
    "    Parameters\n",
    "    ----------\n",
    "    text: string\n",
    "        text to be analyzed\n",
    "    model: BertForSequenceClassification\n",
    "        path to the classifier model\n",
    "    write_to_csv (optional): bool\n",
    "    path (optional): string\n",
    "        path to write the string\n",
    "    \"\"\"\n",
    "    model.eval()\n",
    "    tokenizer = AutoTokenizer.from_pretrained('bert-base-uncased')\n",
    "    sentences = text   \n",
    "    label_list = ['positive', 'negative', 'neutral']\n",
    "    label_dict = {0: 'positive', 1: 'negative', 2: 'neutral'}\n",
    "    result = pd.DataFrame(columns=['sentence', 'logit', 'prediction', 'sentiment_score'])\n",
    "    for batch in chunks(text, len(text)):\n",
    "        examples = [InputExample(str(i), sentence) for i, sentence in enumerate(batch)]\n",
    "\n",
    "        features = convert_examples_to_features(examples, label_list, 64, tokenizer)\n",
    "\n",
    "        all_input_ids = torch.tensor([f.input_ids for f in features], dtype=torch.long)\n",
    "        all_attention_mask = torch.tensor([f.attention_mask for f in features], dtype=torch.long)\n",
    "        all_token_type_ids = torch.tensor([f.token_type_ids for f in features], dtype=torch.long)\n",
    "\n",
    "        with torch.no_grad():\n",
    "            logits = model(all_input_ids, all_attention_mask, all_token_type_ids)[0]\n",
    "            logging.info(logits)\n",
    "            logits = softmax(np.array(logits))\n",
    "            sentiment_score = pd.Series(logits[:, 0] - logits[:, 1])\n",
    "            predictions = np.squeeze(np.argmax(logits, axis=1))\n",
    "\n",
    "            batch_result = {'sentence': batch,\n",
    "                            'logit': list(logits),\n",
    "                            'prediction': predictions,\n",
    "                            'sentiment_score': sentiment_score}\n",
    "\n",
    "            batch_result = pd.DataFrame(batch_result)\n",
    "            result = pd.concat([result, batch_result], ignore_index=True)\n",
    "\n",
    "    result['prediction'] = result.prediction.apply(lambda x: label_dict[x])\n",
    "    if write_to_csv:\n",
    "        result.to_csv(path, sep=',', index=True)\n",
    "\n",
    "    return result"
   ]
  },
  {
   "cell_type": "markdown",
   "id": "bc15bc10",
   "metadata": {},
   "source": [
    "## Configuring training parameters"
   ]
  },
  {
   "cell_type": "code",
   "execution_count": 7,
   "id": "ab85b048",
   "metadata": {
    "scrolled": true
   },
   "outputs": [],
   "source": [
    "# Clean the cl_path\n",
    "try:\n",
    "    shutil.rmtree(cl_path) \n",
    "except:\n",
    "    pass\n",
    "\n",
    "bertmodel = AutoModelForSequenceClassification.from_pretrained(lm_path,cache_dir=None, num_labels=3)\n",
    "\n",
    "\n",
    "config = Config(   data_dir=cl_data_path,\n",
    "                   bert_model=bertmodel,\n",
    "                   num_train_epochs=4,\n",
    "                   model_dir=cl_path,\n",
    "                   max_seq_length = 48,\n",
    "                   train_batch_size = 32,\n",
    "                   learning_rate = 2e-5,\n",
    "                   output_mode='classification',\n",
    "                   warm_up_proportion=0.2,\n",
    "                   local_rank=-1,\n",
    "                   discriminate=True,\n",
    "                   gradual_unfreeze=True)"
   ]
  },
  {
   "cell_type": "code",
   "execution_count": 8,
   "id": "b1ddf65d",
   "metadata": {},
   "outputs": [],
   "source": [
    "finbert = FinBert(config)\n",
    "finbert.base_model = 'bert-base-uncased'\n",
    "finbert.config.discriminate=True\n",
    "finbert.config.gradual_unfreeze=True"
   ]
  },
  {
   "cell_type": "code",
   "execution_count": 9,
   "id": "7bc30d28",
   "metadata": {},
   "outputs": [
    {
     "name": "stderr",
     "output_type": "stream",
     "text": [
      "06/29/2021 01:46:02 - INFO - finbert.finbert -   device: cpu n_gpu: 0, distributed training: False, 16-bits training: False\n"
     ]
    }
   ],
   "source": [
    "finbert.prepare_model(label_list=['positive','negative','neutral'])\n",
    "class_names = ['positive','negative','neutral']"
   ]
  },
  {
   "cell_type": "code",
   "execution_count": 10,
   "id": "ee1f5b2f",
   "metadata": {
    "scrolled": false
   },
   "outputs": [],
   "source": [
    "train_data = finbert.get_data('train')"
   ]
  },
  {
   "cell_type": "code",
   "execution_count": 14,
   "id": "7c8a3963",
   "metadata": {
    "scrolled": true
   },
   "outputs": [],
   "source": [
    "model = finbert.create_the_model()"
   ]
  },
  {
   "cell_type": "code",
   "execution_count": 15,
   "id": "a40cfba0",
   "metadata": {
    "scrolled": false
   },
   "outputs": [
    {
     "name": "stderr",
     "output_type": "stream",
     "text": [
      "06/29/2021 01:47:39 - INFO - finbert.utils -   *** Example ***\n",
      "06/29/2021 01:47:39 - INFO - finbert.utils -   guid: train-1\n",
      "06/29/2021 01:47:39 - INFO - finbert.utils -   tokens: [CLS] ny ##me ##x - crude oil rebounds after steep sell ##off [SEP]\n",
      "06/29/2021 01:47:39 - INFO - finbert.utils -   input_ids: 101 6396 4168 2595 1011 13587 3514 11049 2044 9561 5271 7245 102 0 0 0 0 0 0 0 0 0 0 0 0 0 0 0 0 0 0 0 0 0 0 0 0 0 0 0 0 0 0 0 0 0 0 0\n",
      "06/29/2021 01:47:39 - INFO - finbert.utils -   attention_mask: 1 1 1 1 1 1 1 1 1 1 1 1 1 0 0 0 0 0 0 0 0 0 0 0 0 0 0 0 0 0 0 0 0 0 0 0 0 0 0 0 0 0 0 0 0 0 0 0\n",
      "06/29/2021 01:47:39 - INFO - finbert.utils -   token_type_ids: 0 0 0 0 0 0 0 0 0 0 0 0 0 0 0 0 0 0 0 0 0 0 0 0 0 0 0 0 0 0 0 0 0 0 0 0 0 0 0 0 0 0 0 0 0 0 0 0\n",
      "06/29/2021 01:47:39 - INFO - finbert.utils -   label: positive (id = 0)\n",
      "06/29/2021 01:47:41 - INFO - finbert.finbert -   ***** Loading data *****\n",
      "06/29/2021 01:47:41 - INFO - finbert.finbert -     Num examples = 20418\n",
      "06/29/2021 01:47:41 - INFO - finbert.finbert -     Batch size = 32\n",
      "06/29/2021 01:47:41 - INFO - finbert.finbert -     Num steps = 848\n",
      "Epoch:   0%|          | 0/4 [00:00<?, ?it/s]"
     ]
    },
    {
     "data": {
      "application/vnd.jupyter.widget-view+json": {
       "model_id": "b1b34920a18a4bea815957995c33d255",
       "version_major": 2,
       "version_minor": 0
      },
      "text/plain": [
       "HBox(children=(FloatProgress(value=0.0, description='Iteration', max=639.0, style=ProgressStyle(description_wi…"
      ]
     },
     "metadata": {},
     "output_type": "display_data"
    },
    {
     "name": "stderr",
     "output_type": "stream",
     "text": [
      "06/29/2021 02:07:49 - INFO - finbert.utils -   *** Example ***\n",
      "06/29/2021 02:07:49 - INFO - finbert.utils -   guid: validation-1\n",
      "06/29/2021 02:07:49 - INFO - finbert.utils -   tokens: [CLS] pakistan : oil import bill surge ##s in 10 months [SEP]\n",
      "06/29/2021 02:07:49 - INFO - finbert.utils -   input_ids: 101 4501 1024 3514 12324 3021 12058 2015 1999 2184 2706 102 0 0 0 0 0 0 0 0 0 0 0 0 0 0 0 0 0 0 0 0 0 0 0 0 0 0 0 0 0 0 0 0 0 0 0 0\n",
      "06/29/2021 02:07:49 - INFO - finbert.utils -   attention_mask: 1 1 1 1 1 1 1 1 1 1 1 1 0 0 0 0 0 0 0 0 0 0 0 0 0 0 0 0 0 0 0 0 0 0 0 0 0 0 0 0 0 0 0 0 0 0 0 0\n",
      "06/29/2021 02:07:49 - INFO - finbert.utils -   token_type_ids: 0 0 0 0 0 0 0 0 0 0 0 0 0 0 0 0 0 0 0 0 0 0 0 0 0 0 0 0 0 0 0 0 0 0 0 0 0 0 0 0 0 0 0 0 0 0 0 0\n",
      "06/29/2021 02:07:49 - INFO - finbert.utils -   label: positive (id = 0)\n"
     ]
    },
    {
     "name": "stdout",
     "output_type": "stream",
     "text": [
      "\n"
     ]
    },
    {
     "name": "stderr",
     "output_type": "stream",
     "text": [
      "06/29/2021 02:07:50 - INFO - finbert.finbert -   ***** Loading data *****\n",
      "06/29/2021 02:07:50 - INFO - finbert.finbert -     Num examples = 6804\n",
      "06/29/2021 02:07:50 - INFO - finbert.finbert -     Batch size = 32\n",
      "06/29/2021 02:07:50 - INFO - finbert.finbert -     Num steps = 848\n"
     ]
    },
    {
     "data": {
      "application/vnd.jupyter.widget-view+json": {
       "model_id": "db4d121658a14b2faa64582f22a05c0f",
       "version_major": 2,
       "version_minor": 0
      },
      "text/plain": [
       "HBox(children=(FloatProgress(value=0.0, description='Validating', max=213.0, style=ProgressStyle(description_w…"
      ]
     },
     "metadata": {},
     "output_type": "display_data"
    },
    {
     "name": "stdout",
     "output_type": "stream",
     "text": [
      "\n",
      "Validation losses: [0.2121697563170827]\n",
      "No best model found\n"
     ]
    },
    {
     "name": "stderr",
     "output_type": "stream",
     "text": [
      "\r",
      "Epoch:  25%|██▌       | 1/4 [24:40<1:14:01, 1480.43s/it]"
     ]
    },
    {
     "data": {
      "application/vnd.jupyter.widget-view+json": {
       "model_id": "6d9d747cdb3940bc9ffdb6750b791eba",
       "version_major": 2,
       "version_minor": 0
      },
      "text/plain": [
       "HBox(children=(FloatProgress(value=0.0, description='Iteration', max=639.0, style=ProgressStyle(description_wi…"
      ]
     },
     "metadata": {},
     "output_type": "display_data"
    },
    {
     "name": "stderr",
     "output_type": "stream",
     "text": [
      "06/29/2021 02:40:04 - INFO - finbert.utils -   *** Example ***\n",
      "06/29/2021 02:40:04 - INFO - finbert.utils -   guid: validation-1\n",
      "06/29/2021 02:40:04 - INFO - finbert.utils -   tokens: [CLS] pakistan : oil import bill surge ##s in 10 months [SEP]\n",
      "06/29/2021 02:40:04 - INFO - finbert.utils -   input_ids: 101 4501 1024 3514 12324 3021 12058 2015 1999 2184 2706 102 0 0 0 0 0 0 0 0 0 0 0 0 0 0 0 0 0 0 0 0 0 0 0 0 0 0 0 0 0 0 0 0 0 0 0 0\n",
      "06/29/2021 02:40:04 - INFO - finbert.utils -   attention_mask: 1 1 1 1 1 1 1 1 1 1 1 1 0 0 0 0 0 0 0 0 0 0 0 0 0 0 0 0 0 0 0 0 0 0 0 0 0 0 0 0 0 0 0 0 0 0 0 0\n",
      "06/29/2021 02:40:04 - INFO - finbert.utils -   token_type_ids: 0 0 0 0 0 0 0 0 0 0 0 0 0 0 0 0 0 0 0 0 0 0 0 0 0 0 0 0 0 0 0 0 0 0 0 0 0 0 0 0 0 0 0 0 0 0 0 0\n",
      "06/29/2021 02:40:04 - INFO - finbert.utils -   label: positive (id = 0)\n"
     ]
    },
    {
     "name": "stdout",
     "output_type": "stream",
     "text": [
      "\n"
     ]
    },
    {
     "name": "stderr",
     "output_type": "stream",
     "text": [
      "06/29/2021 02:40:05 - INFO - finbert.finbert -   ***** Loading data *****\n",
      "06/29/2021 02:40:05 - INFO - finbert.finbert -     Num examples = 6804\n",
      "06/29/2021 02:40:05 - INFO - finbert.finbert -     Batch size = 32\n",
      "06/29/2021 02:40:05 - INFO - finbert.finbert -     Num steps = 848\n"
     ]
    },
    {
     "data": {
      "application/vnd.jupyter.widget-view+json": {
       "model_id": "00d18d2e2c6645e4a30b4e6e3d5a46e3",
       "version_major": 2,
       "version_minor": 0
      },
      "text/plain": [
       "HBox(children=(FloatProgress(value=0.0, description='Validating', max=213.0, style=ProgressStyle(description_w…"
      ]
     },
     "metadata": {},
     "output_type": "display_data"
    },
    {
     "name": "stdout",
     "output_type": "stream",
     "text": [
      "\n",
      "Validation losses: [0.2121697563170827, 0.10798744868679505]\n"
     ]
    },
    {
     "name": "stderr",
     "output_type": "stream",
     "text": [
      "\r",
      "Epoch:  50%|█████     | 2/4 [56:51<53:51, 1615.76s/it]  "
     ]
    },
    {
     "data": {
      "application/vnd.jupyter.widget-view+json": {
       "model_id": "24186d12ec1f4024bc3d38f35d8553aa",
       "version_major": 2,
       "version_minor": 0
      },
      "text/plain": [
       "HBox(children=(FloatProgress(value=0.0, description='Iteration', max=639.0, style=ProgressStyle(description_wi…"
      ]
     },
     "metadata": {},
     "output_type": "display_data"
    },
    {
     "name": "stderr",
     "output_type": "stream",
     "text": [
      "06/29/2021 03:19:04 - INFO - finbert.utils -   *** Example ***\n",
      "06/29/2021 03:19:04 - INFO - finbert.utils -   guid: validation-1\n",
      "06/29/2021 03:19:04 - INFO - finbert.utils -   tokens: [CLS] pakistan : oil import bill surge ##s in 10 months [SEP]\n",
      "06/29/2021 03:19:04 - INFO - finbert.utils -   input_ids: 101 4501 1024 3514 12324 3021 12058 2015 1999 2184 2706 102 0 0 0 0 0 0 0 0 0 0 0 0 0 0 0 0 0 0 0 0 0 0 0 0 0 0 0 0 0 0 0 0 0 0 0 0\n",
      "06/29/2021 03:19:04 - INFO - finbert.utils -   attention_mask: 1 1 1 1 1 1 1 1 1 1 1 1 0 0 0 0 0 0 0 0 0 0 0 0 0 0 0 0 0 0 0 0 0 0 0 0 0 0 0 0 0 0 0 0 0 0 0 0\n",
      "06/29/2021 03:19:04 - INFO - finbert.utils -   token_type_ids: 0 0 0 0 0 0 0 0 0 0 0 0 0 0 0 0 0 0 0 0 0 0 0 0 0 0 0 0 0 0 0 0 0 0 0 0 0 0 0 0 0 0 0 0 0 0 0 0\n",
      "06/29/2021 03:19:04 - INFO - finbert.utils -   label: positive (id = 0)\n"
     ]
    },
    {
     "name": "stdout",
     "output_type": "stream",
     "text": [
      "\n"
     ]
    },
    {
     "name": "stderr",
     "output_type": "stream",
     "text": [
      "06/29/2021 03:19:05 - INFO - finbert.finbert -   ***** Loading data *****\n",
      "06/29/2021 03:19:05 - INFO - finbert.finbert -     Num examples = 6804\n",
      "06/29/2021 03:19:05 - INFO - finbert.finbert -     Batch size = 32\n",
      "06/29/2021 03:19:05 - INFO - finbert.finbert -     Num steps = 848\n"
     ]
    },
    {
     "data": {
      "application/vnd.jupyter.widget-view+json": {
       "model_id": "23d41a339c394677a75614076f03eac5",
       "version_major": 2,
       "version_minor": 0
      },
      "text/plain": [
       "HBox(children=(FloatProgress(value=0.0, description='Validating', max=213.0, style=ProgressStyle(description_w…"
      ]
     },
     "metadata": {},
     "output_type": "display_data"
    },
    {
     "name": "stdout",
     "output_type": "stream",
     "text": [
      "\n",
      "Validation losses: [0.2121697563170827, 0.10798744868679505, 0.07643043721846782]\n"
     ]
    },
    {
     "name": "stderr",
     "output_type": "stream",
     "text": [
      "\r",
      "Epoch:  75%|███████▌  | 3/4 [1:35:51<30:32, 1832.81s/it]"
     ]
    },
    {
     "data": {
      "application/vnd.jupyter.widget-view+json": {
       "model_id": "ccc956531fa64a54b67c83c2bffc1465",
       "version_major": 2,
       "version_minor": 0
      },
      "text/plain": [
       "HBox(children=(FloatProgress(value=0.0, description='Iteration', max=639.0, style=ProgressStyle(description_wi…"
      ]
     },
     "metadata": {},
     "output_type": "display_data"
    },
    {
     "name": "stderr",
     "output_type": "stream",
     "text": [
      "06/29/2021 04:02:53 - INFO - finbert.utils -   *** Example ***\n",
      "06/29/2021 04:02:53 - INFO - finbert.utils -   guid: validation-1\n",
      "06/29/2021 04:02:53 - INFO - finbert.utils -   tokens: [CLS] pakistan : oil import bill surge ##s in 10 months [SEP]\n",
      "06/29/2021 04:02:53 - INFO - finbert.utils -   input_ids: 101 4501 1024 3514 12324 3021 12058 2015 1999 2184 2706 102 0 0 0 0 0 0 0 0 0 0 0 0 0 0 0 0 0 0 0 0 0 0 0 0 0 0 0 0 0 0 0 0 0 0 0 0\n",
      "06/29/2021 04:02:53 - INFO - finbert.utils -   attention_mask: 1 1 1 1 1 1 1 1 1 1 1 1 0 0 0 0 0 0 0 0 0 0 0 0 0 0 0 0 0 0 0 0 0 0 0 0 0 0 0 0 0 0 0 0 0 0 0 0\n",
      "06/29/2021 04:02:53 - INFO - finbert.utils -   token_type_ids: 0 0 0 0 0 0 0 0 0 0 0 0 0 0 0 0 0 0 0 0 0 0 0 0 0 0 0 0 0 0 0 0 0 0 0 0 0 0 0 0 0 0 0 0 0 0 0 0\n",
      "06/29/2021 04:02:53 - INFO - finbert.utils -   label: positive (id = 0)\n"
     ]
    },
    {
     "name": "stdout",
     "output_type": "stream",
     "text": [
      "\n"
     ]
    },
    {
     "name": "stderr",
     "output_type": "stream",
     "text": [
      "06/29/2021 04:02:54 - INFO - finbert.finbert -   ***** Loading data *****\n",
      "06/29/2021 04:02:54 - INFO - finbert.finbert -     Num examples = 6804\n",
      "06/29/2021 04:02:54 - INFO - finbert.finbert -     Batch size = 32\n",
      "06/29/2021 04:02:54 - INFO - finbert.finbert -     Num steps = 848\n"
     ]
    },
    {
     "data": {
      "application/vnd.jupyter.widget-view+json": {
       "model_id": "f3183175e3414f709b95a49144eb4e59",
       "version_major": 2,
       "version_minor": 0
      },
      "text/plain": [
       "HBox(children=(FloatProgress(value=0.0, description='Validating', max=213.0, style=ProgressStyle(description_w…"
      ]
     },
     "metadata": {},
     "output_type": "display_data"
    },
    {
     "name": "stdout",
     "output_type": "stream",
     "text": [
      "\n",
      "Validation losses: [0.2121697563170827, 0.10798744868679505, 0.07643043721846782, 0.06792967145095094]\n"
     ]
    },
    {
     "name": "stderr",
     "output_type": "stream",
     "text": [
      "Epoch: 100%|██████████| 4/4 [2:19:35<00:00, 2093.82s/it]\n"
     ]
    }
   ],
   "source": [
    "from finbert.finbert import *\n",
    "trained_model = finbert.train(train_examples = train_data, model = model)"
   ]
  },
  {
   "cell_type": "code",
   "execution_count": 16,
   "id": "d2d91073",
   "metadata": {},
   "outputs": [],
   "source": [
    "test_data = finbert.get_data('test')"
   ]
  },
  {
   "cell_type": "code",
   "execution_count": 17,
   "id": "cd71bd1e",
   "metadata": {
    "scrolled": false
   },
   "outputs": [
    {
     "name": "stderr",
     "output_type": "stream",
     "text": [
      "06/29/2021 04:09:28 - INFO - finbert.utils -   *** Example ***\n",
      "06/29/2021 04:09:28 - INFO - finbert.utils -   guid: test-1\n",
      "06/29/2021 04:09:28 - INFO - finbert.utils -   tokens: [CLS] us oil inventor ##ies : crude stocks down for 7th week in a row [SEP]\n",
      "06/29/2021 04:09:28 - INFO - finbert.utils -   input_ids: 101 2149 3514 12235 3111 1024 13587 15768 2091 2005 5504 2733 1999 1037 5216 102 0 0 0 0 0 0 0 0 0 0 0 0 0 0 0 0 0 0 0 0 0 0 0 0 0 0 0 0 0 0 0 0\n",
      "06/29/2021 04:09:28 - INFO - finbert.utils -   attention_mask: 1 1 1 1 1 1 1 1 1 1 1 1 1 1 1 1 0 0 0 0 0 0 0 0 0 0 0 0 0 0 0 0 0 0 0 0 0 0 0 0 0 0 0 0 0 0 0 0\n",
      "06/29/2021 04:09:28 - INFO - finbert.utils -   token_type_ids: 0 0 0 0 0 0 0 0 0 0 0 0 0 0 0 0 0 0 0 0 0 0 0 0 0 0 0 0 0 0 0 0 0 0 0 0 0 0 0 0 0 0 0 0 0 0 0 0\n",
      "06/29/2021 04:09:28 - INFO - finbert.utils -   label: positive (id = 0)\n",
      "06/29/2021 04:09:28 - INFO - finbert.finbert -   ***** Loading data *****\n",
      "06/29/2021 04:09:28 - INFO - finbert.finbert -     Num examples = 6804\n",
      "06/29/2021 04:09:28 - INFO - finbert.finbert -     Batch size = 32\n",
      "06/29/2021 04:09:28 - INFO - finbert.finbert -     Num steps = 848\n",
      "06/29/2021 04:09:28 - INFO - finbert.finbert -   ***** Running evaluation ***** \n",
      "06/29/2021 04:09:28 - INFO - finbert.finbert -     Num examples = 6804\n",
      "06/29/2021 04:09:28 - INFO - finbert.finbert -     Batch size = 32\n"
     ]
    },
    {
     "data": {
      "application/vnd.jupyter.widget-view+json": {
       "model_id": "ea822d2fd9774d2094414baef2d827d7",
       "version_major": 2,
       "version_minor": 0
      },
      "text/plain": [
       "HBox(children=(FloatProgress(value=0.0, description='Testing', max=213.0, style=ProgressStyle(description_widt…"
      ]
     },
     "metadata": {},
     "output_type": "display_data"
    },
    {
     "name": "stdout",
     "output_type": "stream",
     "text": [
      "\n"
     ]
    }
   ],
   "source": [
    "results = finbert.evaluate(examples=test_data, model=trained_model)"
   ]
  },
  {
   "cell_type": "code",
   "execution_count": 19,
   "id": "9fddc2b6",
   "metadata": {},
   "outputs": [],
   "source": [
    "results['prediction'] = results.predictions.apply(lambda x: np.argmax(x,axis=0))"
   ]
  },
  {
   "cell_type": "code",
   "execution_count": 20,
   "id": "24643160",
   "metadata": {},
   "outputs": [],
   "source": [
    "y_test = results['labels'] \n",
    "y_pred = results['prediction']\n",
    "\n",
    "def report(df, cols=['label','prediction','logits']):\n",
    "    #print('Validation loss:{0:.2f}'.format(metrics['best_validation_loss']))\n",
    "    cs = CrossEntropyLoss(weight=finbert.class_weights)\n",
    "    loss = cs(torch.tensor(list(df[cols[2]])),torch.tensor(list(df[cols[0]])))\n",
    "    print(\"Loss:{0:.2f}\".format(loss))\n",
    "    print(\"Accuracy:{0:.2f}\".format((df[cols[0]] == df[cols[1]]).sum() / df.shape[0]) )\n",
    "    print(\"\\nClassification Report:\")\n",
    "    print(classification_report(df[cols[0]], df[cols[1]]))"
   ]
  },
  {
   "cell_type": "code",
   "execution_count": 21,
   "id": "bc3fbe22",
   "metadata": {},
   "outputs": [
    {
     "name": "stderr",
     "output_type": "stream",
     "text": [
      "06/29/2021 04:15:45 - INFO - numexpr.utils -   Note: NumExpr detected 32 cores but \"NUMEXPR_MAX_THREADS\" not set, so enforcing safe limit of 8.\n",
      "06/29/2021 04:15:45 - INFO - numexpr.utils -   NumExpr defaulting to 8 threads.\n"
     ]
    },
    {
     "name": "stdout",
     "output_type": "stream",
     "text": [
      "Loss:0.12\n",
      "Accuracy:0.98\n",
      "\n",
      "Classification Report:\n",
      "              precision    recall  f1-score   support\n",
      "\n",
      "           0       0.98      0.98      0.98      3505\n",
      "           1       0.98      0.98      0.98      3192\n",
      "           2       0.99      0.94      0.97       107\n",
      "\n",
      "    accuracy                           0.98      6804\n",
      "   macro avg       0.98      0.97      0.98      6804\n",
      "weighted avg       0.98      0.98      0.98      6804\n",
      "\n"
     ]
    }
   ],
   "source": [
    "report(results,cols=['labels','prediction','predictions'])"
   ]
  },
  {
   "cell_type": "code",
   "execution_count": 24,
   "id": "e93653bd",
   "metadata": {},
   "outputs": [
    {
     "data": {
      "image/png": "[encoded data removed]",
      "text/plain": [
       "<Figure size 432x288 with 2 Axes>"
      ]
     },
     "metadata": {
      "needs_background": "light"
     },
     "output_type": "display_data"
    }
   ],
   "source": [
    "def show_confusion_matrix(confusion_matrix):\n",
    "  hmap = sns.heatmap(confusion_matrix, annot=True, fmt=\"d\", cmap=\"Blues\")\n",
    "  hmap.yaxis.set_ticklabels(hmap.yaxis.get_ticklabels(), rotation=0, ha='right')\n",
    "  hmap.xaxis.set_ticklabels(hmap.xaxis.get_ticklabels(), rotation=30, ha='right')\n",
    "  plt.ylabel('True sentiment')\n",
    "  plt.xlabel('Predicted sentiment');\n",
    "\n",
    "cm = confusion_matrix(y_test, y_pred)\n",
    "df_cm = pd.DataFrame(cm, index=class_names, columns=class_names)\n",
    "show_confusion_matrix(df_cm)"
   ]
  },
  {
   "cell_type": "markdown",
   "id": "7c8fab72",
   "metadata": {},
   "source": [
    "## Load the pre-trained Model"
   ]
  },
  {
   "cell_type": "code",
   "execution_count": 25,
   "id": "a3d09792",
   "metadata": {},
   "outputs": [],
   "source": [
    "model = AutoModelForSequenceClassification.from_pretrained(cl_path, cache_dir=None, num_labels=3)"
   ]
  },
  {
   "cell_type": "markdown",
   "id": "727076b1",
   "metadata": {},
   "source": [
    "## Or import already pre-trained Model"
   ]
  },
  {
   "cell_type": "code",
   "execution_count": null,
   "id": "7753bbbb",
   "metadata": {},
   "outputs": [],
   "source": [
    "\"\"\"\n",
    "model_finbert = BertForSequenceClassification.from_pretrained('model_test/pytorch_model.bin',config='model_test/config.json',num_labels=3)\n",
    "model_crudebert = BertForSequenceClassification.from_pretrained('model_test/crude_bert_model.bin',config='model_test/crude_bert_config.json',num_labels=3)\n",
    "\"\"\""
   ]
  },
  {
   "cell_type": "markdown",
   "id": "76be8b8c",
   "metadata": {},
   "source": [
    "## Save pre-trained Model"
   ]
  },
  {
   "cell_type": "code",
   "execution_count": 27,
   "id": "6844931d",
   "metadata": {
    "scrolled": true
   },
   "outputs": [],
   "source": [
    "import torch\n",
    "\n",
    "torch_path =\"C:/Users/KAPLAN/Desktop/pytorch_examples/models/CrudeBERT_model\"\n",
    "torch.save(model.state_dict(), os.path.join(torch_path, \"crudebert_v2.pth\"))"
   ]
  },
  {
   "cell_type": "markdown",
   "id": "9c4e2e2c",
   "metadata": {},
   "source": [
    "# Read Headlines"
   ]
  },
  {
   "cell_type": "code",
   "execution_count": 28,
   "id": "110b5b2e",
   "metadata": {},
   "outputs": [],
   "source": [
    "news = pd.read_excel(\"news.xlsx\",parse_dates=[['Date', 'Time']], engine='openpyxl')"
   ]
  },
  {
   "cell_type": "code",
   "execution_count": 29,
   "id": "c6408709",
   "metadata": {
    "scrolled": true
   },
   "outputs": [
    {
     "name": "stderr",
     "output_type": "stream",
     "text": [
      "[nltk_data] Downloading package punkt to\n",
      "[nltk_data]     C:\\Users\\KAPLAN\\AppData\\Roaming\\nltk_data...\n",
      "[nltk_data]   Package punkt is already up-to-date!\n"
     ]
    },
    {
     "data": {
      "text/plain": [
       "True"
      ]
     },
     "execution_count": 29,
     "metadata": {},
     "output_type": "execute_result"
    }
   ],
   "source": [
    "import nltk\n",
    "nltk.download('punkt')"
   ]
  },
  {
   "cell_type": "code",
   "execution_count": 30,
   "id": "510453da",
   "metadata": {},
   "outputs": [
    {
     "data": {
      "text/plain": [
       "46033"
      ]
     },
     "execution_count": 30,
     "metadata": {},
     "output_type": "execute_result"
    }
   ],
   "source": [
    "# Clear Ram with gc (garbage collector)\n",
    "\n",
    "gc.collect()\n",
    "\n",
    "#del my_array\n",
    "#del my_object\n",
    "#gc.collect()"
   ]
  },
  {
   "cell_type": "markdown",
   "id": "f568f6c0",
   "metadata": {},
   "source": [
    "### Slice dataframe if it is to big for the RAM"
   ]
  },
  {
   "cell_type": "code",
   "execution_count": 31,
   "id": "3d93ccdf",
   "metadata": {},
   "outputs": [],
   "source": [
    "news_text_first_quarter = news.Headline[:int(len(news.Headline)/4)]"
   ]
  },
  {
   "cell_type": "code",
   "execution_count": 32,
   "id": "c2ab9a6c",
   "metadata": {},
   "outputs": [],
   "source": [
    "news_text_second_quarter = news.Headline[int(len(news.Headline)/4):int(len(news.Headline)/2)]"
   ]
  },
  {
   "cell_type": "code",
   "execution_count": 33,
   "id": "22860a29",
   "metadata": {},
   "outputs": [],
   "source": [
    "news_text_third_quarter = news.Headline[int(len(news.Headline)/2):int(len(news.Headline)/4)*3]"
   ]
  },
  {
   "cell_type": "code",
   "execution_count": 34,
   "id": "328c611c",
   "metadata": {},
   "outputs": [],
   "source": [
    "news_text_fourth_quarter = news.Headline[int(len(news.Headline)/4)*3:]"
   ]
  },
  {
   "cell_type": "markdown",
   "id": "c584de5c",
   "metadata": {},
   "source": [
    "### Verify if sum of slices have the same size as the unsliced dataframe"
   ]
  },
  {
   "cell_type": "code",
   "execution_count": 35,
   "id": "80b51e2c",
   "metadata": {},
   "outputs": [
    {
     "data": {
      "text/plain": [
       "True"
      ]
     },
     "execution_count": 35,
     "metadata": {},
     "output_type": "execute_result"
    }
   ],
   "source": [
    "len(news) == len(news_text_first_quarter) + len(news_text_second_quarter) + len(news_text_third_quarter) + len(news_text_fourth_quarter)"
   ]
  },
  {
   "cell_type": "markdown",
   "id": "8fab9aef",
   "metadata": {},
   "source": [
    "### Check with a small sample first"
   ]
  },
  {
   "cell_type": "code",
   "execution_count": 36,
   "id": "f7601322",
   "metadata": {},
   "outputs": [],
   "source": [
    "sample = news.Headline[:50]"
   ]
  },
  {
   "cell_type": "code",
   "execution_count": 39,
   "id": "c3410b1d",
   "metadata": {},
   "outputs": [
    {
     "data": {
      "text/plain": [
       "0     India Apr-Nov Oil Imports $6.20B Vs $4.03B; +53.86%                                                                                                                                                 \n",
       "1     Texaco and Chevron Missed the Boat on Big Stock Gains --- Their Returns Were Stagnant as Oil Prices Soared Amid Mergers Among Rivals ---- By Steve Liesman Staff Reporter of The Wall Street Journal\n",
       "2     Taiwan CPC Dec Crude Oil Imports 20.4M Bbl, US$23.79/Bbl                                                                                                                                            \n",
       "3     Midday US Spot Crude: Prices Sink With Crude Futures                                                                                                                                                \n",
       "4     API: US Crude Stocks Dn 1.568 Mln Bbl In Week                                                                                                                                                       \n",
       "5     Nymex Access Crude Down After 4th Straight Day Of Losses                                                                                                                                            \n",
       "6     China's CNPC '99 Crude Output 107.08M MT; Dn 0.3%                                                                                                                                                   \n",
       "7     Late US Spot Crude: Prices Lower After Choppy Day                                                                                                                                                   \n",
       "8     WSJ(1/7): Texaco Says Oil Find May Hold A Billion Barrels                                                                                                                                           \n",
       "9     Nymex Midmorning:Crude Dn On Report Of Higher OPEC Output                                                                                                                                           \n",
       "10    Nymex Midday: Crude Weakens After Morning Rally Fizzles                                                                                                                                             \n",
       "11    Midday US Spot Crude: Prices Slip; Differentials Strengthen                                                                                                                                         \n",
       "12    Late US Spot Crude: Prices Rebound In Late Short-Covering                                                                                                                                           \n",
       "13    Colombia's Ecopetrol: To Sell Crude Cargo Tuesday                                                                                                                                                   \n",
       "14    Nymex Crude Drops Overnight On API Inventory Data                                                                                                                                                   \n",
       "15    API: US Crude Stocks Up 1.711 Mln Bbl In Week                                                                                                                                                       \n",
       "16    Energy Highlights: US Crude Stocks Up 1.711 Mln Bbl In Wk                                                                                                                                           \n",
       "17    DOE: US Crude Oil Stocks Up 3.1 Mln Bbls In Week                                                                                                                                                    \n",
       "18    Thai Jan-Nov Oil Imports 732,930B/D; Up 3.7%                                                                                                                                                        \n",
       "19    US Dec Oil Demand Unchanged From Nov - EIA                                                                                                                                                          \n",
       "20    US Dec Oil Demand Up 400,000 B/D On Year - EIA                                                                                                                                                      \n",
       "21    Iraq Oil Exports Seen Rebounding To 2 Mln B/D -Sources                                                                                                                                              \n",
       "22    Nymex Close: Crude Gains On Likely OPEC Cut Extension                                                                                                                                               \n",
       "23    IPE Close: Brent Settles Up On Bullish OPEC Comments                                                                                                                                                \n",
       "24    First Report On French Oil Spill Blames Owners And Others                                                                                                                                           \n",
       "25    Korea Fin Min: Oil Price Rises No Major Impact On CPI                                                                                                                                               \n",
       "26    Energy Highlights: Iraqi Oil Exports Rebound To 2 Mln B/D                                                                                                                                           \n",
       "27    N.Y. Stocks: Rising Oil Prices, Slumping Bonds Weigh In                                                                                                                                             \n",
       "28    Canada Bonds Down, Pacing Treasurys As Oil Prices Rise                                                                                                                                              \n",
       "29    API: US Crude Stocks Up 0.812 Mln Bbl In Week                                                                                                                                                       \n",
       "30    Nymex Access Crude Dn On Stks Data After Nearing $30/Bbl                                                                                                                                            \n",
       "31    S Korea Sees '00 Crude Oil Imports +36.7% To $20.2B                                                                                                                                                 \n",
       "32    Petroleum Prices Fall in London, Relieving Some Inflation Worries ---- Associated Press News Service                                                                                                \n",
       "33    Singapore December Domestic Oil Exports +39.5% On Yr                                                                                                                                                \n",
       "34    DOE: US Crude Oil Stocks Dn 0.1 Mln Bbls In Week                                                                                                                                                    \n",
       "35    Ecuador Dec Crude Output 379,728 B/D, Up 2.3% On Yr                                                                                                                                                 \n",
       "36    Brazil Oil Spill Spreads; Petrobras Fires 2 -CBN Radio                                                                                                                                              \n",
       "37    WSJ(1/24): Commodities: Oil Futures Up In Frigid Weather Fri                                                                                                                                        \n",
       "38    Resumption of Iraqi Arms Inspections Is Impeded by Oil-Price Rise, U.N. Split ---- By Neil King Jr. Staff Reporter of The Wall Street Journal                                                       \n",
       "39    Greenpeace Protests As Brazil's Oil Spill Spreads                                                                                                                                                   \n",
       "40    Iraq Oil Exports Fall To 1.85M B/D, Price Up At $25.38                                                                                                                                              \n",
       "41    Midday US Spot Crude: Prices Sink With Crude Futures                                                                                                                                                \n",
       "42    Mexico's December Crude Export Price $22.15/Bbl - Fin Min                                                                                                                                           \n",
       "43    Exxon Mobil Budget-2: Sees 2000 Oil Production Up 4%>XOM                                                                                                                                            \n",
       "44    Ecuador's Dec Oil Exports -23.5% On Yr To 180,968 B/D                                                                                                                                               \n",
       "45    News Highlights: US Crude Stocks Dn 3.004 Mln Bbl In Week                                                                                                                                           \n",
       "46    IPE Close: Brent Settles Higher In Choppy Session                                                                                                                                                   \n",
       "47    API: US Crude Stocks Dn 3.004 Mln Bbl In Week                                                                                                                                                       \n",
       "48    Upton Resources Dec Oil Output Rises To 4,400 B/D >T.URC                                                                                                                                            \n",
       "49    DOE: US Crude Oil Stocks Dn 2.4 Mln Bbls In Week                                                                                                                                                    \n",
       "Name: Headline, dtype: object"
      ]
     },
     "execution_count": 39,
     "metadata": {},
     "output_type": "execute_result"
    }
   ],
   "source": [
    "sample"
   ]
  },
  {
   "cell_type": "code",
   "execution_count": 43,
   "id": "d831e0f1",
   "metadata": {},
   "outputs": [
    {
     "name": "stderr",
     "output_type": "stream",
     "text": [
      "06/29/2021 04:25:33 - INFO - finbert.utils -   *** Example ***\n",
      "06/29/2021 04:25:33 - INFO - finbert.utils -   guid: 0\n",
      "06/29/2021 04:25:33 - INFO - finbert.utils -   tokens: [CLS] india apr - nov oil imports $ 6 . 20 ##b vs $ 4 . 03 ##b ; + 53 . 86 % [SEP]\n",
      "06/29/2021 04:25:33 - INFO - finbert.utils -   input_ids: 101 2634 19804 1011 13292 3514 17589 1002 1020 1012 2322 2497 5443 1002 1018 1012 6021 2497 1025 1009 5187 1012 6564 1003 102 0 0 0 0 0 0 0 0 0 0 0 0 0 0 0 0 0 0 0 0 0 0 0 0 0 0 0 0 0 0 0 0 0 0 0 0 0 0 0\n",
      "06/29/2021 04:25:33 - INFO - finbert.utils -   attention_mask: 1 1 1 1 1 1 1 1 1 1 1 1 1 1 1 1 1 1 1 1 1 1 1 1 1 0 0 0 0 0 0 0 0 0 0 0 0 0 0 0 0 0 0 0 0 0 0 0 0 0 0 0 0 0 0 0 0 0 0 0 0 0 0 0\n",
      "06/29/2021 04:25:33 - INFO - finbert.utils -   token_type_ids: 0 0 0 0 0 0 0 0 0 0 0 0 0 0 0 0 0 0 0 0 0 0 0 0 0 0 0 0 0 0 0 0 0 0 0 0 0 0 0 0 0 0 0 0 0 0 0 0 0 0 0 0 0 0 0 0 0 0 0 0 0 0 0 0\n",
      "06/29/2021 04:25:33 - INFO - finbert.utils -   label: None (id = 9090)\n",
      "06/29/2021 04:25:36 - INFO - root -   tensor([[ 3.1966, -1.1463, -3.6157],\n",
      "        [ 3.2239, -1.2391, -3.8147],\n",
      "        [ 2.5744, -1.2825, -2.9066],\n",
      "        [-0.9758,  4.2272, -3.5813],\n",
      "        [ 3.7059, -1.7096, -3.7759],\n",
      "        [-1.4153,  4.2816, -3.0300],\n",
      "        [ 3.0996, -2.1061, -2.4927],\n",
      "        [-1.3359,  4.1967, -3.1392],\n",
      "        [-1.4503,  4.3339, -2.9012],\n",
      "        [-0.6382,  3.9674, -3.8748],\n",
      "        [-1.0382,  4.2811, -3.5838],\n",
      "        [-1.1569,  4.3467, -3.5068],\n",
      "        [ 3.6585, -1.9310, -3.5616],\n",
      "        [-1.0161,  3.4125, -2.9769],\n",
      "        [-1.6533,  4.2880, -2.5951],\n",
      "        [-2.2258,  4.6199, -2.0404],\n",
      "        [-2.0717,  4.6452, -2.3025],\n",
      "        [-2.1833,  4.6454, -2.1750],\n",
      "        [ 3.6857, -2.1469, -3.3576],\n",
      "        [-2.2550, -1.4100,  4.7439],\n",
      "        [ 3.7566, -2.2058, -3.1791],\n",
      "        [-2.2602,  4.4469, -1.8965],\n",
      "        [ 3.6553, -2.2040, -3.0597],\n",
      "        [ 3.6168, -2.0580, -3.4463],\n",
      "        [ 3.9676, -2.8644, -2.6328],\n",
      "        [ 3.6231, -1.8359, -3.5301],\n",
      "        [-2.0185,  4.4797, -2.2061],\n",
      "        [ 2.9602, -0.3633, -4.2332],\n",
      "        [ 1.2450,  2.2629, -4.4461],\n",
      "        [-2.1664,  4.6247, -2.1430],\n",
      "        [-1.5686,  4.2904, -2.7140],\n",
      "        [ 3.5601, -2.1674, -3.2399],\n",
      "        [-1.2736,  4.2527, -3.2515],\n",
      "        [-2.2621,  4.4793, -1.9202],\n",
      "        [ 3.7264, -1.8720, -3.6621],\n",
      "        [-2.2491,  4.5416, -2.0691],\n",
      "        [ 4.0886, -2.5421, -3.2497],\n",
      "        [ 3.6929, -2.0215, -3.4081],\n",
      "        [ 3.2533, -1.6424, -3.5564],\n",
      "        [ 4.0162, -2.5504, -3.1959],\n",
      "        [ 3.9754, -2.1415, -3.5012],\n",
      "        [-0.9758,  4.2272, -3.5813],\n",
      "        [-0.2921,  1.9444, -2.2254],\n",
      "        [-1.7658,  4.3719, -2.6940],\n",
      "        [ 4.0135, -2.3923, -3.3311],\n",
      "        [ 3.5519, -1.4012, -3.9010],\n",
      "        [ 3.6140, -1.9285, -3.5790],\n",
      "        [ 3.7221, -1.6401, -3.8708],\n",
      "        [-1.8981,  4.6243, -2.6574],\n",
      "        [ 3.7373, -1.8014, -3.7275]])\n"
     ]
    },
    {
     "name": "stdout",
     "output_type": "stream",
     "text": [
      " Time passed: 4.738311290740967 seconds \n"
     ]
    }
   ],
   "source": [
    "#if TypeError: expected string or bytes-like object -> re-run def predict(text, model, write_to_csv=False, path=None):\n",
    "start_time = time.time()\n",
    "df_sample = predict(sample , model)\n",
    "print(\" Time passed: {} seconds \".format(time.time() - start_time))"
   ]
  },
  {
   "cell_type": "code",
   "execution_count": 44,
   "id": "ca320922",
   "metadata": {
    "scrolled": true
   },
   "outputs": [
    {
     "data": {
      "text/html": [
       "<div>\n",
       "<style scoped>\n",
       "    .dataframe tbody tr th:only-of-type {\n",
       "        vertical-align: middle;\n",
       "    }\n",
       "\n",
       "    .dataframe tbody tr th {\n",
       "        vertical-align: top;\n",
       "    }\n",
       "\n",
       "    .dataframe thead th {\n",
       "        text-align: right;\n",
       "    }\n",
       "</style>\n",
       "<table border=\"1\" class=\"dataframe\">\n",
       "  <thead>\n",
       "    <tr style=\"text-align: right;\">\n",
       "      <th></th>\n",
       "      <th>sentence</th>\n",
       "      <th>logit</th>\n",
       "      <th>prediction</th>\n",
       "      <th>sentiment_score</th>\n",
       "    </tr>\n",
       "  </thead>\n",
       "  <tbody>\n",
       "    <tr>\n",
       "      <th>0</th>\n",
       "      <td>India Apr-Nov Oil Imports $6.20B Vs $4.03B; +53.86%</td>\n",
       "      <td>[0.98609746, 0.012817581, 0.0010848499]</td>\n",
       "      <td>positive</td>\n",
       "      <td>0.973280</td>\n",
       "    </tr>\n",
       "    <tr>\n",
       "      <th>1</th>\n",
       "      <td>Texaco and Chevron Missed the Boat on Big Stock Gains --- Their Returns Were Stagnant as Oil Prices Soared Amid Mergers Among Rivals ---- By Steve Liesman Staff Reporter of The Wall Street Journal</td>\n",
       "      <td>[0.9877461, 0.011387259, 0.000866613]</td>\n",
       "      <td>positive</td>\n",
       "      <td>0.976359</td>\n",
       "    </tr>\n",
       "    <tr>\n",
       "      <th>2</th>\n",
       "      <td>Taiwan CPC Dec Crude Oil Imports 20.4M Bbl, US$23.79/Bbl</td>\n",
       "      <td>[0.97532666, 0.02061114, 0.0040622023]</td>\n",
       "      <td>positive</td>\n",
       "      <td>0.954715</td>\n",
       "    </tr>\n",
       "    <tr>\n",
       "      <th>3</th>\n",
       "      <td>Midday US Spot Crude: Prices Sink With Crude Futures</td>\n",
       "      <td>[0.0054678926, 0.9941282, 0.00040388945]</td>\n",
       "      <td>negative</td>\n",
       "      <td>-0.988660</td>\n",
       "    </tr>\n",
       "    <tr>\n",
       "      <th>4</th>\n",
       "      <td>API: US Crude Stocks Dn 1.568 Mln Bbl In Week</td>\n",
       "      <td>[0.9950145, 0.0044249943, 0.00056048797]</td>\n",
       "      <td>positive</td>\n",
       "      <td>0.990589</td>\n",
       "    </tr>\n",
       "    <tr>\n",
       "      <th>5</th>\n",
       "      <td>Nymex Access Crude Down After 4th Straight Day Of Losses</td>\n",
       "      <td>[0.0033427356, 0.99599224, 0.000665048]</td>\n",
       "      <td>negative</td>\n",
       "      <td>-0.992649</td>\n",
       "    </tr>\n",
       "    <tr>\n",
       "      <th>6</th>\n",
       "      <td>China's CNPC '99 Crude Output 107.08M MT; Dn 0.3%</td>\n",
       "      <td>[0.9908722, 0.005435391, 0.0036924842]</td>\n",
       "      <td>positive</td>\n",
       "      <td>0.985437</td>\n",
       "    </tr>\n",
       "    <tr>\n",
       "      <th>7</th>\n",
       "      <td>Late US Spot Crude: Prices Lower After Choppy Day</td>\n",
       "      <td>[0.003937547, 0.9954137, 0.0006487168]</td>\n",
       "      <td>negative</td>\n",
       "      <td>-0.991476</td>\n",
       "    </tr>\n",
       "    <tr>\n",
       "      <th>8</th>\n",
       "      <td>WSJ(1/7): Texaco Says Oil Find May Hold A Billion Barrels</td>\n",
       "      <td>[0.0030643546, 0.99621755, 0.0007181191]</td>\n",
       "      <td>negative</td>\n",
       "      <td>-0.993153</td>\n",
       "    </tr>\n",
       "    <tr>\n",
       "      <th>9</th>\n",
       "      <td>Nymex Midmorning:Crude Dn On Report Of Higher OPEC Output</td>\n",
       "      <td>[0.009893067, 0.9897182, 0.00038876696]</td>\n",
       "      <td>negative</td>\n",
       "      <td>-0.979825</td>\n",
       "    </tr>\n",
       "    <tr>\n",
       "      <th>10</th>\n",
       "      <td>Nymex Midday: Crude Weakens After Morning Rally Fizzles</td>\n",
       "      <td>[0.0048707095, 0.99474734, 0.00038198035]</td>\n",
       "      <td>negative</td>\n",
       "      <td>-0.989877</td>\n",
       "    </tr>\n",
       "    <tr>\n",
       "      <th>11</th>\n",
       "      <td>Midday US Spot Crude: Prices Slip; Differentials Strengthen</td>\n",
       "      <td>[0.0040537403, 0.9955596, 0.00038665623]</td>\n",
       "      <td>negative</td>\n",
       "      <td>-0.991506</td>\n",
       "    </tr>\n",
       "    <tr>\n",
       "      <th>12</th>\n",
       "      <td>Late US Spot Crude: Prices Rebound In Late Short-Covering</td>\n",
       "      <td>[0.9955514, 0.0037200646, 0.0007284693]</td>\n",
       "      <td>positive</td>\n",
       "      <td>0.991831</td>\n",
       "    </tr>\n",
       "    <tr>\n",
       "      <th>13</th>\n",
       "      <td>Colombia's Ecopetrol: To Sell Crude Cargo Tuesday</td>\n",
       "      <td>[0.011771773, 0.9865714, 0.0016568293]</td>\n",
       "      <td>negative</td>\n",
       "      <td>-0.974800</td>\n",
       "    </tr>\n",
       "    <tr>\n",
       "      <th>14</th>\n",
       "      <td>Nymex Crude Drops Overnight On API Inventory Data</td>\n",
       "      <td>[0.002618851, 0.9963599, 0.0010212243]</td>\n",
       "      <td>negative</td>\n",
       "      <td>-0.993741</td>\n",
       "    </tr>\n",
       "    <tr>\n",
       "      <th>15</th>\n",
       "      <td>API: US Crude Stocks Up 1.711 Mln Bbl In Week</td>\n",
       "      <td>[0.0010615591, 0.99766064, 0.0012777302]</td>\n",
       "      <td>negative</td>\n",
       "      <td>-0.996599</td>\n",
       "    </tr>\n",
       "    <tr>\n",
       "      <th>16</th>\n",
       "      <td>Energy Highlights: US Crude Stocks Up 1.711 Mln Bbl In Wk</td>\n",
       "      <td>[0.0012077108, 0.99783355, 0.0009588007]</td>\n",
       "      <td>negative</td>\n",
       "      <td>-0.996626</td>\n",
       "    </tr>\n",
       "    <tr>\n",
       "      <th>17</th>\n",
       "      <td>DOE: US Crude Oil Stocks Up 3.1 Mln Bbls In Week</td>\n",
       "      <td>[0.0010798757, 0.9978313, 0.0010889091]</td>\n",
       "      <td>negative</td>\n",
       "      <td>-0.996751</td>\n",
       "    </tr>\n",
       "    <tr>\n",
       "      <th>18</th>\n",
       "      <td>Thai Jan-Nov Oil Imports 732,930B/D; Up 3.7%</td>\n",
       "      <td>[0.99621093, 0.0029192255, 0.0008699337]</td>\n",
       "      <td>positive</td>\n",
       "      <td>0.993292</td>\n",
       "    </tr>\n",
       "    <tr>\n",
       "      <th>19</th>\n",
       "      <td>US Dec Oil Demand Unchanged From Nov - EIA</td>\n",
       "      <td>[0.0009101264, 0.0021186525, 0.99697125]</td>\n",
       "      <td>neutral</td>\n",
       "      <td>-0.001209</td>\n",
       "    </tr>\n",
       "    <tr>\n",
       "      <th>20</th>\n",
       "      <td>US Dec Oil Demand Up 400,000 B/D On Year - EIA</td>\n",
       "      <td>[0.9964665, 0.0025645222, 0.00096897973]</td>\n",
       "      <td>positive</td>\n",
       "      <td>0.993902</td>\n",
       "    </tr>\n",
       "    <tr>\n",
       "      <th>21</th>\n",
       "      <td>Iraq Oil Exports Seen Rebounding To 2 Mln B/D -Sources</td>\n",
       "      <td>[0.0012185031, 0.9970285, 0.0017529536]</td>\n",
       "      <td>negative</td>\n",
       "      <td>-0.995810</td>\n",
       "    </tr>\n",
       "    <tr>\n",
       "      <th>22</th>\n",
       "      <td>Nymex Close: Crude Gains On Likely OPEC Cut Extension</td>\n",
       "      <td>[0.9959506, 0.0028416712, 0.0012077377]</td>\n",
       "      <td>positive</td>\n",
       "      <td>0.993109</td>\n",
       "    </tr>\n",
       "    <tr>\n",
       "      <th>23</th>\n",
       "      <td>IPE Close: Brent Settles Up On Bullish OPEC Comments</td>\n",
       "      <td>[0.9957307, 0.003416768, 0.0008524907]</td>\n",
       "      <td>positive</td>\n",
       "      <td>0.992314</td>\n",
       "    </tr>\n",
       "    <tr>\n",
       "      <th>24</th>\n",
       "      <td>First Report On French Oil Spill Blames Owners And Others</td>\n",
       "      <td>[0.99756753, 0.001076002, 0.00135646]</td>\n",
       "      <td>positive</td>\n",
       "      <td>0.996492</td>\n",
       "    </tr>\n",
       "    <tr>\n",
       "      <th>25</th>\n",
       "      <td>Korea Fin Min: Oil Price Rises No Major Impact On CPI</td>\n",
       "      <td>[0.9949851, 0.0042364043, 0.0007784219]</td>\n",
       "      <td>positive</td>\n",
       "      <td>0.990749</td>\n",
       "    </tr>\n",
       "    <tr>\n",
       "      <th>26</th>\n",
       "      <td>Energy Highlights: Iraqi Oil Exports Rebound To 2 Mln B/D</td>\n",
       "      <td>[0.0015019582, 0.997253, 0.0012450187]</td>\n",
       "      <td>negative</td>\n",
       "      <td>-0.995751</td>\n",
       "    </tr>\n",
       "    <tr>\n",
       "      <th>27</th>\n",
       "      <td>N.Y. Stocks: Rising Oil Prices, Slumping Bonds Weigh In</td>\n",
       "      <td>[0.9645252, 0.034749955, 0.0007248686]</td>\n",
       "      <td>positive</td>\n",
       "      <td>0.929775</td>\n",
       "    </tr>\n",
       "    <tr>\n",
       "      <th>28</th>\n",
       "      <td>Canada Bonds Down, Pacing Treasurys As Oil Prices Rise</td>\n",
       "      <td>[0.2651941, 0.7339106, 0.00089526613]</td>\n",
       "      <td>negative</td>\n",
       "      <td>-0.468717</td>\n",
       "    </tr>\n",
       "    <tr>\n",
       "      <th>29</th>\n",
       "      <td>API: US Crude Stocks Up 0.812 Mln Bbl In Week</td>\n",
       "      <td>[0.0011212169, 0.99773103, 0.0011477752]</td>\n",
       "      <td>negative</td>\n",
       "      <td>-0.996610</td>\n",
       "    </tr>\n",
       "    <tr>\n",
       "      <th>30</th>\n",
       "      <td>Nymex Access Crude Dn On Stks Data After Nearing $30/Bbl</td>\n",
       "      <td>[0.0028431513, 0.99625236, 0.0009044608]</td>\n",
       "      <td>negative</td>\n",
       "      <td>-0.993409</td>\n",
       "    </tr>\n",
       "    <tr>\n",
       "      <th>31</th>\n",
       "      <td>S Korea Sees '00 Crude Oil Imports +36.7% To $20.2B</td>\n",
       "      <td>[0.99564976, 0.0032413101, 0.0011089403]</td>\n",
       "      <td>positive</td>\n",
       "      <td>0.992408</td>\n",
       "    </tr>\n",
       "    <tr>\n",
       "      <th>32</th>\n",
       "      <td>Petroleum Prices Fall in London, Relieving Some Inflation Worries ---- Associated Press News Service</td>\n",
       "      <td>[0.0039626043, 0.9954892, 0.000548285]</td>\n",
       "      <td>negative</td>\n",
       "      <td>-0.991527</td>\n",
       "    </tr>\n",
       "    <tr>\n",
       "      <th>33</th>\n",
       "      <td>Singapore December Domestic Oil Exports +39.5% On Yr</td>\n",
       "      <td>[0.0011775985, 0.9971648, 0.0016577053]</td>\n",
       "      <td>negative</td>\n",
       "      <td>-0.995987</td>\n",
       "    </tr>\n",
       "    <tr>\n",
       "      <th>34</th>\n",
       "      <td>DOE: US Crude Oil Stocks Dn 0.1 Mln Bbls In Week</td>\n",
       "      <td>[0.9956963, 0.0036880116, 0.00061568676]</td>\n",
       "      <td>positive</td>\n",
       "      <td>0.992008</td>\n",
       "    </tr>\n",
       "    <tr>\n",
       "      <th>35</th>\n",
       "      <td>Ecuador Dec Crude Output 379,728 B/D, Up 2.3% On Yr</td>\n",
       "      <td>[0.0011213935, 0.99753606, 0.001342551]</td>\n",
       "      <td>negative</td>\n",
       "      <td>-0.996415</td>\n",
       "    </tr>\n",
       "    <tr>\n",
       "      <th>36</th>\n",
       "      <td>Brazil Oil Spill Spreads; Petrobras Fires 2 -CBN Radio</td>\n",
       "      <td>[0.9980344, 0.0013167377, 0.0006489043]</td>\n",
       "      <td>positive</td>\n",
       "      <td>0.996718</td>\n",
       "    </tr>\n",
       "    <tr>\n",
       "      <th>37</th>\n",
       "      <td>WSJ(1/24): Commodities: Oil Futures Up In Frigid Weather Fri</td>\n",
       "      <td>[0.99589443, 0.0032845966, 0.00082089624]</td>\n",
       "      <td>positive</td>\n",
       "      <td>0.992610</td>\n",
       "    </tr>\n",
       "    <tr>\n",
       "      <th>38</th>\n",
       "      <td>Resumption of Iraqi Arms Inspections Is Impeded by Oil-Price Rise, U.N. Split ---- By Neil King Jr. Staff Reporter of The Wall Street Journal</td>\n",
       "      <td>[0.9914916, 0.0074146874, 0.001093666]</td>\n",
       "      <td>positive</td>\n",
       "      <td>0.984077</td>\n",
       "    </tr>\n",
       "    <tr>\n",
       "      <th>39</th>\n",
       "      <td>Greenpeace Protests As Brazil's Oil Spill Spreads</td>\n",
       "      <td>[0.9978604, 0.0014035288, 0.00073603046]</td>\n",
       "      <td>positive</td>\n",
       "      <td>0.996457</td>\n",
       "    </tr>\n",
       "    <tr>\n",
       "      <th>40</th>\n",
       "      <td>Iraq Oil Exports Fall To 1.85M B/D, Price Up At $25.38</td>\n",
       "      <td>[0.9972363, 0.002199101, 0.00056460325]</td>\n",
       "      <td>positive</td>\n",
       "      <td>0.995037</td>\n",
       "    </tr>\n",
       "    <tr>\n",
       "      <th>41</th>\n",
       "      <td>Midday US Spot Crude: Prices Sink With Crude Futures</td>\n",
       "      <td>[0.0054678926, 0.9941282, 0.00040388945]</td>\n",
       "      <td>negative</td>\n",
       "      <td>-0.988660</td>\n",
       "    </tr>\n",
       "    <tr>\n",
       "      <th>42</th>\n",
       "      <td>Mexico's December Crude Export Price $22.15/Bbl - Fin Min</td>\n",
       "      <td>[0.0951969, 0.89103085, 0.013772254]</td>\n",
       "      <td>negative</td>\n",
       "      <td>-0.795834</td>\n",
       "    </tr>\n",
       "    <tr>\n",
       "      <th>43</th>\n",
       "      <td>Exxon Mobil Budget-2: Sees 2000 Oil Production Up 4%&gt;XOM</td>\n",
       "      <td>[0.0021534245, 0.99699545, 0.0008511304]</td>\n",
       "      <td>negative</td>\n",
       "      <td>-0.994842</td>\n",
       "    </tr>\n",
       "    <tr>\n",
       "      <th>44</th>\n",
       "      <td>Ecuador's Dec Oil Exports -23.5% On Yr To 180,968 B/D</td>\n",
       "      <td>[0.99770725, 0.0016481443, 0.00064457866]</td>\n",
       "      <td>positive</td>\n",
       "      <td>0.996059</td>\n",
       "    </tr>\n",
       "    <tr>\n",
       "      <th>45</th>\n",
       "      <td>News Highlights: US Crude Stocks Dn 3.004 Mln Bbl In Week</td>\n",
       "      <td>[0.99241674, 0.00700788, 0.00057533814]</td>\n",
       "      <td>positive</td>\n",
       "      <td>0.985409</td>\n",
       "    </tr>\n",
       "    <tr>\n",
       "      <th>46</th>\n",
       "      <td>IPE Close: Brent Settles Higher In Choppy Session</td>\n",
       "      <td>[0.995353, 0.003898639, 0.0007483787]</td>\n",
       "      <td>positive</td>\n",
       "      <td>0.991454</td>\n",
       "    </tr>\n",
       "    <tr>\n",
       "      <th>47</th>\n",
       "      <td>API: US Crude Stocks Dn 3.004 Mln Bbl In Week</td>\n",
       "      <td>[0.99483216, 0.0046663475, 0.00050140865]</td>\n",
       "      <td>positive</td>\n",
       "      <td>0.990166</td>\n",
       "    </tr>\n",
       "    <tr>\n",
       "      <th>48</th>\n",
       "      <td>Upton Resources Dec Oil Output Rises To 4,400 B/D &gt;T.URC</td>\n",
       "      <td>[0.001466973, 0.9978466, 0.0006864691]</td>\n",
       "      <td>negative</td>\n",
       "      <td>-0.996380</td>\n",
       "    </tr>\n",
       "    <tr>\n",
       "      <th>49</th>\n",
       "      <td>DOE: US Crude Oil Stocks Dn 2.4 Mln Bbls In Week</td>\n",
       "      <td>[0.9955154, 0.003914191, 0.00057036884]</td>\n",
       "      <td>positive</td>\n",
       "      <td>0.991601</td>\n",
       "    </tr>\n",
       "  </tbody>\n",
       "</table>\n",
       "</div>"
      ],
      "text/plain": [
       "                                                                                                                                                                                                sentence  \\\n",
       "0   India Apr-Nov Oil Imports $6.20B Vs $4.03B; +53.86%                                                                                                                                                    \n",
       "1   Texaco and Chevron Missed the Boat on Big Stock Gains --- Their Returns Were Stagnant as Oil Prices Soared Amid Mergers Among Rivals ---- By Steve Liesman Staff Reporter of The Wall Street Journal   \n",
       "2   Taiwan CPC Dec Crude Oil Imports 20.4M Bbl, US$23.79/Bbl                                                                                                                                               \n",
       "3   Midday US Spot Crude: Prices Sink With Crude Futures                                                                                                                                                   \n",
       "4   API: US Crude Stocks Dn 1.568 Mln Bbl In Week                                                                                                                                                          \n",
       "5   Nymex Access Crude Down After 4th Straight Day Of Losses                                                                                                                                               \n",
       "6   China's CNPC '99 Crude Output 107.08M MT; Dn 0.3%                                                                                                                                                      \n",
       "7   Late US Spot Crude: Prices Lower After Choppy Day                                                                                                                                                      \n",
       "8   WSJ(1/7): Texaco Says Oil Find May Hold A Billion Barrels                                                                                                                                              \n",
       "9   Nymex Midmorning:Crude Dn On Report Of Higher OPEC Output                                                                                                                                              \n",
       "10  Nymex Midday: Crude Weakens After Morning Rally Fizzles                                                                                                                                                \n",
       "11  Midday US Spot Crude: Prices Slip; Differentials Strengthen                                                                                                                                            \n",
       "12  Late US Spot Crude: Prices Rebound In Late Short-Covering                                                                                                                                              \n",
       "13  Colombia's Ecopetrol: To Sell Crude Cargo Tuesday                                                                                                                                                      \n",
       "14  Nymex Crude Drops Overnight On API Inventory Data                                                                                                                                                      \n",
       "15  API: US Crude Stocks Up 1.711 Mln Bbl In Week                                                                                                                                                          \n",
       "16  Energy Highlights: US Crude Stocks Up 1.711 Mln Bbl In Wk                                                                                                                                              \n",
       "17  DOE: US Crude Oil Stocks Up 3.1 Mln Bbls In Week                                                                                                                                                       \n",
       "18  Thai Jan-Nov Oil Imports 732,930B/D; Up 3.7%                                                                                                                                                           \n",
       "19  US Dec Oil Demand Unchanged From Nov - EIA                                                                                                                                                             \n",
       "20  US Dec Oil Demand Up 400,000 B/D On Year - EIA                                                                                                                                                         \n",
       "21  Iraq Oil Exports Seen Rebounding To 2 Mln B/D -Sources                                                                                                                                                 \n",
       "22  Nymex Close: Crude Gains On Likely OPEC Cut Extension                                                                                                                                                  \n",
       "23  IPE Close: Brent Settles Up On Bullish OPEC Comments                                                                                                                                                   \n",
       "24  First Report On French Oil Spill Blames Owners And Others                                                                                                                                              \n",
       "25  Korea Fin Min: Oil Price Rises No Major Impact On CPI                                                                                                                                                  \n",
       "26  Energy Highlights: Iraqi Oil Exports Rebound To 2 Mln B/D                                                                                                                                              \n",
       "27  N.Y. Stocks: Rising Oil Prices, Slumping Bonds Weigh In                                                                                                                                                \n",
       "28  Canada Bonds Down, Pacing Treasurys As Oil Prices Rise                                                                                                                                                 \n",
       "29  API: US Crude Stocks Up 0.812 Mln Bbl In Week                                                                                                                                                          \n",
       "30  Nymex Access Crude Dn On Stks Data After Nearing $30/Bbl                                                                                                                                               \n",
       "31  S Korea Sees '00 Crude Oil Imports +36.7% To $20.2B                                                                                                                                                    \n",
       "32  Petroleum Prices Fall in London, Relieving Some Inflation Worries ---- Associated Press News Service                                                                                                   \n",
       "33  Singapore December Domestic Oil Exports +39.5% On Yr                                                                                                                                                   \n",
       "34  DOE: US Crude Oil Stocks Dn 0.1 Mln Bbls In Week                                                                                                                                                       \n",
       "35  Ecuador Dec Crude Output 379,728 B/D, Up 2.3% On Yr                                                                                                                                                    \n",
       "36  Brazil Oil Spill Spreads; Petrobras Fires 2 -CBN Radio                                                                                                                                                 \n",
       "37  WSJ(1/24): Commodities: Oil Futures Up In Frigid Weather Fri                                                                                                                                           \n",
       "38  Resumption of Iraqi Arms Inspections Is Impeded by Oil-Price Rise, U.N. Split ---- By Neil King Jr. Staff Reporter of The Wall Street Journal                                                          \n",
       "39  Greenpeace Protests As Brazil's Oil Spill Spreads                                                                                                                                                      \n",
       "40  Iraq Oil Exports Fall To 1.85M B/D, Price Up At $25.38                                                                                                                                                 \n",
       "41  Midday US Spot Crude: Prices Sink With Crude Futures                                                                                                                                                   \n",
       "42  Mexico's December Crude Export Price $22.15/Bbl - Fin Min                                                                                                                                              \n",
       "43  Exxon Mobil Budget-2: Sees 2000 Oil Production Up 4%>XOM                                                                                                                                               \n",
       "44  Ecuador's Dec Oil Exports -23.5% On Yr To 180,968 B/D                                                                                                                                                  \n",
       "45  News Highlights: US Crude Stocks Dn 3.004 Mln Bbl In Week                                                                                                                                              \n",
       "46  IPE Close: Brent Settles Higher In Choppy Session                                                                                                                                                      \n",
       "47  API: US Crude Stocks Dn 3.004 Mln Bbl In Week                                                                                                                                                          \n",
       "48  Upton Resources Dec Oil Output Rises To 4,400 B/D >T.URC                                                                                                                                               \n",
       "49  DOE: US Crude Oil Stocks Dn 2.4 Mln Bbls In Week                                                                                                                                                       \n",
       "\n",
       "                                        logit prediction  sentiment_score  \n",
       "0   [0.98609746, 0.012817581, 0.0010848499]    positive   0.973280         \n",
       "1   [0.9877461, 0.011387259, 0.000866613]      positive   0.976359         \n",
       "2   [0.97532666, 0.02061114, 0.0040622023]     positive   0.954715         \n",
       "3   [0.0054678926, 0.9941282, 0.00040388945]   negative  -0.988660         \n",
       "4   [0.9950145, 0.0044249943, 0.00056048797]   positive   0.990589         \n",
       "5   [0.0033427356, 0.99599224, 0.000665048]    negative  -0.992649         \n",
       "6   [0.9908722, 0.005435391, 0.0036924842]     positive   0.985437         \n",
       "7   [0.003937547, 0.9954137, 0.0006487168]     negative  -0.991476         \n",
       "8   [0.0030643546, 0.99621755, 0.0007181191]   negative  -0.993153         \n",
       "9   [0.009893067, 0.9897182, 0.00038876696]    negative  -0.979825         \n",
       "10  [0.0048707095, 0.99474734, 0.00038198035]  negative  -0.989877         \n",
       "11  [0.0040537403, 0.9955596, 0.00038665623]   negative  -0.991506         \n",
       "12  [0.9955514, 0.0037200646, 0.0007284693]    positive   0.991831         \n",
       "13  [0.011771773, 0.9865714, 0.0016568293]     negative  -0.974800         \n",
       "14  [0.002618851, 0.9963599, 0.0010212243]     negative  -0.993741         \n",
       "15  [0.0010615591, 0.99766064, 0.0012777302]   negative  -0.996599         \n",
       "16  [0.0012077108, 0.99783355, 0.0009588007]   negative  -0.996626         \n",
       "17  [0.0010798757, 0.9978313, 0.0010889091]    negative  -0.996751         \n",
       "18  [0.99621093, 0.0029192255, 0.0008699337]   positive   0.993292         \n",
       "19  [0.0009101264, 0.0021186525, 0.99697125]   neutral   -0.001209         \n",
       "20  [0.9964665, 0.0025645222, 0.00096897973]   positive   0.993902         \n",
       "21  [0.0012185031, 0.9970285, 0.0017529536]    negative  -0.995810         \n",
       "22  [0.9959506, 0.0028416712, 0.0012077377]    positive   0.993109         \n",
       "23  [0.9957307, 0.003416768, 0.0008524907]     positive   0.992314         \n",
       "24  [0.99756753, 0.001076002, 0.00135646]      positive   0.996492         \n",
       "25  [0.9949851, 0.0042364043, 0.0007784219]    positive   0.990749         \n",
       "26  [0.0015019582, 0.997253, 0.0012450187]     negative  -0.995751         \n",
       "27  [0.9645252, 0.034749955, 0.0007248686]     positive   0.929775         \n",
       "28  [0.2651941, 0.7339106, 0.00089526613]      negative  -0.468717         \n",
       "29  [0.0011212169, 0.99773103, 0.0011477752]   negative  -0.996610         \n",
       "30  [0.0028431513, 0.99625236, 0.0009044608]   negative  -0.993409         \n",
       "31  [0.99564976, 0.0032413101, 0.0011089403]   positive   0.992408         \n",
       "32  [0.0039626043, 0.9954892, 0.000548285]     negative  -0.991527         \n",
       "33  [0.0011775985, 0.9971648, 0.0016577053]    negative  -0.995987         \n",
       "34  [0.9956963, 0.0036880116, 0.00061568676]   positive   0.992008         \n",
       "35  [0.0011213935, 0.99753606, 0.001342551]    negative  -0.996415         \n",
       "36  [0.9980344, 0.0013167377, 0.0006489043]    positive   0.996718         \n",
       "37  [0.99589443, 0.0032845966, 0.00082089624]  positive   0.992610         \n",
       "38  [0.9914916, 0.0074146874, 0.001093666]     positive   0.984077         \n",
       "39  [0.9978604, 0.0014035288, 0.00073603046]   positive   0.996457         \n",
       "40  [0.9972363, 0.002199101, 0.00056460325]    positive   0.995037         \n",
       "41  [0.0054678926, 0.9941282, 0.00040388945]   negative  -0.988660         \n",
       "42  [0.0951969, 0.89103085, 0.013772254]       negative  -0.795834         \n",
       "43  [0.0021534245, 0.99699545, 0.0008511304]   negative  -0.994842         \n",
       "44  [0.99770725, 0.0016481443, 0.00064457866]  positive   0.996059         \n",
       "45  [0.99241674, 0.00700788, 0.00057533814]    positive   0.985409         \n",
       "46  [0.995353, 0.003898639, 0.0007483787]      positive   0.991454         \n",
       "47  [0.99483216, 0.0046663475, 0.00050140865]  positive   0.990166         \n",
       "48  [0.001466973, 0.9978466, 0.0006864691]     negative  -0.996380         \n",
       "49  [0.9955154, 0.003914191, 0.00057036884]    positive   0.991601         "
      ]
     },
     "execution_count": 44,
     "metadata": {},
     "output_type": "execute_result"
    }
   ],
   "source": [
    "df_sample"
   ]
  },
  {
   "cell_type": "markdown",
   "id": "cb5c9674",
   "metadata": {},
   "source": [
    "### Perform Sentiment Analysis on each slice"
   ]
  },
  {
   "cell_type": "code",
   "execution_count": 45,
   "id": "38bfbabc",
   "metadata": {
    "scrolled": true
   },
   "outputs": [
    {
     "name": "stderr",
     "output_type": "stream",
     "text": [
      "06/29/2021 04:26:12 - INFO - finbert.utils -   *** Example ***\n",
      "06/29/2021 04:26:12 - INFO - finbert.utils -   guid: 0\n",
      "06/29/2021 04:26:12 - INFO - finbert.utils -   tokens: [CLS] india apr - nov oil imports $ 6 . 20 ##b vs $ 4 . 03 ##b ; + 53 . 86 % [SEP]\n",
      "06/29/2021 04:26:12 - INFO - finbert.utils -   input_ids: 101 2634 19804 1011 13292 3514 17589 1002 1020 1012 2322 2497 5443 1002 1018 1012 6021 2497 1025 1009 5187 1012 6564 1003 102 0 0 0 0 0 0 0 0 0 0 0 0 0 0 0 0 0 0 0 0 0 0 0 0 0 0 0 0 0 0 0 0 0 0 0 0 0 0 0\n",
      "06/29/2021 04:26:12 - INFO - finbert.utils -   attention_mask: 1 1 1 1 1 1 1 1 1 1 1 1 1 1 1 1 1 1 1 1 1 1 1 1 1 0 0 0 0 0 0 0 0 0 0 0 0 0 0 0 0 0 0 0 0 0 0 0 0 0 0 0 0 0 0 0 0 0 0 0 0 0 0 0\n",
      "06/29/2021 04:26:12 - INFO - finbert.utils -   token_type_ids: 0 0 0 0 0 0 0 0 0 0 0 0 0 0 0 0 0 0 0 0 0 0 0 0 0 0 0 0 0 0 0 0 0 0 0 0 0 0 0 0 0 0 0 0 0 0 0 0 0 0 0 0 0 0 0 0 0 0 0 0 0 0 0 0\n",
      "06/29/2021 04:26:12 - INFO - finbert.utils -   label: None (id = 9090)\n",
      "06/29/2021 04:33:26 - INFO - root -   tensor([[ 3.1966, -1.1463, -3.6157],\n",
      "        [ 3.2239, -1.2391, -3.8147],\n",
      "        [ 2.5744, -1.2825, -2.9066],\n",
      "        ...,\n",
      "        [ 3.4759, -2.0849, -3.2131],\n",
      "        [ 3.4828, -1.3628, -3.7630],\n",
      "        [ 3.6066, -2.1827, -3.2741]])\n"
     ]
    },
    {
     "name": "stdout",
     "output_type": "stream",
     "text": [
      " Time passed: 436.74452900886536 seconds \n"
     ]
    }
   ],
   "source": [
    "start_time = time.time()\n",
    "df_analyzed_news_text_first_quarter = predict(news_text_first_quarter , model)\n",
    "print(\" Time passed: {} seconds \".format(time.time() - start_time))"
   ]
  },
  {
   "cell_type": "code",
   "execution_count": 46,
   "id": "a99ea760",
   "metadata": {
    "scrolled": true
   },
   "outputs": [
    {
     "name": "stderr",
     "output_type": "stream",
     "text": [
      "06/29/2021 04:33:29 - INFO - finbert.utils -   *** Example ***\n",
      "06/29/2021 04:33:29 - INFO - finbert.utils -   guid: 0\n",
      "06/29/2021 04:33:29 - INFO - finbert.utils -   tokens: [CLS] china jun crude oil exports 1 . 42 ml ##n tons , + 550 % - source [SEP]\n",
      "06/29/2021 04:33:29 - INFO - finbert.utils -   input_ids: 101 2859 12022 13587 3514 14338 1015 1012 4413 19875 2078 6197 1010 1009 13274 1003 1011 3120 102 0 0 0 0 0 0 0 0 0 0 0 0 0 0 0 0 0 0 0 0 0 0 0 0 0 0 0 0 0 0 0 0 0 0 0 0 0 0 0 0 0 0 0 0 0\n",
      "06/29/2021 04:33:29 - INFO - finbert.utils -   attention_mask: 1 1 1 1 1 1 1 1 1 1 1 1 1 1 1 1 1 1 1 0 0 0 0 0 0 0 0 0 0 0 0 0 0 0 0 0 0 0 0 0 0 0 0 0 0 0 0 0 0 0 0 0 0 0 0 0 0 0 0 0 0 0 0 0\n",
      "06/29/2021 04:33:29 - INFO - finbert.utils -   token_type_ids: 0 0 0 0 0 0 0 0 0 0 0 0 0 0 0 0 0 0 0 0 0 0 0 0 0 0 0 0 0 0 0 0 0 0 0 0 0 0 0 0 0 0 0 0 0 0 0 0 0 0 0 0 0 0 0 0 0 0 0 0 0 0 0 0\n",
      "06/29/2021 04:33:29 - INFO - finbert.utils -   label: None (id = 9090)\n",
      "06/29/2021 04:40:39 - INFO - root -   tensor([[-2.0681,  4.3283, -2.0219],\n",
      "        [ 1.1097, -0.3312, -1.5652],\n",
      "        [ 3.5940, -2.4604, -2.7773],\n",
      "        ...,\n",
      "        [-1.2838,  4.0876, -3.0424],\n",
      "        [ 3.4949, -2.3642, -2.8264],\n",
      "        [-0.2336,  3.5580, -4.0130]])\n"
     ]
    },
    {
     "name": "stdout",
     "output_type": "stream",
     "text": [
      " Time passed: 432.3492088317871 seconds \n"
     ]
    }
   ],
   "source": [
    "start_time = time.time()\n",
    "news_text_second_quarter = news_text_second_quarter.reset_index(drop=True) #avoids conflict with len of df and expected index\n",
    "df_analyzed_news_text_second_quarter = predict(news_text_second_quarter , model)\n",
    "print(\" Time passed: {} seconds \".format(time.time() - start_time))"
   ]
  },
  {
   "cell_type": "code",
   "execution_count": 47,
   "id": "c9419a5b",
   "metadata": {},
   "outputs": [
    {
     "name": "stderr",
     "output_type": "stream",
     "text": [
      "06/29/2021 04:40:41 - INFO - finbert.utils -   *** Example ***\n",
      "06/29/2021 04:40:41 - INFO - finbert.utils -   guid: 0\n",
      "06/29/2021 04:40:41 - INFO - finbert.utils -   tokens: [CLS] officials : pirates seize oil tanker in ivory coast [SEP]\n",
      "06/29/2021 04:40:41 - INFO - finbert.utils -   input_ids: 101 4584 1024 8350 15126 3514 20135 1999 11554 3023 102 0 0 0 0 0 0 0 0 0 0 0 0 0 0 0 0 0 0 0 0 0 0 0 0 0 0 0 0 0 0 0 0 0 0 0 0 0 0 0 0 0 0 0 0 0 0 0 0 0 0 0 0 0\n",
      "06/29/2021 04:40:41 - INFO - finbert.utils -   attention_mask: 1 1 1 1 1 1 1 1 1 1 1 0 0 0 0 0 0 0 0 0 0 0 0 0 0 0 0 0 0 0 0 0 0 0 0 0 0 0 0 0 0 0 0 0 0 0 0 0 0 0 0 0 0 0 0 0 0 0 0 0 0 0 0 0\n",
      "06/29/2021 04:40:41 - INFO - finbert.utils -   token_type_ids: 0 0 0 0 0 0 0 0 0 0 0 0 0 0 0 0 0 0 0 0 0 0 0 0 0 0 0 0 0 0 0 0 0 0 0 0 0 0 0 0 0 0 0 0 0 0 0 0 0 0 0 0 0 0 0 0 0 0 0 0 0 0 0 0\n",
      "06/29/2021 04:40:41 - INFO - finbert.utils -   label: None (id = 9090)\n",
      "06/29/2021 04:47:53 - INFO - root -   tensor([[ 3.1073, -0.6371, -4.2808],\n",
      "        [ 3.6724, -1.9706, -3.5659],\n",
      "        [ 3.4751, -1.2786, -3.8988],\n",
      "        ...,\n",
      "        [ 0.4306,  0.6838, -2.2541],\n",
      "        [ 3.9670, -2.5704, -3.0930],\n",
      "        [ 3.5849, -1.9222, -3.6294]])\n"
     ]
    },
    {
     "name": "stdout",
     "output_type": "stream",
     "text": [
      " Time passed: 434.15330600738525 seconds \n"
     ]
    }
   ],
   "source": [
    "start_time = time.time()\n",
    "news_text_third_quarter = news_text_third_quarter.reset_index(drop=True)\n",
    "df_analyzed_news_text_third_quarter = predict(news_text_third_quarter , model)\n",
    "print(\" Time passed: {} seconds \".format(time.time() - start_time))"
   ]
  },
  {
   "cell_type": "code",
   "execution_count": 48,
   "id": "3d747702",
   "metadata": {},
   "outputs": [
    {
     "name": "stderr",
     "output_type": "stream",
     "text": [
      "06/29/2021 04:47:55 - INFO - finbert.utils -   *** Example ***\n",
      "06/29/2021 04:47:55 - INFO - finbert.utils -   guid: 0\n",
      "06/29/2021 04:47:55 - INFO - finbert.utils -   tokens: [CLS] bloomberg brief : kuwait & uae oil production cuts ( audio ) [SEP]\n",
      "06/29/2021 04:47:55 - INFO - finbert.utils -   input_ids: 101 22950 4766 1024 13085 1004 17641 3514 2537 7659 1006 5746 1007 102 0 0 0 0 0 0 0 0 0 0 0 0 0 0 0 0 0 0 0 0 0 0 0 0 0 0 0 0 0 0 0 0 0 0 0 0 0 0 0 0 0 0 0 0 0 0 0 0 0 0\n",
      "06/29/2021 04:47:55 - INFO - finbert.utils -   attention_mask: 1 1 1 1 1 1 1 1 1 1 1 1 1 1 0 0 0 0 0 0 0 0 0 0 0 0 0 0 0 0 0 0 0 0 0 0 0 0 0 0 0 0 0 0 0 0 0 0 0 0 0 0 0 0 0 0 0 0 0 0 0 0 0 0\n",
      "06/29/2021 04:47:55 - INFO - finbert.utils -   token_type_ids: 0 0 0 0 0 0 0 0 0 0 0 0 0 0 0 0 0 0 0 0 0 0 0 0 0 0 0 0 0 0 0 0 0 0 0 0 0 0 0 0 0 0 0 0 0 0 0 0 0 0 0 0 0 0 0 0 0 0 0 0 0 0 0 0\n",
      "06/29/2021 04:47:55 - INFO - finbert.utils -   label: None (id = 9090)\n",
      "06/29/2021 04:55:01 - INFO - root -   tensor([[ 3.9854, -2.6303, -2.8284],\n",
      "        [-1.6262,  4.7121, -2.9758],\n",
      "        [ 3.5597, -2.0760, -3.3851],\n",
      "        ...,\n",
      "        [ 3.4384, -2.6762, -2.3485],\n",
      "        [-1.3398,  4.3437, -3.0216],\n",
      "        [-1.8643,  4.4855, -2.6407]])\n"
     ]
    },
    {
     "name": "stdout",
     "output_type": "stream",
     "text": [
      " Time passed: 427.87345147132874 seconds \n"
     ]
    }
   ],
   "source": [
    "start_time = time.time()\n",
    "news_text_fourth_quarter =news_text_fourth_quarter.reset_index(drop=True)\n",
    "df_analyzed_news_text_fourth_quarter = predict(news_text_fourth_quarter , model)\n",
    "print(\" Time passed: {} seconds \".format(time.time() - start_time))"
   ]
  },
  {
   "cell_type": "markdown",
   "id": "93a6aa9e",
   "metadata": {},
   "source": [
    "### Concatenate the slices"
   ]
  },
  {
   "cell_type": "code",
   "execution_count": 49,
   "id": "27a5ff2e",
   "metadata": {},
   "outputs": [],
   "source": [
    "quarters = [df_analyzed_news_text_first_quarter, df_analyzed_news_text_second_quarter, df_analyzed_news_text_third_quarter, df_analyzed_news_text_fourth_quarter]\n",
    "df_analyzed_news_text_full = pd.concat(quarters)\n",
    "df_analyzed_news_text_full = df_analyzed_news_text_full.reset_index(drop=True)"
   ]
  },
  {
   "cell_type": "markdown",
   "id": "d60d261a",
   "metadata": {},
   "source": [
    "### Verify if sum of concatenated slices have the same size as the initial dataframe"
   ]
  },
  {
   "cell_type": "code",
   "execution_count": 50,
   "id": "1f2bc548",
   "metadata": {},
   "outputs": [
    {
     "data": {
      "text/plain": [
       "True"
      ]
     },
     "execution_count": 50,
     "metadata": {},
     "output_type": "execute_result"
    }
   ],
   "source": [
    "#Check if same size\n",
    "len(news) == len(df_analyzed_news_text_full)"
   ]
  },
  {
   "cell_type": "markdown",
   "id": "8f6ca77d",
   "metadata": {},
   "source": [
    "### Apply the binary sentiment scores neg = -1, neu = 0, pos = 1 (Optional)"
   ]
  },
  {
   "cell_type": "code",
   "execution_count": 496,
   "id": "8889ed4d",
   "metadata": {},
   "outputs": [],
   "source": [
    "sentiment_score_binary = df_analyzed_news_text_full.prediction.apply(oneHot)\n",
    "sentiment_score_binary = sentiment_score_binary.reset_index(drop=True)\n",
    "df_analyzed_news_text_full['sentiment_score_binary'] = sentiment_score_binary"
   ]
  },
  {
   "cell_type": "code",
   "execution_count": 51,
   "id": "be271ee1",
   "metadata": {},
   "outputs": [
    {
     "data": {
      "text/html": [
       "<div>\n",
       "<style scoped>\n",
       "    .dataframe tbody tr th:only-of-type {\n",
       "        vertical-align: middle;\n",
       "    }\n",
       "\n",
       "    .dataframe tbody tr th {\n",
       "        vertical-align: top;\n",
       "    }\n",
       "\n",
       "    .dataframe thead th {\n",
       "        text-align: right;\n",
       "    }\n",
       "</style>\n",
       "<table border=\"1\" class=\"dataframe\">\n",
       "  <thead>\n",
       "    <tr style=\"text-align: right;\">\n",
       "      <th></th>\n",
       "      <th>sentence</th>\n",
       "      <th>logit</th>\n",
       "      <th>prediction</th>\n",
       "      <th>sentiment_score</th>\n",
       "    </tr>\n",
       "  </thead>\n",
       "  <tbody>\n",
       "    <tr>\n",
       "      <th>0</th>\n",
       "      <td>India Apr-Nov Oil Imports $6.20B Vs $4.03B; +53.86%</td>\n",
       "      <td>[0.98609746, 0.012817581, 0.0010848499]</td>\n",
       "      <td>positive</td>\n",
       "      <td>0.973280</td>\n",
       "    </tr>\n",
       "    <tr>\n",
       "      <th>1</th>\n",
       "      <td>Texaco and Chevron Missed the Boat on Big Stock Gains --- Their Returns Were Stagnant as Oil Prices Soared Amid Mergers Among Rivals ---- By Steve Liesman Staff Reporter of The Wall Street Journal</td>\n",
       "      <td>[0.9877461, 0.011387259, 0.000866613]</td>\n",
       "      <td>positive</td>\n",
       "      <td>0.976359</td>\n",
       "    </tr>\n",
       "    <tr>\n",
       "      <th>2</th>\n",
       "      <td>Taiwan CPC Dec Crude Oil Imports 20.4M Bbl, US$23.79/Bbl</td>\n",
       "      <td>[0.97532666, 0.02061114, 0.0040622023]</td>\n",
       "      <td>positive</td>\n",
       "      <td>0.954715</td>\n",
       "    </tr>\n",
       "    <tr>\n",
       "      <th>3</th>\n",
       "      <td>Midday US Spot Crude: Prices Sink With Crude Futures</td>\n",
       "      <td>[0.0054678926, 0.9941282, 0.00040388945]</td>\n",
       "      <td>negative</td>\n",
       "      <td>-0.988660</td>\n",
       "    </tr>\n",
       "    <tr>\n",
       "      <th>4</th>\n",
       "      <td>API: US Crude Stocks Dn 1.568 Mln Bbl In Week</td>\n",
       "      <td>[0.9950145, 0.0044249943, 0.00056048797]</td>\n",
       "      <td>positive</td>\n",
       "      <td>0.990589</td>\n",
       "    </tr>\n",
       "    <tr>\n",
       "      <th>...</th>\n",
       "      <td>...</td>\n",
       "      <td>...</td>\n",
       "      <td>...</td>\n",
       "      <td>...</td>\n",
       "    </tr>\n",
       "    <tr>\n",
       "      <th>45906</th>\n",
       "      <td>U.S. oil production to start rising in second quarter: Kemp</td>\n",
       "      <td>[0.0026063207, 0.99652416, 0.00086946937]</td>\n",
       "      <td>negative</td>\n",
       "      <td>-0.993918</td>\n",
       "    </tr>\n",
       "    <tr>\n",
       "      <th>45907</th>\n",
       "      <td>OPEC+ to increase oil production from May</td>\n",
       "      <td>[0.0017660994, 0.9973092, 0.00092477043]</td>\n",
       "      <td>negative</td>\n",
       "      <td>-0.995543</td>\n",
       "    </tr>\n",
       "    <tr>\n",
       "      <th>45908</th>\n",
       "      <td>OPEC+ to Ease Oil Output Cuts in Cautious Bet on Recovery</td>\n",
       "      <td>[0.9947497, 0.002198854, 0.0030513525]</td>\n",
       "      <td>positive</td>\n",
       "      <td>0.992551</td>\n",
       "    </tr>\n",
       "    <tr>\n",
       "      <th>45909</th>\n",
       "      <td>Iraq's crude oil exports exceed 91 mln barrels in March</td>\n",
       "      <td>[0.003388001, 0.9959817, 0.0006302961]</td>\n",
       "      <td>negative</td>\n",
       "      <td>-0.992594</td>\n",
       "    </tr>\n",
       "    <tr>\n",
       "      <th>45910</th>\n",
       "      <td>Russia to Boost Oil Production by Total of 114,000 Bpd in May-July - Novak</td>\n",
       "      <td>[0.0017427786, 0.9974554, 0.00080176495]</td>\n",
       "      <td>negative</td>\n",
       "      <td>-0.995713</td>\n",
       "    </tr>\n",
       "  </tbody>\n",
       "</table>\n",
       "<p>45911 rows × 4 columns</p>\n",
       "</div>"
      ],
      "text/plain": [
       "                                                                                                                                                                                                   sentence  \\\n",
       "0      India Apr-Nov Oil Imports $6.20B Vs $4.03B; +53.86%                                                                                                                                                    \n",
       "1      Texaco and Chevron Missed the Boat on Big Stock Gains --- Their Returns Were Stagnant as Oil Prices Soared Amid Mergers Among Rivals ---- By Steve Liesman Staff Reporter of The Wall Street Journal   \n",
       "2      Taiwan CPC Dec Crude Oil Imports 20.4M Bbl, US$23.79/Bbl                                                                                                                                               \n",
       "3      Midday US Spot Crude: Prices Sink With Crude Futures                                                                                                                                                   \n",
       "4      API: US Crude Stocks Dn 1.568 Mln Bbl In Week                                                                                                                                                          \n",
       "...                                              ...                                                                                                                                                          \n",
       "45906  U.S. oil production to start rising in second quarter: Kemp                                                                                                                                            \n",
       "45907  OPEC+ to increase oil production from May                                                                                                                                                              \n",
       "45908  OPEC+ to Ease Oil Output Cuts in Cautious Bet on Recovery                                                                                                                                              \n",
       "45909  Iraq's crude oil exports exceed 91 mln barrels in March                                                                                                                                                \n",
       "45910  Russia to Boost Oil Production by Total of 114,000 Bpd in May-July - Novak                                                                                                                             \n",
       "\n",
       "                                           logit prediction  sentiment_score  \n",
       "0      [0.98609746, 0.012817581, 0.0010848499]    positive   0.973280         \n",
       "1      [0.9877461, 0.011387259, 0.000866613]      positive   0.976359         \n",
       "2      [0.97532666, 0.02061114, 0.0040622023]     positive   0.954715         \n",
       "3      [0.0054678926, 0.9941282, 0.00040388945]   negative  -0.988660         \n",
       "4      [0.9950145, 0.0044249943, 0.00056048797]   positive   0.990589         \n",
       "...                                         ...        ...        ...         \n",
       "45906  [0.0026063207, 0.99652416, 0.00086946937]  negative  -0.993918         \n",
       "45907  [0.0017660994, 0.9973092, 0.00092477043]   negative  -0.995543         \n",
       "45908  [0.9947497, 0.002198854, 0.0030513525]     positive   0.992551         \n",
       "45909  [0.003388001, 0.9959817, 0.0006302961]     negative  -0.992594         \n",
       "45910  [0.0017427786, 0.9974554, 0.00080176495]   negative  -0.995713         \n",
       "\n",
       "[45911 rows x 4 columns]"
      ]
     },
     "execution_count": 51,
     "metadata": {},
     "output_type": "execute_result"
    }
   ],
   "source": [
    "df_analyzed_news_text_full"
   ]
  },
  {
   "cell_type": "markdown",
   "id": "45cd8980",
   "metadata": {},
   "source": [
    "###  Save the dataframe"
   ]
  },
  {
   "cell_type": "code",
   "execution_count": 52,
   "id": "b592486a",
   "metadata": {},
   "outputs": [],
   "source": [
    "df_analyzed_news_text_full.to_excel(\"df_analyzed_news_text_full_v2.xlsx\")"
   ]
  }
 ],
 "metadata": {
  "kernelspec": {
   "display_name": "Python 3",
   "language": "python",
   "name": "python3"
  },
  "language_info": {
   "codemirror_mode": {
    "name": "ipython",
    "version": 3
   },
   "file_extension": ".py",
   "mimetype": "text/x-python",
   "name": "python",
   "nbconvert_exporter": "python",
   "pygments_lexer": "ipython3",
   "version": "3.8.10"
  }
 },
 "nbformat": 4,
 "nbformat_minor": 5
}
