{
 "cells": [
  {
   "cell_type": "markdown",
   "id": "4d867629",
   "metadata": {},
   "source": [
    "### Import Libraries"
   ]
  },
  {
   "cell_type": "code",
   "execution_count": 1,
   "id": "3af4e7a6",
   "metadata": {
    "scrolled": false
   },
   "outputs": [
    {
     "name": "stderr",
     "output_type": "stream",
     "text": [
      "<ipython-input-1-6e9265c36784>:21: FutureWarning: Passing a negative integer is deprecated in version 1.0 and will not be supported in future version. Instead, use None to not limit the column width.\n",
      "  pd.set_option('max_colwidth', -1)\n"
     ]
    }
   ],
   "source": [
    "from pathlib import Path\n",
    "import shutil\n",
    "import os\n",
    "import logging\n",
    "import sys\n",
    "import gc\n",
    "sys.path.append('C:/Users/KAPLAN/Desktop/pytorch_examples/models/')\n",
    "from pandas import DataFrame\n",
    "from textblob import TextBlob\n",
    "from pprint import pprint\n",
    "from sklearn.metrics import classification_report, confusion_matrix\n",
    "import seaborn as sns\n",
    "import matplotlib.pyplot as plt\n",
    "import nltk\n",
    "nltk.download('punkt')\n",
    "\n",
    "import time\n",
    "from transformers import AutoModelForSequenceClassification\n",
    "\n",
    "from finbert.finbert import *\n",
    "import finbert.utils as tools\n",
    "\n",
    "%load_ext autoreload\n",
    "%autoreload 2\n",
    "\n",
    "project_dir = Path.cwd().parent\n",
    "pd.set_option('max_colwidth', -1)"
   ]
  },
  {
   "cell_type": "code",
   "execution_count": 2,
   "id": "92735402",
   "metadata": {
    "scrolled": true
   },
   "outputs": [
    {
     "data": {
      "text/plain": [
       "WindowsPath('C:/Users/KAPLAN/Desktop')"
      ]
     },
     "execution_count": 2,
     "metadata": {},
     "output_type": "execute_result"
    }
   ],
   "source": [
    "project_dir"
   ]
  },
  {
   "cell_type": "code",
   "execution_count": 3,
   "id": "8b91ba0e",
   "metadata": {},
   "outputs": [],
   "source": [
    "logging.basicConfig(format = '%(asctime)s - %(levelname)s - %(name)s -   %(message)s',\n",
    "                    datefmt = '%m/%d/%Y %H:%M:%S',\n",
    "                    level = logging.ERROR)"
   ]
  },
  {
   "cell_type": "code",
   "execution_count": 28,
   "id": "934b0db6",
   "metadata": {},
   "outputs": [],
   "source": [
    "lm_path = project_dir/'pytorch_examples'/'models'/'language_model'/'finbertTRC2'\n",
    "cl_path = project_dir/'pytorch_examples'/'models'/'classifier_model'/'finbert_sentiment'\n",
    "cl_data_path = project_dir/'pytorch_examples'/'models'/'data'/'sentiment_data'"
   ]
  },
  {
   "cell_type": "markdown",
   "id": "56b0ad9e",
   "metadata": {},
   "source": [
    "## Configuring adapted functions"
   ]
  },
  {
   "cell_type": "code",
   "execution_count": null,
   "id": "366d804d",
   "metadata": {},
   "outputs": [],
   "source": [
    "def oneHot(row):\n",
    "  if row=='negative': return -1\n",
    "  if row=='neutral' : return  0\n",
    "  if row=='positive' : return +1"
   ]
  },
  {
   "cell_type": "code",
   "execution_count": 612,
   "id": "ab74c8d7",
   "metadata": {},
   "outputs": [],
   "source": [
    "def predict(text, model, write_to_csv=False, path=None):\n",
    "    \"\"\"\n",
    "    Predict sentiments of sentences in a given text. The function first tokenizes sentences, make predictions and write\n",
    "    results.\n",
    "    Parameters\n",
    "    ----------\n",
    "    text: string\n",
    "        text to be analyzed\n",
    "    model: BertForSequenceClassification\n",
    "        path to the classifier model\n",
    "    write_to_csv (optional): bool\n",
    "    path (optional): string\n",
    "        path to write the string\n",
    "    \"\"\"\n",
    "    model.eval()\n",
    "    tokenizer = AutoTokenizer.from_pretrained('bert-base-uncased')\n",
    "    sentences = text   \n",
    "    label_list = ['positive', 'negative', 'neutral']\n",
    "    label_dict = {0: 'positive', 1: 'negative', 2: 'neutral'}\n",
    "    result = pd.DataFrame(columns=['sentence', 'logit', 'prediction', 'sentiment_score'])\n",
    "    for batch in chunks(text, len(text)):\n",
    "        examples = [InputExample(str(i), sentence) for i, sentence in enumerate(batch)]\n",
    "\n",
    "        features = convert_examples_to_features(examples, label_list, 64, tokenizer)\n",
    "\n",
    "        all_input_ids = torch.tensor([f.input_ids for f in features], dtype=torch.long)\n",
    "        all_attention_mask = torch.tensor([f.attention_mask for f in features], dtype=torch.long)\n",
    "        all_token_type_ids = torch.tensor([f.token_type_ids for f in features], dtype=torch.long)\n",
    "\n",
    "        with torch.no_grad():\n",
    "            logits = model(all_input_ids, all_attention_mask, all_token_type_ids)[0]\n",
    "            logging.info(logits)\n",
    "            logits = softmax(np.array(logits))\n",
    "            sentiment_score = pd.Series(logits[:, 0] - logits[:, 1])\n",
    "            predictions = np.squeeze(np.argmax(logits, axis=1))\n",
    "\n",
    "            batch_result = {'sentence': batch,\n",
    "                            'logit': list(logits),\n",
    "                            'prediction': predictions,\n",
    "                            'sentiment_score': sentiment_score}\n",
    "\n",
    "            batch_result = pd.DataFrame(batch_result)\n",
    "            result = pd.concat([result, batch_result], ignore_index=True)\n",
    "\n",
    "    result['prediction'] = result.prediction.apply(lambda x: label_dict[x])\n",
    "    if write_to_csv:\n",
    "        result.to_csv(path, sep=',', index=True)\n",
    "\n",
    "    return result"
   ]
  },
  {
   "cell_type": "markdown",
   "id": "bc15bc10",
   "metadata": {},
   "source": [
    "## Configuring training parameters"
   ]
  },
  {
   "cell_type": "code",
   "execution_count": 5,
   "id": "ab85b048",
   "metadata": {
    "scrolled": true
   },
   "outputs": [],
   "source": [
    "# Clean the cl_path\n",
    "try:\n",
    "    shutil.rmtree(cl_path) \n",
    "except:\n",
    "    pass\n",
    "\n",
    "bertmodel = AutoModelForSequenceClassification.from_pretrained(lm_path,cache_dir=None, num_labels=3)\n",
    "\n",
    "\n",
    "config = Config(   data_dir=cl_data_path,\n",
    "                   bert_model=bertmodel,\n",
    "                   num_train_epochs=4,\n",
    "                   model_dir=cl_path,\n",
    "                   max_seq_length = 48,\n",
    "                   train_batch_size = 32,\n",
    "                   learning_rate = 2e-5,\n",
    "                   output_mode='classification',\n",
    "                   warm_up_proportion=0.2,\n",
    "                   local_rank=-1,\n",
    "                   discriminate=True,\n",
    "                   gradual_unfreeze=True)"
   ]
  },
  {
   "cell_type": "code",
   "execution_count": 6,
   "id": "b1ddf65d",
   "metadata": {},
   "outputs": [],
   "source": [
    "finbert = FinBert(config)\n",
    "finbert.base_model = 'bert-base-uncased'\n",
    "finbert.config.discriminate=True\n",
    "finbert.config.gradual_unfreeze=True"
   ]
  },
  {
   "cell_type": "code",
   "execution_count": 7,
   "id": "7bc30d28",
   "metadata": {},
   "outputs": [
    {
     "name": "stderr",
     "output_type": "stream",
     "text": [
      "06/22/2021 16:50:52 - INFO - finbert.finbert -   device: cpu n_gpu: 0, distributed training: False, 16-bits training: False\n"
     ]
    }
   ],
   "source": [
    "finbert.prepare_model(label_list=['positive','negative','neutral'])\n",
    "class_names = ['positive','negative','neutral']"
   ]
  },
  {
   "cell_type": "code",
   "execution_count": 8,
   "id": "ee1f5b2f",
   "metadata": {
    "scrolled": false
   },
   "outputs": [],
   "source": [
    "train_data = finbert.get_data('train')"
   ]
  },
  {
   "cell_type": "code",
   "execution_count": 9,
   "id": "7c8a3963",
   "metadata": {
    "scrolled": true
   },
   "outputs": [],
   "source": [
    "model = finbert.create_the_model()"
   ]
  },
  {
   "cell_type": "code",
   "execution_count": 10,
   "id": "a40cfba0",
   "metadata": {
    "scrolled": false
   },
   "outputs": [
    {
     "name": "stderr",
     "output_type": "stream",
     "text": [
      "06/22/2021 16:50:59 - INFO - finbert.utils -   *** Example ***\n",
      "06/22/2021 16:50:59 - INFO - finbert.utils -   guid: train-1\n",
      "06/22/2021 16:50:59 - INFO - finbert.utils -   tokens: [CLS] will op ##ec cut oil production ? [SEP]\n",
      "06/22/2021 16:50:59 - INFO - finbert.utils -   input_ids: 101 2097 6728 8586 3013 3514 2537 1029 102 0 0 0 0 0 0 0 0 0 0 0 0 0 0 0 0 0 0 0 0 0 0 0 0 0 0 0 0 0 0 0 0 0 0 0 0 0 0 0\n",
      "06/22/2021 16:50:59 - INFO - finbert.utils -   attention_mask: 1 1 1 1 1 1 1 1 1 0 0 0 0 0 0 0 0 0 0 0 0 0 0 0 0 0 0 0 0 0 0 0 0 0 0 0 0 0 0 0 0 0 0 0 0 0 0 0\n",
      "06/22/2021 16:50:59 - INFO - finbert.utils -   token_type_ids: 0 0 0 0 0 0 0 0 0 0 0 0 0 0 0 0 0 0 0 0 0 0 0 0 0 0 0 0 0 0 0 0 0 0 0 0 0 0 0 0 0 0 0 0 0 0 0 0\n",
      "06/22/2021 16:50:59 - INFO - finbert.utils -   label: positive (id = 0)\n",
      "06/22/2021 16:51:01 - INFO - finbert.finbert -   ***** Loading data *****\n",
      "06/22/2021 16:51:01 - INFO - finbert.finbert -     Num examples = 18141\n",
      "06/22/2021 16:51:01 - INFO - finbert.finbert -     Batch size = 32\n",
      "06/22/2021 16:51:01 - INFO - finbert.finbert -     Num steps = 752\n",
      "Epoch:   0%|          | 0/4 [00:00<?, ?it/s]"
     ]
    },
    {
     "data": {
      "application/vnd.jupyter.widget-view+json": {
       "model_id": "ed3c9163f5ba4c529f02757868326c44",
       "version_major": 2,
       "version_minor": 0
      },
      "text/plain": [
       "HBox(children=(FloatProgress(value=0.0, description='Iteration', max=567.0, style=ProgressStyle(description_wi…"
      ]
     },
     "metadata": {},
     "output_type": "display_data"
    },
    {
     "name": "stderr",
     "output_type": "stream",
     "text": [
      "06/22/2021 17:08:30 - INFO - finbert.utils -   *** Example ***\n",
      "06/22/2021 17:08:30 - INFO - finbert.utils -   guid: validation-1\n",
      "06/22/2021 17:08:30 - INFO - finbert.utils -   tokens: [CLS] libyan oil output plum ##met ##ing [SEP]\n",
      "06/22/2021 17:08:30 - INFO - finbert.utils -   input_ids: 101 19232 3514 6434 22088 11368 2075 102 0 0 0 0 0 0 0 0 0 0 0 0 0 0 0 0 0 0 0 0 0 0 0 0 0 0 0 0 0 0 0 0 0 0 0 0 0 0 0 0\n",
      "06/22/2021 17:08:30 - INFO - finbert.utils -   attention_mask: 1 1 1 1 1 1 1 1 0 0 0 0 0 0 0 0 0 0 0 0 0 0 0 0 0 0 0 0 0 0 0 0 0 0 0 0 0 0 0 0 0 0 0 0 0 0 0 0\n",
      "06/22/2021 17:08:30 - INFO - finbert.utils -   token_type_ids: 0 0 0 0 0 0 0 0 0 0 0 0 0 0 0 0 0 0 0 0 0 0 0 0 0 0 0 0 0 0 0 0 0 0 0 0 0 0 0 0 0 0 0 0 0 0 0 0\n",
      "06/22/2021 17:08:30 - INFO - finbert.utils -   label: positive (id = 0)\n"
     ]
    },
    {
     "name": "stdout",
     "output_type": "stream",
     "text": [
      "\n"
     ]
    },
    {
     "name": "stderr",
     "output_type": "stream",
     "text": [
      "06/22/2021 17:08:31 - INFO - finbert.finbert -   ***** Loading data *****\n",
      "06/22/2021 17:08:31 - INFO - finbert.finbert -     Num examples = 6045\n",
      "06/22/2021 17:08:31 - INFO - finbert.finbert -     Batch size = 32\n",
      "06/22/2021 17:08:31 - INFO - finbert.finbert -     Num steps = 752\n"
     ]
    },
    {
     "data": {
      "application/vnd.jupyter.widget-view+json": {
       "model_id": "5ab4979ff545440180942421f1acb4e0",
       "version_major": 2,
       "version_minor": 0
      },
      "text/plain": [
       "HBox(children=(FloatProgress(value=0.0, description='Validating', max=189.0, style=ProgressStyle(description_w…"
      ]
     },
     "metadata": {},
     "output_type": "display_data"
    },
    {
     "name": "stdout",
     "output_type": "stream",
     "text": [
      "\n",
      "Validation losses: [0.24517585155825136]\n",
      "No best model found\n"
     ]
    },
    {
     "name": "stderr",
     "output_type": "stream",
     "text": [
      "\r",
      "Epoch:  25%|██▌       | 1/4 [21:10<1:03:30, 1270.01s/it]"
     ]
    },
    {
     "data": {
      "application/vnd.jupyter.widget-view+json": {
       "model_id": "88a9e8b4f6ea42ab9bf314f50cb50dd7",
       "version_major": 2,
       "version_minor": 0
      },
      "text/plain": [
       "HBox(children=(FloatProgress(value=0.0, description='Iteration', max=567.0, style=ProgressStyle(description_wi…"
      ]
     },
     "metadata": {},
     "output_type": "display_data"
    },
    {
     "name": "stderr",
     "output_type": "stream",
     "text": [
      "06/22/2021 17:35:50 - INFO - finbert.utils -   *** Example ***\n",
      "06/22/2021 17:35:50 - INFO - finbert.utils -   guid: validation-1\n",
      "06/22/2021 17:35:50 - INFO - finbert.utils -   tokens: [CLS] libyan oil output plum ##met ##ing [SEP]\n",
      "06/22/2021 17:35:50 - INFO - finbert.utils -   input_ids: 101 19232 3514 6434 22088 11368 2075 102 0 0 0 0 0 0 0 0 0 0 0 0 0 0 0 0 0 0 0 0 0 0 0 0 0 0 0 0 0 0 0 0 0 0 0 0 0 0 0 0\n",
      "06/22/2021 17:35:50 - INFO - finbert.utils -   attention_mask: 1 1 1 1 1 1 1 1 0 0 0 0 0 0 0 0 0 0 0 0 0 0 0 0 0 0 0 0 0 0 0 0 0 0 0 0 0 0 0 0 0 0 0 0 0 0 0 0\n",
      "06/22/2021 17:35:50 - INFO - finbert.utils -   token_type_ids: 0 0 0 0 0 0 0 0 0 0 0 0 0 0 0 0 0 0 0 0 0 0 0 0 0 0 0 0 0 0 0 0 0 0 0 0 0 0 0 0 0 0 0 0 0 0 0 0\n",
      "06/22/2021 17:35:50 - INFO - finbert.utils -   label: positive (id = 0)\n"
     ]
    },
    {
     "name": "stdout",
     "output_type": "stream",
     "text": [
      "\n"
     ]
    },
    {
     "name": "stderr",
     "output_type": "stream",
     "text": [
      "06/22/2021 17:35:50 - INFO - finbert.finbert -   ***** Loading data *****\n",
      "06/22/2021 17:35:50 - INFO - finbert.finbert -     Num examples = 6045\n",
      "06/22/2021 17:35:50 - INFO - finbert.finbert -     Batch size = 32\n",
      "06/22/2021 17:35:50 - INFO - finbert.finbert -     Num steps = 752\n"
     ]
    },
    {
     "data": {
      "application/vnd.jupyter.widget-view+json": {
       "model_id": "a44c30f0bcb148768a47abfa674c97ff",
       "version_major": 2,
       "version_minor": 0
      },
      "text/plain": [
       "HBox(children=(FloatProgress(value=0.0, description='Validating', max=189.0, style=ProgressStyle(description_w…"
      ]
     },
     "metadata": {},
     "output_type": "display_data"
    },
    {
     "name": "stdout",
     "output_type": "stream",
     "text": [
      "\n",
      "Validation losses: [0.24517585155825136, 0.11493430655725577]\n"
     ]
    },
    {
     "name": "stderr",
     "output_type": "stream",
     "text": [
      "\r",
      "Epoch:  50%|█████     | 2/4 [48:37<46:06, 1383.12s/it]  "
     ]
    },
    {
     "data": {
      "application/vnd.jupyter.widget-view+json": {
       "model_id": "4b1e54a0198344e5984a8a0b558e4551",
       "version_major": 2,
       "version_minor": 0
      },
      "text/plain": [
       "HBox(children=(FloatProgress(value=0.0, description='Iteration', max=567.0, style=ProgressStyle(description_wi…"
      ]
     },
     "metadata": {},
     "output_type": "display_data"
    },
    {
     "name": "stderr",
     "output_type": "stream",
     "text": [
      "06/22/2021 18:09:36 - INFO - finbert.utils -   *** Example ***\n",
      "06/22/2021 18:09:36 - INFO - finbert.utils -   guid: validation-1\n",
      "06/22/2021 18:09:36 - INFO - finbert.utils -   tokens: [CLS] libyan oil output plum ##met ##ing [SEP]\n",
      "06/22/2021 18:09:36 - INFO - finbert.utils -   input_ids: 101 19232 3514 6434 22088 11368 2075 102 0 0 0 0 0 0 0 0 0 0 0 0 0 0 0 0 0 0 0 0 0 0 0 0 0 0 0 0 0 0 0 0 0 0 0 0 0 0 0 0\n",
      "06/22/2021 18:09:36 - INFO - finbert.utils -   attention_mask: 1 1 1 1 1 1 1 1 0 0 0 0 0 0 0 0 0 0 0 0 0 0 0 0 0 0 0 0 0 0 0 0 0 0 0 0 0 0 0 0 0 0 0 0 0 0 0 0\n",
      "06/22/2021 18:09:36 - INFO - finbert.utils -   token_type_ids: 0 0 0 0 0 0 0 0 0 0 0 0 0 0 0 0 0 0 0 0 0 0 0 0 0 0 0 0 0 0 0 0 0 0 0 0 0 0 0 0 0 0 0 0 0 0 0 0\n",
      "06/22/2021 18:09:36 - INFO - finbert.utils -   label: positive (id = 0)\n"
     ]
    },
    {
     "name": "stdout",
     "output_type": "stream",
     "text": [
      "\n"
     ]
    },
    {
     "name": "stderr",
     "output_type": "stream",
     "text": [
      "06/22/2021 18:09:37 - INFO - finbert.finbert -   ***** Loading data *****\n",
      "06/22/2021 18:09:37 - INFO - finbert.finbert -     Num examples = 6045\n",
      "06/22/2021 18:09:37 - INFO - finbert.finbert -     Batch size = 32\n",
      "06/22/2021 18:09:37 - INFO - finbert.finbert -     Num steps = 752\n"
     ]
    },
    {
     "data": {
      "application/vnd.jupyter.widget-view+json": {
       "model_id": "710a3e264439406da6128d55b5709c4b",
       "version_major": 2,
       "version_minor": 0
      },
      "text/plain": [
       "HBox(children=(FloatProgress(value=0.0, description='Validating', max=189.0, style=ProgressStyle(description_w…"
      ]
     },
     "metadata": {},
     "output_type": "display_data"
    },
    {
     "name": "stdout",
     "output_type": "stream",
     "text": [
      "\n",
      "Validation losses: [0.24517585155825136, 0.11493430655725577, 0.08152314423332138]\n"
     ]
    },
    {
     "name": "stderr",
     "output_type": "stream",
     "text": [
      "\r",
      "Epoch:  75%|███████▌  | 3/4 [1:22:24<26:16, 1576.51s/it]"
     ]
    },
    {
     "data": {
      "application/vnd.jupyter.widget-view+json": {
       "model_id": "4a0e62793a7342c79dcdc5e412007ba4",
       "version_major": 2,
       "version_minor": 0
      },
      "text/plain": [
       "HBox(children=(FloatProgress(value=0.0, description='Iteration', max=567.0, style=ProgressStyle(description_wi…"
      ]
     },
     "metadata": {},
     "output_type": "display_data"
    },
    {
     "name": "stderr",
     "output_type": "stream",
     "text": [
      "06/22/2021 18:48:58 - INFO - finbert.utils -   *** Example ***\n",
      "06/22/2021 18:48:58 - INFO - finbert.utils -   guid: validation-1\n",
      "06/22/2021 18:48:58 - INFO - finbert.utils -   tokens: [CLS] libyan oil output plum ##met ##ing [SEP]\n",
      "06/22/2021 18:48:58 - INFO - finbert.utils -   input_ids: 101 19232 3514 6434 22088 11368 2075 102 0 0 0 0 0 0 0 0 0 0 0 0 0 0 0 0 0 0 0 0 0 0 0 0 0 0 0 0 0 0 0 0 0 0 0 0 0 0 0 0\n",
      "06/22/2021 18:48:58 - INFO - finbert.utils -   attention_mask: 1 1 1 1 1 1 1 1 0 0 0 0 0 0 0 0 0 0 0 0 0 0 0 0 0 0 0 0 0 0 0 0 0 0 0 0 0 0 0 0 0 0 0 0 0 0 0 0\n",
      "06/22/2021 18:48:58 - INFO - finbert.utils -   token_type_ids: 0 0 0 0 0 0 0 0 0 0 0 0 0 0 0 0 0 0 0 0 0 0 0 0 0 0 0 0 0 0 0 0 0 0 0 0 0 0 0 0 0 0 0 0 0 0 0 0\n",
      "06/22/2021 18:48:58 - INFO - finbert.utils -   label: positive (id = 0)\n"
     ]
    },
    {
     "name": "stdout",
     "output_type": "stream",
     "text": [
      "\n"
     ]
    },
    {
     "name": "stderr",
     "output_type": "stream",
     "text": [
      "06/22/2021 18:48:59 - INFO - finbert.finbert -   ***** Loading data *****\n",
      "06/22/2021 18:48:59 - INFO - finbert.finbert -     Num examples = 6045\n",
      "06/22/2021 18:48:59 - INFO - finbert.finbert -     Batch size = 32\n",
      "06/22/2021 18:48:59 - INFO - finbert.finbert -     Num steps = 752\n"
     ]
    },
    {
     "data": {
      "application/vnd.jupyter.widget-view+json": {
       "model_id": "2e0da42979184f2c83a8b503d3bbc55c",
       "version_major": 2,
       "version_minor": 0
      },
      "text/plain": [
       "HBox(children=(FloatProgress(value=0.0, description='Validating', max=189.0, style=ProgressStyle(description_w…"
      ]
     },
     "metadata": {},
     "output_type": "display_data"
    },
    {
     "name": "stdout",
     "output_type": "stream",
     "text": [
      "\n",
      "Validation losses: [0.24517585155825136, 0.11493430655725577, 0.08152314423332138, 0.07550388838967713]\n"
     ]
    },
    {
     "name": "stderr",
     "output_type": "stream",
     "text": [
      "Epoch: 100%|██████████| 4/4 [2:01:49<00:00, 1827.48s/it]\n"
     ]
    }
   ],
   "source": [
    "from finbert.finbert import *\n",
    "trained_model = finbert.train(train_examples = train_data, model = model)"
   ]
  },
  {
   "cell_type": "code",
   "execution_count": 11,
   "id": "d2d91073",
   "metadata": {},
   "outputs": [],
   "source": [
    "test_data = finbert.get_data('test')"
   ]
  },
  {
   "cell_type": "code",
   "execution_count": 12,
   "id": "cd71bd1e",
   "metadata": {
    "scrolled": false
   },
   "outputs": [
    {
     "name": "stderr",
     "output_type": "stream",
     "text": [
      "06/22/2021 18:54:24 - INFO - finbert.utils -   *** Example ***\n",
      "06/22/2021 18:54:24 - INFO - finbert.utils -   guid: test-1\n",
      "06/22/2021 18:54:24 - INFO - finbert.utils -   tokens: [CLS] update 1 - s . korea ' s jan u . s . crude imports rise 53 . 3 % on - year [SEP]\n",
      "06/22/2021 18:54:24 - INFO - finbert.utils -   input_ids: 101 10651 1015 1011 1055 1012 4420 1005 1055 5553 1057 1012 1055 1012 13587 17589 4125 5187 1012 1017 1003 2006 1011 2095 102 0 0 0 0 0 0 0 0 0 0 0 0 0 0 0 0 0 0 0 0 0 0 0\n",
      "06/22/2021 18:54:24 - INFO - finbert.utils -   attention_mask: 1 1 1 1 1 1 1 1 1 1 1 1 1 1 1 1 1 1 1 1 1 1 1 1 1 0 0 0 0 0 0 0 0 0 0 0 0 0 0 0 0 0 0 0 0 0 0 0\n",
      "06/22/2021 18:54:24 - INFO - finbert.utils -   token_type_ids: 0 0 0 0 0 0 0 0 0 0 0 0 0 0 0 0 0 0 0 0 0 0 0 0 0 0 0 0 0 0 0 0 0 0 0 0 0 0 0 0 0 0 0 0 0 0 0 0\n",
      "06/22/2021 18:54:24 - INFO - finbert.utils -   label: positive (id = 0)\n",
      "06/22/2021 18:54:25 - INFO - finbert.finbert -   ***** Loading data *****\n",
      "06/22/2021 18:54:25 - INFO - finbert.finbert -     Num examples = 6045\n",
      "06/22/2021 18:54:25 - INFO - finbert.finbert -     Batch size = 32\n",
      "06/22/2021 18:54:25 - INFO - finbert.finbert -     Num steps = 752\n",
      "06/22/2021 18:54:25 - INFO - finbert.finbert -   ***** Running evaluation ***** \n",
      "06/22/2021 18:54:25 - INFO - finbert.finbert -     Num examples = 6045\n",
      "06/22/2021 18:54:25 - INFO - finbert.finbert -     Batch size = 32\n"
     ]
    },
    {
     "data": {
      "application/vnd.jupyter.widget-view+json": {
       "model_id": "1bfbf003615143b3a9574d81f8f42b11",
       "version_major": 2,
       "version_minor": 0
      },
      "text/plain": [
       "HBox(children=(FloatProgress(value=0.0, description='Testing', max=189.0, style=ProgressStyle(description_widt…"
      ]
     },
     "metadata": {},
     "output_type": "display_data"
    },
    {
     "name": "stdout",
     "output_type": "stream",
     "text": [
      "\n"
     ]
    }
   ],
   "source": [
    "results = finbert.evaluate(examples=test_data, model=trained_model)"
   ]
  },
  {
   "cell_type": "code",
   "execution_count": 14,
   "id": "9fddc2b6",
   "metadata": {},
   "outputs": [],
   "source": [
    "results['prediction'] = results.predictions.apply(lambda x: np.argmax(x,axis=0))"
   ]
  },
  {
   "cell_type": "code",
   "execution_count": null,
   "id": "8f3ec642",
   "metadata": {},
   "outputs": [],
   "source": [
    "y_test = results['labels'] \n",
    "y_pred = results['prediction']\n",
    "\n",
    "def report(df, cols=['label','prediction','logits']):\n",
    "    #print('Validation loss:{0:.2f}'.format(metrics['best_validation_loss']))\n",
    "    cs = CrossEntropyLoss(weight=finbert.class_weights)\n",
    "    loss = cs(torch.tensor(list(df[cols[2]])),torch.tensor(list(df[cols[0]])))\n",
    "    print(\"Loss:{0:.2f}\".format(loss))\n",
    "    print(\"Accuracy:{0:.2f}\".format((df[cols[0]] == df[cols[1]]).sum() / df.shape[0]) )\n",
    "    print(\"\\nClassification Report:\")\n",
    "    print(classification_report(df[cols[0]], df[cols[1]]))"
   ]
  },
  {
   "cell_type": "code",
   "execution_count": 15,
   "id": "bc3fbe22",
   "metadata": {},
   "outputs": [
    {
     "name": "stderr",
     "output_type": "stream",
     "text": [
      "06/22/2021 18:58:27 - INFO - numexpr.utils -   Note: NumExpr detected 32 cores but \"NUMEXPR_MAX_THREADS\" not set, so enforcing safe limit of 8.\n",
      "06/22/2021 18:58:27 - INFO - numexpr.utils -   NumExpr defaulting to 8 threads.\n"
     ]
    },
    {
     "name": "stdout",
     "output_type": "stream",
     "text": [
      "Loss:0.11\n",
      "Accuracy:0.97\n",
      "\n",
      "Classification Report:\n",
      "              precision    recall  f1-score   support\n",
      "\n",
      "           0       0.98      0.97      0.98      3126\n",
      "           1       0.97      0.98      0.97      2812\n",
      "           2       0.96      0.96      0.96       107\n",
      "\n",
      "    accuracy                           0.97      6045\n",
      "   macro avg       0.97      0.97      0.97      6045\n",
      "weighted avg       0.97      0.97      0.97      6045\n",
      "\n"
     ]
    }
   ],
   "source": [
    "report(results,cols=['labels','prediction','predictions'])"
   ]
  },
  {
   "cell_type": "code",
   "execution_count": 595,
   "id": "e93653bd",
   "metadata": {},
   "outputs": [
    {
     "data": {
      "image/png": "[encoded data removed]",
      "text/plain": [
       "<Figure size 432x288 with 2 Axes>"
      ]
     },
     "metadata": {
      "needs_background": "light"
     },
     "output_type": "display_data"
    }
   ],
   "source": [
    "def show_confusion_matrix(confusion_matrix):\n",
    "  hmap = sns.heatmap(confusion_matrix, annot=True, fmt=\"d\", cmap=\"Blues\")\n",
    "  hmap.yaxis.set_ticklabels(hmap.yaxis.get_ticklabels(), rotation=0, ha='right')\n",
    "  hmap.xaxis.set_ticklabels(hmap.xaxis.get_ticklabels(), rotation=30, ha='right')\n",
    "  plt.ylabel('True sentiment')\n",
    "  plt.xlabel('Predicted sentiment');\n",
    "\n",
    "cm = confusion_matrix(y_test, y_pred)\n",
    "df_cm = pd.DataFrame(cm, index=class_names, columns=class_names)\n",
    "show_confusion_matrix(df_cm)"
   ]
  },
  {
   "cell_type": "markdown",
   "id": "7c8fab72",
   "metadata": {},
   "source": [
    "## Load the pre-trained Model"
   ]
  },
  {
   "cell_type": "code",
   "execution_count": 17,
   "id": "a3d09792",
   "metadata": {},
   "outputs": [],
   "source": [
    "model = AutoModelForSequenceClassification.from_pretrained(cl_path, cache_dir=None, num_labels=3)"
   ]
  },
  {
   "cell_type": "markdown",
   "id": "727076b1",
   "metadata": {},
   "source": [
    "## Or import already pre-trained Model"
   ]
  },
  {
   "cell_type": "code",
   "execution_count": null,
   "id": "7753bbbb",
   "metadata": {},
   "outputs": [],
   "source": [
    "model_finbert = BertForSequenceClassification.from_pretrained('model_test/pytorch_model.bin',config='model_test/config.json',num_labels=3)\n",
    "model_crudebert = BertForSequenceClassification.from_pretrained('model_test/crude_bert_model.bin',config='model_test/crude_bert_config.json',num_labels=3)"
   ]
  },
  {
   "cell_type": "markdown",
   "id": "76be8b8c",
   "metadata": {},
   "source": [
    "## Save pre-trained Model"
   ]
  },
  {
   "cell_type": "code",
   "execution_count": 573,
   "id": "6844931d",
   "metadata": {
    "scrolled": true
   },
   "outputs": [],
   "source": [
    "import torch\n",
    "\n",
    "torch_path =\"C:/Users/KAPLAN/Desktop/pytorch_examples/models/CrudeBERT_model\"\n",
    "torch.save(model.state_dict(), os.path.join(torch_path, \"crudebert.pth\"))"
   ]
  },
  {
   "cell_type": "markdown",
   "id": "9c4e2e2c",
   "metadata": {},
   "source": [
    "# Read Headlines"
   ]
  },
  {
   "cell_type": "code",
   "execution_count": null,
   "id": "110b5b2e",
   "metadata": {},
   "outputs": [],
   "source": [
    "news = pd.read_excel(\"news.xlsx\",parse_dates=[['Date', 'Time']], engine='openpyxl')"
   ]
  },
  {
   "cell_type": "code",
   "execution_count": 18,
   "id": "c6408709",
   "metadata": {
    "scrolled": true
   },
   "outputs": [
    {
     "name": "stderr",
     "output_type": "stream",
     "text": [
      "[nltk_data] Downloading package punkt to\n",
      "[nltk_data]     C:\\Users\\KAPLAN\\AppData\\Roaming\\nltk_data...\n",
      "[nltk_data]   Package punkt is already up-to-date!\n"
     ]
    },
    {
     "data": {
      "text/plain": [
       "True"
      ]
     },
     "execution_count": 18,
     "metadata": {},
     "output_type": "execute_result"
    }
   ],
   "source": [
    "import nltk\n",
    "nltk.download('punkt')"
   ]
  },
  {
   "cell_type": "code",
   "execution_count": null,
   "id": "510453da",
   "metadata": {},
   "outputs": [],
   "source": [
    "# Clear Ram with gc (garbage collector)\n",
    "\n",
    "gc.collect()\n",
    "\n",
    "#del my_array\n",
    "#del my_object\n",
    "#gc.collect()"
   ]
  },
  {
   "cell_type": "markdown",
   "id": "f568f6c0",
   "metadata": {},
   "source": [
    "### Slice dataframe if it is to big for the RAM"
   ]
  },
  {
   "cell_type": "code",
   "execution_count": 409,
   "id": "3d93ccdf",
   "metadata": {},
   "outputs": [],
   "source": [
    "news_text_first_quarter = news.Headline[:int(len(news.Headline)/4)]"
   ]
  },
  {
   "cell_type": "code",
   "execution_count": 450,
   "id": "c2ab9a6c",
   "metadata": {},
   "outputs": [],
   "source": [
    "news_text_second_quarter = news.Headline[int(len(news.Headline)/4):int(len(news.Headline)/2)]"
   ]
  },
  {
   "cell_type": "code",
   "execution_count": 411,
   "id": "22860a29",
   "metadata": {},
   "outputs": [],
   "source": [
    "news_text_third_quarter = news.Headline[int(len(news.Headline)/2):int(len(news.Headline)/4)*3]"
   ]
  },
  {
   "cell_type": "code",
   "execution_count": 412,
   "id": "328c611c",
   "metadata": {},
   "outputs": [],
   "source": [
    "news_text_fourth_quarter = news.Headline[int(len(news.Headline)/4)*3:]"
   ]
  },
  {
   "cell_type": "markdown",
   "id": "c584de5c",
   "metadata": {},
   "source": [
    "### Verify if sum of slices have the same size as the unsliced dataframe"
   ]
  },
  {
   "cell_type": "code",
   "execution_count": 597,
   "id": "80b51e2c",
   "metadata": {},
   "outputs": [
    {
     "data": {
      "text/plain": [
       "True"
      ]
     },
     "execution_count": 597,
     "metadata": {},
     "output_type": "execute_result"
    }
   ],
   "source": [
    "len(news) == len(news_text_first_quarter) + len(news_text_second_quarter) + len(news_text_third_quarter) + len(news_text_fourth_quarter)"
   ]
  },
  {
   "cell_type": "markdown",
   "id": "8fab9aef",
   "metadata": {},
   "source": [
    "### Check with a small sample first"
   ]
  },
  {
   "cell_type": "code",
   "execution_count": 602,
   "id": "f7601322",
   "metadata": {},
   "outputs": [],
   "source": [
    "sample = news.Headline[:50]"
   ]
  },
  {
   "cell_type": "code",
   "execution_count": 610,
   "id": "ba94ccb4",
   "metadata": {
    "scrolled": true
   },
   "outputs": [
    {
     "data": {
      "text/plain": [
       "0    India Apr-Nov Oil Imports $6.20B Vs $4.03B; +53.86%                                                                                                                                                 \n",
       "1    Texaco and Chevron Missed the Boat on Big Stock Gains --- Their Returns Were Stagnant as Oil Prices Soared Amid Mergers Among Rivals ---- By Steve Liesman Staff Reporter of The Wall Street Journal\n",
       "2    Taiwan CPC Dec Crude Oil Imports 20.4M Bbl, US$23.79/Bbl                                                                                                                                            \n",
       "3    Midday US Spot Crude: Prices Sink With Crude Futures                                                                                                                                                \n",
       "4    API: US Crude Stocks Dn 1.568 Mln Bbl In Week                                                                                                                                                       \n",
       "Name: Headline, dtype: object"
      ]
     },
     "execution_count": 610,
     "metadata": {},
     "output_type": "execute_result"
    }
   ],
   "source": [
    "sample.head()"
   ]
  },
  {
   "cell_type": "code",
   "execution_count": 430,
   "id": "ca320922",
   "metadata": {
    "scrolled": true
   },
   "outputs": [
    {
     "data": {
      "text/html": [
       "<div>\n",
       "<style scoped>\n",
       "    .dataframe tbody tr th:only-of-type {\n",
       "        vertical-align: middle;\n",
       "    }\n",
       "\n",
       "    .dataframe tbody tr th {\n",
       "        vertical-align: top;\n",
       "    }\n",
       "\n",
       "    .dataframe thead th {\n",
       "        text-align: right;\n",
       "    }\n",
       "</style>\n",
       "<table border=\"1\" class=\"dataframe\">\n",
       "  <thead>\n",
       "    <tr style=\"text-align: right;\">\n",
       "      <th></th>\n",
       "      <th>sentence</th>\n",
       "      <th>logit</th>\n",
       "      <th>prediction</th>\n",
       "      <th>sentiment_score</th>\n",
       "    </tr>\n",
       "  </thead>\n",
       "  <tbody>\n",
       "    <tr>\n",
       "      <th>0</th>\n",
       "      <td>India Apr-Nov Oil Imports $6.20B Vs $4.03B; +53.86%</td>\n",
       "      <td>[0.98235655, 0.015724735, 0.0019187173]</td>\n",
       "      <td>positive</td>\n",
       "      <td>0.966632</td>\n",
       "    </tr>\n",
       "    <tr>\n",
       "      <th>1</th>\n",
       "      <td>Texaco and Chevron Missed the Boat on Big Stock Gains --- Their Returns Were Stagnant as Oil Prices Soared Amid Mergers Among Rivals ---- By Steve Liesman Staff Reporter of The Wall Street Journal</td>\n",
       "      <td>[0.98221946, 0.016272597, 0.0015078676]</td>\n",
       "      <td>positive</td>\n",
       "      <td>0.965947</td>\n",
       "    </tr>\n",
       "    <tr>\n",
       "      <th>2</th>\n",
       "      <td>Taiwan CPC Dec Crude Oil Imports 20.4M Bbl, US$23.79/Bbl</td>\n",
       "      <td>[0.98791003, 0.00866582, 0.0034241425]</td>\n",
       "      <td>positive</td>\n",
       "      <td>0.979244</td>\n",
       "    </tr>\n",
       "    <tr>\n",
       "      <th>3</th>\n",
       "      <td>Midday US Spot Crude: Prices Sink With Crude Futures</td>\n",
       "      <td>[0.0085255215, 0.99080503, 0.00066945667]</td>\n",
       "      <td>negative</td>\n",
       "      <td>-0.982279</td>\n",
       "    </tr>\n",
       "    <tr>\n",
       "      <th>4</th>\n",
       "      <td>API: US Crude Stocks Dn 1.568 Mln Bbl In Week</td>\n",
       "      <td>[0.99268323, 0.006358306, 0.0009585765]</td>\n",
       "      <td>positive</td>\n",
       "      <td>0.986325</td>\n",
       "    </tr>\n",
       "    <tr>\n",
       "      <th>5</th>\n",
       "      <td>Nymex Access Crude Down After 4th Straight Day Of Losses</td>\n",
       "      <td>[0.0068248343, 0.9923463, 0.00082892954]</td>\n",
       "      <td>negative</td>\n",
       "      <td>-0.985521</td>\n",
       "    </tr>\n",
       "    <tr>\n",
       "      <th>6</th>\n",
       "      <td>China's CNPC '99 Crude Output 107.08M MT; Dn 0.3%</td>\n",
       "      <td>[0.4947401, 0.49652705, 0.008732811]</td>\n",
       "      <td>negative</td>\n",
       "      <td>-0.001787</td>\n",
       "    </tr>\n",
       "    <tr>\n",
       "      <th>7</th>\n",
       "      <td>Late US Spot Crude: Prices Lower After Choppy Day</td>\n",
       "      <td>[0.0050258995, 0.99266386, 0.0023102001]</td>\n",
       "      <td>negative</td>\n",
       "      <td>-0.987638</td>\n",
       "    </tr>\n",
       "    <tr>\n",
       "      <th>8</th>\n",
       "      <td>WSJ(1/7): Texaco Says Oil Find May Hold A Billion Barrels</td>\n",
       "      <td>[0.0022811445, 0.99659216, 0.001126783]</td>\n",
       "      <td>negative</td>\n",
       "      <td>-0.994311</td>\n",
       "    </tr>\n",
       "    <tr>\n",
       "      <th>9</th>\n",
       "      <td>Nymex Midmorning:Crude Dn On Report Of Higher OPEC Output</td>\n",
       "      <td>[0.008583628, 0.99056774, 0.0008487068]</td>\n",
       "      <td>negative</td>\n",
       "      <td>-0.981984</td>\n",
       "    </tr>\n",
       "    <tr>\n",
       "      <th>10</th>\n",
       "      <td>Nymex Midday: Crude Weakens After Morning Rally Fizzles</td>\n",
       "      <td>[0.008115677, 0.99128026, 0.0006041372]</td>\n",
       "      <td>negative</td>\n",
       "      <td>-0.983165</td>\n",
       "    </tr>\n",
       "    <tr>\n",
       "      <th>11</th>\n",
       "      <td>Midday US Spot Crude: Prices Slip; Differentials Strengthen</td>\n",
       "      <td>[0.006357287, 0.9930529, 0.00058982644]</td>\n",
       "      <td>negative</td>\n",
       "      <td>-0.986696</td>\n",
       "    </tr>\n",
       "    <tr>\n",
       "      <th>12</th>\n",
       "      <td>Late US Spot Crude: Prices Rebound In Late Short-Covering</td>\n",
       "      <td>[0.9917997, 0.0071030674, 0.001097228]</td>\n",
       "      <td>positive</td>\n",
       "      <td>0.984697</td>\n",
       "    </tr>\n",
       "    <tr>\n",
       "      <th>13</th>\n",
       "      <td>Colombia's Ecopetrol: To Sell Crude Cargo Tuesday</td>\n",
       "      <td>[0.014824784, 0.98279804, 0.0023771853]</td>\n",
       "      <td>negative</td>\n",
       "      <td>-0.967973</td>\n",
       "    </tr>\n",
       "    <tr>\n",
       "      <th>14</th>\n",
       "      <td>Nymex Crude Drops Overnight On API Inventory Data</td>\n",
       "      <td>[0.006975416, 0.9922976, 0.0007269586]</td>\n",
       "      <td>negative</td>\n",
       "      <td>-0.985322</td>\n",
       "    </tr>\n",
       "    <tr>\n",
       "      <th>15</th>\n",
       "      <td>API: US Crude Stocks Up 1.711 Mln Bbl In Week</td>\n",
       "      <td>[0.001246937, 0.9971668, 0.00158625]</td>\n",
       "      <td>negative</td>\n",
       "      <td>-0.995920</td>\n",
       "    </tr>\n",
       "    <tr>\n",
       "      <th>16</th>\n",
       "      <td>Energy Highlights: US Crude Stocks Up 1.711 Mln Bbl In Wk</td>\n",
       "      <td>[0.0013922803, 0.9974564, 0.0011513683]</td>\n",
       "      <td>negative</td>\n",
       "      <td>-0.996064</td>\n",
       "    </tr>\n",
       "    <tr>\n",
       "      <th>17</th>\n",
       "      <td>DOE: US Crude Oil Stocks Up 3.1 Mln Bbls In Week</td>\n",
       "      <td>[0.0012395323, 0.9972778, 0.0014827041]</td>\n",
       "      <td>negative</td>\n",
       "      <td>-0.996038</td>\n",
       "    </tr>\n",
       "    <tr>\n",
       "      <th>18</th>\n",
       "      <td>Thai Jan-Nov Oil Imports 732,930B/D; Up 3.7%</td>\n",
       "      <td>[0.9938398, 0.0048861876, 0.0012740439]</td>\n",
       "      <td>positive</td>\n",
       "      <td>0.988954</td>\n",
       "    </tr>\n",
       "    <tr>\n",
       "      <th>19</th>\n",
       "      <td>US Dec Oil Demand Unchanged From Nov - EIA</td>\n",
       "      <td>[0.0010295489, 0.001832211, 0.99713826]</td>\n",
       "      <td>neutral</td>\n",
       "      <td>-0.000803</td>\n",
       "    </tr>\n",
       "    <tr>\n",
       "      <th>20</th>\n",
       "      <td>US Dec Oil Demand Up 400,000 B/D On Year - EIA</td>\n",
       "      <td>[0.99546957, 0.002567816, 0.0019627078]</td>\n",
       "      <td>positive</td>\n",
       "      <td>0.992902</td>\n",
       "    </tr>\n",
       "    <tr>\n",
       "      <th>21</th>\n",
       "      <td>Iraq Oil Exports Seen Rebounding To 2 Mln B/D -Sources</td>\n",
       "      <td>[0.0012026987, 0.99599457, 0.002802628]</td>\n",
       "      <td>negative</td>\n",
       "      <td>-0.994792</td>\n",
       "    </tr>\n",
       "    <tr>\n",
       "      <th>22</th>\n",
       "      <td>Nymex Close: Crude Gains On Likely OPEC Cut Extension</td>\n",
       "      <td>[0.9908407, 0.0077415965, 0.0014176457]</td>\n",
       "      <td>positive</td>\n",
       "      <td>0.983099</td>\n",
       "    </tr>\n",
       "    <tr>\n",
       "      <th>23</th>\n",
       "      <td>IPE Close: Brent Settles Up On Bullish OPEC Comments</td>\n",
       "      <td>[0.98922616, 0.008918063, 0.0018557411]</td>\n",
       "      <td>positive</td>\n",
       "      <td>0.980308</td>\n",
       "    </tr>\n",
       "    <tr>\n",
       "      <th>24</th>\n",
       "      <td>First Report On French Oil Spill Blames Owners And Others</td>\n",
       "      <td>[0.99719894, 0.0015560971, 0.0012449257]</td>\n",
       "      <td>positive</td>\n",
       "      <td>0.995643</td>\n",
       "    </tr>\n",
       "    <tr>\n",
       "      <th>25</th>\n",
       "      <td>Korea Fin Min: Oil Price Rises No Major Impact On CPI</td>\n",
       "      <td>[0.9927321, 0.0062008454, 0.0010670595]</td>\n",
       "      <td>positive</td>\n",
       "      <td>0.986531</td>\n",
       "    </tr>\n",
       "    <tr>\n",
       "      <th>26</th>\n",
       "      <td>Energy Highlights: Iraqi Oil Exports Rebound To 2 Mln B/D</td>\n",
       "      <td>[0.0014100916, 0.99680626, 0.0017836537]</td>\n",
       "      <td>negative</td>\n",
       "      <td>-0.995396</td>\n",
       "    </tr>\n",
       "    <tr>\n",
       "      <th>27</th>\n",
       "      <td>N.Y. Stocks: Rising Oil Prices, Slumping Bonds Weigh In</td>\n",
       "      <td>[0.8539311, 0.14408867, 0.0019801706]</td>\n",
       "      <td>positive</td>\n",
       "      <td>0.709842</td>\n",
       "    </tr>\n",
       "    <tr>\n",
       "      <th>28</th>\n",
       "      <td>Canada Bonds Down, Pacing Treasurys As Oil Prices Rise</td>\n",
       "      <td>[0.15426853, 0.8445675, 0.0011639246]</td>\n",
       "      <td>negative</td>\n",
       "      <td>-0.690299</td>\n",
       "    </tr>\n",
       "    <tr>\n",
       "      <th>29</th>\n",
       "      <td>API: US Crude Stocks Up 0.812 Mln Bbl In Week</td>\n",
       "      <td>[0.0012223354, 0.9970149, 0.0017627903]</td>\n",
       "      <td>negative</td>\n",
       "      <td>-0.995793</td>\n",
       "    </tr>\n",
       "    <tr>\n",
       "      <th>30</th>\n",
       "      <td>Nymex Access Crude Dn On Stks Data After Nearing $30/Bbl</td>\n",
       "      <td>[0.016845647, 0.98231965, 0.0008347184]</td>\n",
       "      <td>negative</td>\n",
       "      <td>-0.965474</td>\n",
       "    </tr>\n",
       "    <tr>\n",
       "      <th>31</th>\n",
       "      <td>S Korea Sees '00 Crude Oil Imports +36.7% To $20.2B</td>\n",
       "      <td>[0.9940044, 0.0044544637, 0.0015410989]</td>\n",
       "      <td>positive</td>\n",
       "      <td>0.989550</td>\n",
       "    </tr>\n",
       "    <tr>\n",
       "      <th>32</th>\n",
       "      <td>Petroleum Prices Fall in London, Relieving Some Inflation Worries ---- Associated Press News Service</td>\n",
       "      <td>[0.0062615834, 0.99301225, 0.0007261143]</td>\n",
       "      <td>negative</td>\n",
       "      <td>-0.986751</td>\n",
       "    </tr>\n",
       "    <tr>\n",
       "      <th>33</th>\n",
       "      <td>Singapore December Domestic Oil Exports +39.5% On Yr</td>\n",
       "      <td>[0.0014483114, 0.9969228, 0.0016288322]</td>\n",
       "      <td>negative</td>\n",
       "      <td>-0.995474</td>\n",
       "    </tr>\n",
       "    <tr>\n",
       "      <th>34</th>\n",
       "      <td>DOE: US Crude Oil Stocks Dn 0.1 Mln Bbls In Week</td>\n",
       "      <td>[0.99546707, 0.003564442, 0.00096846494]</td>\n",
       "      <td>positive</td>\n",
       "      <td>0.991903</td>\n",
       "    </tr>\n",
       "    <tr>\n",
       "      <th>35</th>\n",
       "      <td>Ecuador Dec Crude Output 379,728 B/D, Up 2.3% On Yr</td>\n",
       "      <td>[0.0014639231, 0.997355, 0.0011810485]</td>\n",
       "      <td>negative</td>\n",
       "      <td>-0.995891</td>\n",
       "    </tr>\n",
       "    <tr>\n",
       "      <th>36</th>\n",
       "      <td>Brazil Oil Spill Spreads; Petrobras Fires 2 -CBN Radio</td>\n",
       "      <td>[0.9973659, 0.0019788065, 0.00065534754]</td>\n",
       "      <td>positive</td>\n",
       "      <td>0.995387</td>\n",
       "    </tr>\n",
       "    <tr>\n",
       "      <th>37</th>\n",
       "      <td>WSJ(1/24): Commodities: Oil Futures Up In Frigid Weather Fri</td>\n",
       "      <td>[0.0077144955, 0.9915126, 0.0007729087]</td>\n",
       "      <td>negative</td>\n",
       "      <td>-0.983798</td>\n",
       "    </tr>\n",
       "    <tr>\n",
       "      <th>38</th>\n",
       "      <td>Resumption of Iraqi Arms Inspections Is Impeded by Oil-Price Rise, U.N. Split ---- By Neil King Jr. Staff Reporter of The Wall Street Journal</td>\n",
       "      <td>[0.98134184, 0.01697739, 0.0016808507]</td>\n",
       "      <td>positive</td>\n",
       "      <td>0.964364</td>\n",
       "    </tr>\n",
       "    <tr>\n",
       "      <th>39</th>\n",
       "      <td>Greenpeace Protests As Brazil's Oil Spill Spreads</td>\n",
       "      <td>[0.9971064, 0.0020629503, 0.000830588]</td>\n",
       "      <td>positive</td>\n",
       "      <td>0.995043</td>\n",
       "    </tr>\n",
       "    <tr>\n",
       "      <th>40</th>\n",
       "      <td>Iraq Oil Exports Fall To 1.85M B/D, Price Up At $25.38</td>\n",
       "      <td>[0.997349, 0.0019237682, 0.00072720053]</td>\n",
       "      <td>positive</td>\n",
       "      <td>0.995425</td>\n",
       "    </tr>\n",
       "    <tr>\n",
       "      <th>41</th>\n",
       "      <td>Midday US Spot Crude: Prices Sink With Crude Futures</td>\n",
       "      <td>[0.0085255215, 0.99080503, 0.00066945667]</td>\n",
       "      <td>negative</td>\n",
       "      <td>-0.982279</td>\n",
       "    </tr>\n",
       "    <tr>\n",
       "      <th>42</th>\n",
       "      <td>Mexico's December Crude Export Price $22.15/Bbl - Fin Min</td>\n",
       "      <td>[0.038973626, 0.9572905, 0.003735869]</td>\n",
       "      <td>negative</td>\n",
       "      <td>-0.918317</td>\n",
       "    </tr>\n",
       "    <tr>\n",
       "      <th>43</th>\n",
       "      <td>Exxon Mobil Budget-2: Sees 2000 Oil Production Up 4%&gt;XOM</td>\n",
       "      <td>[0.0013896143, 0.9972435, 0.0013668379]</td>\n",
       "      <td>negative</td>\n",
       "      <td>-0.995854</td>\n",
       "    </tr>\n",
       "    <tr>\n",
       "      <th>44</th>\n",
       "      <td>Ecuador's Dec Oil Exports -23.5% On Yr To 180,968 B/D</td>\n",
       "      <td>[0.9972234, 0.0020745124, 0.000702097]</td>\n",
       "      <td>positive</td>\n",
       "      <td>0.995149</td>\n",
       "    </tr>\n",
       "    <tr>\n",
       "      <th>45</th>\n",
       "      <td>News Highlights: US Crude Stocks Dn 3.004 Mln Bbl In Week</td>\n",
       "      <td>[0.98929405, 0.009730836, 0.00097505434]</td>\n",
       "      <td>positive</td>\n",
       "      <td>0.979563</td>\n",
       "    </tr>\n",
       "    <tr>\n",
       "      <th>46</th>\n",
       "      <td>IPE Close: Brent Settles Higher In Choppy Session</td>\n",
       "      <td>[0.98946524, 0.00922052, 0.0013142236]</td>\n",
       "      <td>positive</td>\n",
       "      <td>0.980245</td>\n",
       "    </tr>\n",
       "    <tr>\n",
       "      <th>47</th>\n",
       "      <td>API: US Crude Stocks Dn 3.004 Mln Bbl In Week</td>\n",
       "      <td>[0.9928364, 0.006343926, 0.0008196354]</td>\n",
       "      <td>positive</td>\n",
       "      <td>0.986493</td>\n",
       "    </tr>\n",
       "    <tr>\n",
       "      <th>48</th>\n",
       "      <td>Upton Resources Dec Oil Output Rises To 4,400 B/D &gt;T.URC</td>\n",
       "      <td>[0.0014534229, 0.9973653, 0.0011812842]</td>\n",
       "      <td>negative</td>\n",
       "      <td>-0.995912</td>\n",
       "    </tr>\n",
       "    <tr>\n",
       "      <th>49</th>\n",
       "      <td>DOE: US Crude Oil Stocks Dn 2.4 Mln Bbls In Week</td>\n",
       "      <td>[0.99527824, 0.003819483, 0.00090231356]</td>\n",
       "      <td>positive</td>\n",
       "      <td>0.991459</td>\n",
       "    </tr>\n",
       "  </tbody>\n",
       "</table>\n",
       "</div>"
      ],
      "text/plain": [
       "                                                                                                                                                                                                sentence  \\\n",
       "0   India Apr-Nov Oil Imports $6.20B Vs $4.03B; +53.86%                                                                                                                                                    \n",
       "1   Texaco and Chevron Missed the Boat on Big Stock Gains --- Their Returns Were Stagnant as Oil Prices Soared Amid Mergers Among Rivals ---- By Steve Liesman Staff Reporter of The Wall Street Journal   \n",
       "2   Taiwan CPC Dec Crude Oil Imports 20.4M Bbl, US$23.79/Bbl                                                                                                                                               \n",
       "3   Midday US Spot Crude: Prices Sink With Crude Futures                                                                                                                                                   \n",
       "4   API: US Crude Stocks Dn 1.568 Mln Bbl In Week                                                                                                                                                          \n",
       "5   Nymex Access Crude Down After 4th Straight Day Of Losses                                                                                                                                               \n",
       "6   China's CNPC '99 Crude Output 107.08M MT; Dn 0.3%                                                                                                                                                      \n",
       "7   Late US Spot Crude: Prices Lower After Choppy Day                                                                                                                                                      \n",
       "8   WSJ(1/7): Texaco Says Oil Find May Hold A Billion Barrels                                                                                                                                              \n",
       "9   Nymex Midmorning:Crude Dn On Report Of Higher OPEC Output                                                                                                                                              \n",
       "10  Nymex Midday: Crude Weakens After Morning Rally Fizzles                                                                                                                                                \n",
       "11  Midday US Spot Crude: Prices Slip; Differentials Strengthen                                                                                                                                            \n",
       "12  Late US Spot Crude: Prices Rebound In Late Short-Covering                                                                                                                                              \n",
       "13  Colombia's Ecopetrol: To Sell Crude Cargo Tuesday                                                                                                                                                      \n",
       "14  Nymex Crude Drops Overnight On API Inventory Data                                                                                                                                                      \n",
       "15  API: US Crude Stocks Up 1.711 Mln Bbl In Week                                                                                                                                                          \n",
       "16  Energy Highlights: US Crude Stocks Up 1.711 Mln Bbl In Wk                                                                                                                                              \n",
       "17  DOE: US Crude Oil Stocks Up 3.1 Mln Bbls In Week                                                                                                                                                       \n",
       "18  Thai Jan-Nov Oil Imports 732,930B/D; Up 3.7%                                                                                                                                                           \n",
       "19  US Dec Oil Demand Unchanged From Nov - EIA                                                                                                                                                             \n",
       "20  US Dec Oil Demand Up 400,000 B/D On Year - EIA                                                                                                                                                         \n",
       "21  Iraq Oil Exports Seen Rebounding To 2 Mln B/D -Sources                                                                                                                                                 \n",
       "22  Nymex Close: Crude Gains On Likely OPEC Cut Extension                                                                                                                                                  \n",
       "23  IPE Close: Brent Settles Up On Bullish OPEC Comments                                                                                                                                                   \n",
       "24  First Report On French Oil Spill Blames Owners And Others                                                                                                                                              \n",
       "25  Korea Fin Min: Oil Price Rises No Major Impact On CPI                                                                                                                                                  \n",
       "26  Energy Highlights: Iraqi Oil Exports Rebound To 2 Mln B/D                                                                                                                                              \n",
       "27  N.Y. Stocks: Rising Oil Prices, Slumping Bonds Weigh In                                                                                                                                                \n",
       "28  Canada Bonds Down, Pacing Treasurys As Oil Prices Rise                                                                                                                                                 \n",
       "29  API: US Crude Stocks Up 0.812 Mln Bbl In Week                                                                                                                                                          \n",
       "30  Nymex Access Crude Dn On Stks Data After Nearing $30/Bbl                                                                                                                                               \n",
       "31  S Korea Sees '00 Crude Oil Imports +36.7% To $20.2B                                                                                                                                                    \n",
       "32  Petroleum Prices Fall in London, Relieving Some Inflation Worries ---- Associated Press News Service                                                                                                   \n",
       "33  Singapore December Domestic Oil Exports +39.5% On Yr                                                                                                                                                   \n",
       "34  DOE: US Crude Oil Stocks Dn 0.1 Mln Bbls In Week                                                                                                                                                       \n",
       "35  Ecuador Dec Crude Output 379,728 B/D, Up 2.3% On Yr                                                                                                                                                    \n",
       "36  Brazil Oil Spill Spreads; Petrobras Fires 2 -CBN Radio                                                                                                                                                 \n",
       "37  WSJ(1/24): Commodities: Oil Futures Up In Frigid Weather Fri                                                                                                                                           \n",
       "38  Resumption of Iraqi Arms Inspections Is Impeded by Oil-Price Rise, U.N. Split ---- By Neil King Jr. Staff Reporter of The Wall Street Journal                                                          \n",
       "39  Greenpeace Protests As Brazil's Oil Spill Spreads                                                                                                                                                      \n",
       "40  Iraq Oil Exports Fall To 1.85M B/D, Price Up At $25.38                                                                                                                                                 \n",
       "41  Midday US Spot Crude: Prices Sink With Crude Futures                                                                                                                                                   \n",
       "42  Mexico's December Crude Export Price $22.15/Bbl - Fin Min                                                                                                                                              \n",
       "43  Exxon Mobil Budget-2: Sees 2000 Oil Production Up 4%>XOM                                                                                                                                               \n",
       "44  Ecuador's Dec Oil Exports -23.5% On Yr To 180,968 B/D                                                                                                                                                  \n",
       "45  News Highlights: US Crude Stocks Dn 3.004 Mln Bbl In Week                                                                                                                                              \n",
       "46  IPE Close: Brent Settles Higher In Choppy Session                                                                                                                                                      \n",
       "47  API: US Crude Stocks Dn 3.004 Mln Bbl In Week                                                                                                                                                          \n",
       "48  Upton Resources Dec Oil Output Rises To 4,400 B/D >T.URC                                                                                                                                               \n",
       "49  DOE: US Crude Oil Stocks Dn 2.4 Mln Bbls In Week                                                                                                                                                       \n",
       "\n",
       "                                        logit prediction  sentiment_score  \n",
       "0   [0.98235655, 0.015724735, 0.0019187173]    positive   0.966632         \n",
       "1   [0.98221946, 0.016272597, 0.0015078676]    positive   0.965947         \n",
       "2   [0.98791003, 0.00866582, 0.0034241425]     positive   0.979244         \n",
       "3   [0.0085255215, 0.99080503, 0.00066945667]  negative  -0.982279         \n",
       "4   [0.99268323, 0.006358306, 0.0009585765]    positive   0.986325         \n",
       "5   [0.0068248343, 0.9923463, 0.00082892954]   negative  -0.985521         \n",
       "6   [0.4947401, 0.49652705, 0.008732811]       negative  -0.001787         \n",
       "7   [0.0050258995, 0.99266386, 0.0023102001]   negative  -0.987638         \n",
       "8   [0.0022811445, 0.99659216, 0.001126783]    negative  -0.994311         \n",
       "9   [0.008583628, 0.99056774, 0.0008487068]    negative  -0.981984         \n",
       "10  [0.008115677, 0.99128026, 0.0006041372]    negative  -0.983165         \n",
       "11  [0.006357287, 0.9930529, 0.00058982644]    negative  -0.986696         \n",
       "12  [0.9917997, 0.0071030674, 0.001097228]     positive   0.984697         \n",
       "13  [0.014824784, 0.98279804, 0.0023771853]    negative  -0.967973         \n",
       "14  [0.006975416, 0.9922976, 0.0007269586]     negative  -0.985322         \n",
       "15  [0.001246937, 0.9971668, 0.00158625]       negative  -0.995920         \n",
       "16  [0.0013922803, 0.9974564, 0.0011513683]    negative  -0.996064         \n",
       "17  [0.0012395323, 0.9972778, 0.0014827041]    negative  -0.996038         \n",
       "18  [0.9938398, 0.0048861876, 0.0012740439]    positive   0.988954         \n",
       "19  [0.0010295489, 0.001832211, 0.99713826]    neutral   -0.000803         \n",
       "20  [0.99546957, 0.002567816, 0.0019627078]    positive   0.992902         \n",
       "21  [0.0012026987, 0.99599457, 0.002802628]    negative  -0.994792         \n",
       "22  [0.9908407, 0.0077415965, 0.0014176457]    positive   0.983099         \n",
       "23  [0.98922616, 0.008918063, 0.0018557411]    positive   0.980308         \n",
       "24  [0.99719894, 0.0015560971, 0.0012449257]   positive   0.995643         \n",
       "25  [0.9927321, 0.0062008454, 0.0010670595]    positive   0.986531         \n",
       "26  [0.0014100916, 0.99680626, 0.0017836537]   negative  -0.995396         \n",
       "27  [0.8539311, 0.14408867, 0.0019801706]      positive   0.709842         \n",
       "28  [0.15426853, 0.8445675, 0.0011639246]      negative  -0.690299         \n",
       "29  [0.0012223354, 0.9970149, 0.0017627903]    negative  -0.995793         \n",
       "30  [0.016845647, 0.98231965, 0.0008347184]    negative  -0.965474         \n",
       "31  [0.9940044, 0.0044544637, 0.0015410989]    positive   0.989550         \n",
       "32  [0.0062615834, 0.99301225, 0.0007261143]   negative  -0.986751         \n",
       "33  [0.0014483114, 0.9969228, 0.0016288322]    negative  -0.995474         \n",
       "34  [0.99546707, 0.003564442, 0.00096846494]   positive   0.991903         \n",
       "35  [0.0014639231, 0.997355, 0.0011810485]     negative  -0.995891         \n",
       "36  [0.9973659, 0.0019788065, 0.00065534754]   positive   0.995387         \n",
       "37  [0.0077144955, 0.9915126, 0.0007729087]    negative  -0.983798         \n",
       "38  [0.98134184, 0.01697739, 0.0016808507]     positive   0.964364         \n",
       "39  [0.9971064, 0.0020629503, 0.000830588]     positive   0.995043         \n",
       "40  [0.997349, 0.0019237682, 0.00072720053]    positive   0.995425         \n",
       "41  [0.0085255215, 0.99080503, 0.00066945667]  negative  -0.982279         \n",
       "42  [0.038973626, 0.9572905, 0.003735869]      negative  -0.918317         \n",
       "43  [0.0013896143, 0.9972435, 0.0013668379]    negative  -0.995854         \n",
       "44  [0.9972234, 0.0020745124, 0.000702097]     positive   0.995149         \n",
       "45  [0.98929405, 0.009730836, 0.00097505434]   positive   0.979563         \n",
       "46  [0.98946524, 0.00922052, 0.0013142236]     positive   0.980245         \n",
       "47  [0.9928364, 0.006343926, 0.0008196354]     positive   0.986493         \n",
       "48  [0.0014534229, 0.9973653, 0.0011812842]    negative  -0.995912         \n",
       "49  [0.99527824, 0.003819483, 0.00090231356]   positive   0.991459         "
      ]
     },
     "execution_count": 430,
     "metadata": {},
     "output_type": "execute_result"
    }
   ],
   "source": [
    "df_sample"
   ]
  },
  {
   "cell_type": "markdown",
   "id": "cb5c9674",
   "metadata": {},
   "source": [
    "### Perform Sentiment Analysis on each slice"
   ]
  },
  {
   "cell_type": "code",
   "execution_count": 418,
   "id": "38bfbabc",
   "metadata": {
    "scrolled": true
   },
   "outputs": [
    {
     "name": "stderr",
     "output_type": "stream",
     "text": [
      "06/23/2021 15:31:05 - INFO - finbert.utils -   *** Example ***\n",
      "06/23/2021 15:31:05 - INFO - finbert.utils -   guid: 0\n",
      "06/23/2021 15:31:05 - INFO - finbert.utils -   tokens: [CLS] india apr - nov oil imports $ 6 . 20 ##b vs $ 4 . 03 ##b ; + 53 . 86 % [SEP]\n",
      "06/23/2021 15:31:05 - INFO - finbert.utils -   input_ids: 101 2634 19804 1011 13292 3514 17589 1002 1020 1012 2322 2497 5443 1002 1018 1012 6021 2497 1025 1009 5187 1012 6564 1003 102 0 0 0 0 0 0 0 0 0 0 0 0 0 0 0 0 0 0 0 0 0 0 0 0 0 0 0 0 0 0 0 0 0 0 0 0 0 0 0\n",
      "06/23/2021 15:31:05 - INFO - finbert.utils -   attention_mask: 1 1 1 1 1 1 1 1 1 1 1 1 1 1 1 1 1 1 1 1 1 1 1 1 1 0 0 0 0 0 0 0 0 0 0 0 0 0 0 0 0 0 0 0 0 0 0 0 0 0 0 0 0 0 0 0 0 0 0 0 0 0 0 0\n",
      "06/23/2021 15:31:05 - INFO - finbert.utils -   token_type_ids: 0 0 0 0 0 0 0 0 0 0 0 0 0 0 0 0 0 0 0 0 0 0 0 0 0 0 0 0 0 0 0 0 0 0 0 0 0 0 0 0 0 0 0 0 0 0 0 0 0 0 0 0 0 0 0 0 0 0 0 0 0 0 0 0\n",
      "06/23/2021 15:31:05 - INFO - finbert.utils -   label: None (id = 9090)\n",
      "06/23/2021 15:38:25 - INFO - root -   tensor([[ 2.9745, -1.1602, -3.2638],\n",
      "        [ 2.9153, -1.1850, -3.5638],\n",
      "        [ 2.9057, -1.8305, -2.7590],\n",
      "        ...,\n",
      "        [ 3.4313, -1.7255, -3.4994],\n",
      "        [ 2.0968,  0.1158, -3.7056],\n",
      "        [ 3.3662, -2.1673, -3.0666]])\n"
     ]
    },
    {
     "name": "stdout",
     "output_type": "stream",
     "text": [
      " Time passed: 443.20300555229187 seconds \n"
     ]
    }
   ],
   "source": [
    "start_time = time.time()\n",
    "df_analyzed_news_text_first_quarter = predict(news_text_first_quarter , model)\n",
    "print(\" Time passed: {} seconds \".format(time.time() - start_time))"
   ]
  },
  {
   "cell_type": "code",
   "execution_count": 454,
   "id": "a99ea760",
   "metadata": {
    "scrolled": true
   },
   "outputs": [
    {
     "name": "stderr",
     "output_type": "stream",
     "text": [
      "06/23/2021 16:45:33 - INFO - finbert.utils -   *** Example ***\n",
      "06/23/2021 16:45:33 - INFO - finbert.utils -   guid: 0\n",
      "06/23/2021 16:45:33 - INFO - finbert.utils -   tokens: [CLS] china jun crude oil exports 1 . 42 ml ##n tons , + 550 % - source [SEP]\n",
      "06/23/2021 16:45:33 - INFO - finbert.utils -   input_ids: 101 2859 12022 13587 3514 14338 1015 1012 4413 19875 2078 6197 1010 1009 13274 1003 1011 3120 102 0 0 0 0 0 0 0 0 0 0 0 0 0 0 0 0 0 0 0 0 0 0 0 0 0 0 0 0 0 0 0 0 0 0 0 0 0 0 0 0 0 0 0 0 0\n",
      "06/23/2021 16:45:33 - INFO - finbert.utils -   attention_mask: 1 1 1 1 1 1 1 1 1 1 1 1 1 1 1 1 1 1 1 0 0 0 0 0 0 0 0 0 0 0 0 0 0 0 0 0 0 0 0 0 0 0 0 0 0 0 0 0 0 0 0 0 0 0 0 0 0 0 0 0 0 0 0 0\n",
      "06/23/2021 16:45:33 - INFO - finbert.utils -   token_type_ids: 0 0 0 0 0 0 0 0 0 0 0 0 0 0 0 0 0 0 0 0 0 0 0 0 0 0 0 0 0 0 0 0 0 0 0 0 0 0 0 0 0 0 0 0 0 0 0 0 0 0 0 0 0 0 0 0 0 0 0 0 0 0 0 0\n",
      "06/23/2021 16:45:33 - INFO - finbert.utils -   label: None (id = 9090)\n",
      "06/23/2021 16:53:04 - INFO - root -   tensor([[-1.6806,  4.3096, -2.3619],\n",
      "        [ 1.7078, -1.3170, -1.5078],\n",
      "        [ 3.3395, -2.3368, -2.7966],\n",
      "        ...,\n",
      "        [-1.1493,  3.9261, -3.0527],\n",
      "        [ 3.3380, -2.3432, -2.7889],\n",
      "        [ 1.1702,  2.0374, -4.1647]])\n"
     ]
    },
    {
     "name": "stdout",
     "output_type": "stream",
     "text": [
      " Time passed: 453.31520223617554 seconds \n"
     ]
    }
   ],
   "source": [
    "start_time = time.time()\n",
    "news_text_second_quarter = news_text_second_quarter.reset_index(drop=True) #avoids conflict with len of df and expected index\n",
    "df_analyzed_news_text_second_quarter = predict(news_text_second_quarter , model)\n",
    "print(\" Time passed: {} seconds \".format(time.time() - start_time))"
   ]
  },
  {
   "cell_type": "code",
   "execution_count": 456,
   "id": "c9419a5b",
   "metadata": {},
   "outputs": [
    {
     "name": "stderr",
     "output_type": "stream",
     "text": [
      "06/23/2021 16:53:26 - INFO - finbert.utils -   *** Example ***\n",
      "06/23/2021 16:53:26 - INFO - finbert.utils -   guid: 0\n",
      "06/23/2021 16:53:26 - INFO - finbert.utils -   tokens: [CLS] officials : pirates seize oil tanker in ivory coast [SEP]\n",
      "06/23/2021 16:53:26 - INFO - finbert.utils -   input_ids: 101 4584 1024 8350 15126 3514 20135 1999 11554 3023 102 0 0 0 0 0 0 0 0 0 0 0 0 0 0 0 0 0 0 0 0 0 0 0 0 0 0 0 0 0 0 0 0 0 0 0 0 0 0 0 0 0 0 0 0 0 0 0 0 0 0 0 0 0\n",
      "06/23/2021 16:53:26 - INFO - finbert.utils -   attention_mask: 1 1 1 1 1 1 1 1 1 1 1 0 0 0 0 0 0 0 0 0 0 0 0 0 0 0 0 0 0 0 0 0 0 0 0 0 0 0 0 0 0 0 0 0 0 0 0 0 0 0 0 0 0 0 0 0 0 0 0 0 0 0 0 0\n",
      "06/23/2021 16:53:26 - INFO - finbert.utils -   token_type_ids: 0 0 0 0 0 0 0 0 0 0 0 0 0 0 0 0 0 0 0 0 0 0 0 0 0 0 0 0 0 0 0 0 0 0 0 0 0 0 0 0 0 0 0 0 0 0 0 0 0 0 0 0 0 0 0 0 0 0 0 0 0 0 0 0\n",
      "06/23/2021 16:53:26 - INFO - finbert.utils -   label: None (id = 9090)\n",
      "06/23/2021 17:00:37 - INFO - root -   tensor([[ 2.9490, -0.5531, -4.1644],\n",
      "        [ 3.4695, -1.4847, -3.6743],\n",
      "        [ 3.4915, -1.8903, -3.5012],\n",
      "        ...,\n",
      "        [-0.5765,  1.9288, -2.0616],\n",
      "        [ 3.8368, -2.5871, -3.2489],\n",
      "        [ 3.4065, -1.7892, -3.4778]])\n"
     ]
    },
    {
     "name": "stdout",
     "output_type": "stream",
     "text": [
      " Time passed: 433.68320775032043 seconds \n"
     ]
    }
   ],
   "source": [
    "start_time = time.time()\n",
    "news_text_third_quarter = news_text_third_quarter.reset_index(drop=True)\n",
    "df_analyzed_news_text_third_quarter = predict(news_text_third_quarter , model)\n",
    "print(\" Time passed: {} seconds \".format(time.time() - start_time))"
   ]
  },
  {
   "cell_type": "code",
   "execution_count": 458,
   "id": "3d747702",
   "metadata": {},
   "outputs": [
    {
     "name": "stderr",
     "output_type": "stream",
     "text": [
      "06/23/2021 17:00:47 - INFO - finbert.utils -   *** Example ***\n",
      "06/23/2021 17:00:47 - INFO - finbert.utils -   guid: 0\n",
      "06/23/2021 17:00:47 - INFO - finbert.utils -   tokens: [CLS] bloomberg brief : kuwait & uae oil production cuts ( audio ) [SEP]\n",
      "06/23/2021 17:00:47 - INFO - finbert.utils -   input_ids: 101 22950 4766 1024 13085 1004 17641 3514 2537 7659 1006 5746 1007 102 0 0 0 0 0 0 0 0 0 0 0 0 0 0 0 0 0 0 0 0 0 0 0 0 0 0 0 0 0 0 0 0 0 0 0 0 0 0 0 0 0 0 0 0 0 0 0 0 0 0\n",
      "06/23/2021 17:00:47 - INFO - finbert.utils -   attention_mask: 1 1 1 1 1 1 1 1 1 1 1 1 1 1 0 0 0 0 0 0 0 0 0 0 0 0 0 0 0 0 0 0 0 0 0 0 0 0 0 0 0 0 0 0 0 0 0 0 0 0 0 0 0 0 0 0 0 0 0 0 0 0 0 0\n",
      "06/23/2021 17:00:47 - INFO - finbert.utils -   token_type_ids: 0 0 0 0 0 0 0 0 0 0 0 0 0 0 0 0 0 0 0 0 0 0 0 0 0 0 0 0 0 0 0 0 0 0 0 0 0 0 0 0 0 0 0 0 0 0 0 0 0 0 0 0 0 0 0 0 0 0 0 0 0 0 0 0\n",
      "06/23/2021 17:00:47 - INFO - finbert.utils -   label: None (id = 9090)\n",
      "06/23/2021 17:08:01 - INFO - root -   tensor([[ 3.8453, -2.2750, -3.4834],\n",
      "        [-1.8178,  4.6156, -2.4567],\n",
      "        [ 3.4131, -1.8351, -3.4428],\n",
      "        ...,\n",
      "        [ 3.5580, -2.0205, -3.3477],\n",
      "        [-1.7175,  4.4236, -2.3598],\n",
      "        [-2.1341,  4.3792, -1.8765]])\n"
     ]
    },
    {
     "name": "stdout",
     "output_type": "stream",
     "text": [
      " Time passed: 436.715145111084 seconds \n"
     ]
    }
   ],
   "source": [
    "start_time = time.time()\n",
    "news_text_fourth_quarter =news_text_fourth_quarter.reset_index(drop=True)\n",
    "df_analyzed_news_text_fourth_quarter = predict(news_text_fourth_quarter , model)\n",
    "print(\" Time passed: {} seconds \".format(time.time() - start_time))"
   ]
  },
  {
   "cell_type": "markdown",
   "id": "93a6aa9e",
   "metadata": {},
   "source": [
    "### Concatenate the slices"
   ]
  },
  {
   "cell_type": "code",
   "execution_count": 460,
   "id": "27a5ff2e",
   "metadata": {},
   "outputs": [],
   "source": [
    "quarters = [df_analyzed_news_text_first_quarter, df_analyzed_news_text_second_quarter, df_analyzed_news_text_third_quarter, df_analyzed_news_text_fourth_quarter]\n",
    "df_analyzed_news_text_full = pd.concat(quarters)\n",
    "df_analyzed_news_text_full = df_analyzed_news_text_full.reset_index(drop=True)"
   ]
  },
  {
   "cell_type": "markdown",
   "id": "d60d261a",
   "metadata": {},
   "source": [
    "### Verify if sum of concatenated slices have the same size as the initial dataframe"
   ]
  },
  {
   "cell_type": "code",
   "execution_count": 467,
   "id": "1f2bc548",
   "metadata": {},
   "outputs": [
    {
     "data": {
      "text/plain": [
       "True"
      ]
     },
     "execution_count": 467,
     "metadata": {},
     "output_type": "execute_result"
    }
   ],
   "source": [
    "#Check if same size\n",
    "len(news) == len(df_analyzed_news_text_full)"
   ]
  },
  {
   "cell_type": "markdown",
   "id": "8f6ca77d",
   "metadata": {},
   "source": [
    "### Apply the binary sentiment scores neg = -1, neu = 0, pos = 1 (Optional)"
   ]
  },
  {
   "cell_type": "code",
   "execution_count": 496,
   "id": "8889ed4d",
   "metadata": {},
   "outputs": [],
   "source": [
    "sentiment_score_binary = df_analyzed_news_text_full.prediction.apply(oneHot)\n",
    "sentiment_score_binary = sentiment_score_binary.reset_index(drop=True)\n",
    "df_analyzed_news_text_full['sentiment_score_binary'] = sentiment_score_binary"
   ]
  },
  {
   "cell_type": "code",
   "execution_count": 501,
   "id": "be271ee1",
   "metadata": {},
   "outputs": [
    {
     "data": {
      "text/html": [
       "<div>\n",
       "<style scoped>\n",
       "    .dataframe tbody tr th:only-of-type {\n",
       "        vertical-align: middle;\n",
       "    }\n",
       "\n",
       "    .dataframe tbody tr th {\n",
       "        vertical-align: top;\n",
       "    }\n",
       "\n",
       "    .dataframe thead th {\n",
       "        text-align: right;\n",
       "    }\n",
       "</style>\n",
       "<table border=\"1\" class=\"dataframe\">\n",
       "  <thead>\n",
       "    <tr style=\"text-align: right;\">\n",
       "      <th></th>\n",
       "      <th>sentence</th>\n",
       "      <th>logit</th>\n",
       "      <th>prediction</th>\n",
       "      <th>sentiment_score</th>\n",
       "      <th>sentiment_score_binary</th>\n",
       "    </tr>\n",
       "  </thead>\n",
       "  <tbody>\n",
       "    <tr>\n",
       "      <th>0</th>\n",
       "      <td>India Apr-Nov Oil Imports $6.20B Vs $4.03B; +53.86%</td>\n",
       "      <td>[0.98235655, 0.015724735, 0.0019187173]</td>\n",
       "      <td>positive</td>\n",
       "      <td>0.966632</td>\n",
       "      <td>1</td>\n",
       "    </tr>\n",
       "    <tr>\n",
       "      <th>1</th>\n",
       "      <td>Texaco and Chevron Missed the Boat on Big Stock Gains --- Their Returns Were Stagnant as Oil Prices Soared Amid Mergers Among Rivals ---- By Steve Liesman Staff Reporter of The Wall Street Journal</td>\n",
       "      <td>[0.98221946, 0.016272597, 0.0015078676]</td>\n",
       "      <td>positive</td>\n",
       "      <td>0.965947</td>\n",
       "      <td>1</td>\n",
       "    </tr>\n",
       "    <tr>\n",
       "      <th>2</th>\n",
       "      <td>Taiwan CPC Dec Crude Oil Imports 20.4M Bbl, US$23.79/Bbl</td>\n",
       "      <td>[0.98791003, 0.00866582, 0.0034241425]</td>\n",
       "      <td>positive</td>\n",
       "      <td>0.979244</td>\n",
       "      <td>1</td>\n",
       "    </tr>\n",
       "    <tr>\n",
       "      <th>3</th>\n",
       "      <td>Midday US Spot Crude: Prices Sink With Crude Futures</td>\n",
       "      <td>[0.0085255215, 0.99080503, 0.00066945667]</td>\n",
       "      <td>negative</td>\n",
       "      <td>-0.982279</td>\n",
       "      <td>-1</td>\n",
       "    </tr>\n",
       "    <tr>\n",
       "      <th>4</th>\n",
       "      <td>API: US Crude Stocks Dn 1.568 Mln Bbl In Week</td>\n",
       "      <td>[0.99268323, 0.006358306, 0.0009585765]</td>\n",
       "      <td>positive</td>\n",
       "      <td>0.986325</td>\n",
       "      <td>1</td>\n",
       "    </tr>\n",
       "    <tr>\n",
       "      <th>...</th>\n",
       "      <td>...</td>\n",
       "      <td>...</td>\n",
       "      <td>...</td>\n",
       "      <td>...</td>\n",
       "      <td>...</td>\n",
       "    </tr>\n",
       "    <tr>\n",
       "      <th>11475</th>\n",
       "      <td>U.S. oil production to start rising in second quarter: Kemp</td>\n",
       "      <td>[0.0014707955, 0.9970573, 0.0014719104]</td>\n",
       "      <td>negative</td>\n",
       "      <td>-0.995587</td>\n",
       "      <td>1</td>\n",
       "    </tr>\n",
       "    <tr>\n",
       "      <th>11476</th>\n",
       "      <td>OPEC+ to increase oil production from May</td>\n",
       "      <td>[0.0012697678, 0.9963229, 0.0024074274]</td>\n",
       "      <td>negative</td>\n",
       "      <td>-0.995053</td>\n",
       "      <td>1</td>\n",
       "    </tr>\n",
       "    <tr>\n",
       "      <th>11477</th>\n",
       "      <td>OPEC+ to Ease Oil Output Cuts in Cautious Bet on Recovery</td>\n",
       "      <td>[0.9952425, 0.003760195, 0.0009973103]</td>\n",
       "      <td>positive</td>\n",
       "      <td>0.991482</td>\n",
       "      <td>-1</td>\n",
       "    </tr>\n",
       "    <tr>\n",
       "      <th>11478</th>\n",
       "      <td>Iraq's crude oil exports exceed 91 mln barrels in March</td>\n",
       "      <td>[0.002145525, 0.9967258, 0.0011286802]</td>\n",
       "      <td>negative</td>\n",
       "      <td>-0.994580</td>\n",
       "      <td>1</td>\n",
       "    </tr>\n",
       "    <tr>\n",
       "      <th>11479</th>\n",
       "      <td>Russia to Boost Oil Production by Total of 114,000 Bpd in May-July - Novak</td>\n",
       "      <td>[0.0014785206, 0.9966086, 0.0019129171]</td>\n",
       "      <td>negative</td>\n",
       "      <td>-0.995130</td>\n",
       "      <td>1</td>\n",
       "    </tr>\n",
       "  </tbody>\n",
       "</table>\n",
       "<p>45911 rows × 5 columns</p>\n",
       "</div>"
      ],
      "text/plain": [
       "                                                                                                                                                                                                   sentence  \\\n",
       "0      India Apr-Nov Oil Imports $6.20B Vs $4.03B; +53.86%                                                                                                                                                    \n",
       "1      Texaco and Chevron Missed the Boat on Big Stock Gains --- Their Returns Were Stagnant as Oil Prices Soared Amid Mergers Among Rivals ---- By Steve Liesman Staff Reporter of The Wall Street Journal   \n",
       "2      Taiwan CPC Dec Crude Oil Imports 20.4M Bbl, US$23.79/Bbl                                                                                                                                               \n",
       "3      Midday US Spot Crude: Prices Sink With Crude Futures                                                                                                                                                   \n",
       "4      API: US Crude Stocks Dn 1.568 Mln Bbl In Week                                                                                                                                                          \n",
       "...                                              ...                                                                                                                                                          \n",
       "11475  U.S. oil production to start rising in second quarter: Kemp                                                                                                                                            \n",
       "11476  OPEC+ to increase oil production from May                                                                                                                                                              \n",
       "11477  OPEC+ to Ease Oil Output Cuts in Cautious Bet on Recovery                                                                                                                                              \n",
       "11478  Iraq's crude oil exports exceed 91 mln barrels in March                                                                                                                                                \n",
       "11479  Russia to Boost Oil Production by Total of 114,000 Bpd in May-July - Novak                                                                                                                             \n",
       "\n",
       "                                           logit prediction  sentiment_score  \\\n",
       "0      [0.98235655, 0.015724735, 0.0019187173]    positive   0.966632          \n",
       "1      [0.98221946, 0.016272597, 0.0015078676]    positive   0.965947          \n",
       "2      [0.98791003, 0.00866582, 0.0034241425]     positive   0.979244          \n",
       "3      [0.0085255215, 0.99080503, 0.00066945667]  negative  -0.982279          \n",
       "4      [0.99268323, 0.006358306, 0.0009585765]    positive   0.986325          \n",
       "...                                        ...         ...        ...          \n",
       "11475  [0.0014707955, 0.9970573, 0.0014719104]    negative  -0.995587          \n",
       "11476  [0.0012697678, 0.9963229, 0.0024074274]    negative  -0.995053          \n",
       "11477  [0.9952425, 0.003760195, 0.0009973103]     positive   0.991482          \n",
       "11478  [0.002145525, 0.9967258, 0.0011286802]     negative  -0.994580          \n",
       "11479  [0.0014785206, 0.9966086, 0.0019129171]    negative  -0.995130          \n",
       "\n",
       "       sentiment_score_binary  \n",
       "0      1                       \n",
       "1      1                       \n",
       "2      1                       \n",
       "3     -1                       \n",
       "4      1                       \n",
       "...   ..                       \n",
       "11475  1                       \n",
       "11476  1                       \n",
       "11477 -1                       \n",
       "11478  1                       \n",
       "11479  1                       \n",
       "\n",
       "[45911 rows x 5 columns]"
      ]
     },
     "execution_count": 501,
     "metadata": {},
     "output_type": "execute_result"
    }
   ],
   "source": [
    "df_analyzed_news_text_full"
   ]
  },
  {
   "cell_type": "markdown",
   "id": "45cd8980",
   "metadata": {},
   "source": [
    "###  Save the dataframe"
   ]
  },
  {
   "cell_type": "code",
   "execution_count": null,
   "id": "b592486a",
   "metadata": {},
   "outputs": [],
   "source": [
    "df_analyzed_news_text_full.to_excel(\"df_analyzed_news_text_full.xlsx\")"
   ]
  }
 ],
 "metadata": {
  "kernelspec": {
   "display_name": "Python 3",
   "language": "python",
   "name": "python3"
  },
  "language_info": {
   "codemirror_mode": {
    "name": "ipython",
    "version": 3
   },
   "file_extension": ".py",
   "mimetype": "text/x-python",
   "name": "python",
   "nbconvert_exporter": "python",
   "pygments_lexer": "ipython3",
   "version": "3.8.10"
  }
 },
 "nbformat": 4,
 "nbformat_minor": 5
}
