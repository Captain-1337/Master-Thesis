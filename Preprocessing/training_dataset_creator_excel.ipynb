{
 "cells": [
  {
   "cell_type": "markdown",
   "id": "45080e6b",
   "metadata": {},
   "source": [
    "### Import Libraries and label the training dataset"
   ]
  },
  {
   "cell_type": "code",
   "execution_count": 16,
   "id": "53b0cf97",
   "metadata": {
    "scrolled": false
   },
   "outputs": [],
   "source": [
    "import pandas as pd\n",
    "\n",
    "from pathlib import Path\n",
    "project_dir = Path.cwd().parent\n",
    "\n",
    "df = pd.read_excel(\"crude_train_pos_neu_neg.xlsx\", engine='openpyxl')\n",
    "\n",
    "pos = df.query('label==\"positive\"')\n",
    "pos = pos.sample(len(pos), random_state=0) # shuffle samples\n",
    "\n",
    "neg = df.query('label==\"negative\"')\n",
    "neg = neg.sample(len(neg), random_state=0)\n",
    "\n",
    "neu = df.query('label==\"neutral\"')\n",
    "neu = neu.sample(len(neu), random_state=0)\n",
    "\n",
    "n_pos = int(len(pos)*0.2)\n",
    "n_neg = int(len(neg)*0.2)\n",
    "n_neu = int(len(neu)*0.2)\n",
    "\n",
    "pd.concat([pos[:-n_pos*2], neg[:-n_neg*2], neu[:-n_neu*2]], axis=0).to_csv('train.csv', sep='\\t')\n",
    "pd.concat([pos[-n_pos*2:-n_pos], neg[-n_neg*2:-n_neg], neu[-n_neu*2:-n_neu]], axis=0).to_csv('validation.csv', sep='\\t')\n",
    "pd.concat([pos[-n_pos:], neg[-n_neg:], neu[-n_neu:]], axis=0).to_csv('test.csv', sep='\\t')"
   ]
  },
  {
   "cell_type": "markdown",
   "id": "3e7fd159",
   "metadata": {},
   "source": [
    "### Overview of the training dataset"
   ]
  },
  {
   "cell_type": "code",
   "execution_count": 2,
   "id": "778cb2b9",
   "metadata": {
    "scrolled": true
   },
   "outputs": [
    {
     "data": {
      "text/html": [
       "<div>\n",
       "<style scoped>\n",
       "    .dataframe tbody tr th:only-of-type {\n",
       "        vertical-align: middle;\n",
       "    }\n",
       "\n",
       "    .dataframe tbody tr th {\n",
       "        vertical-align: top;\n",
       "    }\n",
       "\n",
       "    .dataframe thead th {\n",
       "        text-align: right;\n",
       "    }\n",
       "</style>\n",
       "<table border=\"1\" class=\"dataframe\">\n",
       "  <thead>\n",
       "    <tr style=\"text-align: right;\">\n",
       "      <th></th>\n",
       "      <th>text</th>\n",
       "      <th>label</th>\n",
       "    </tr>\n",
       "  </thead>\n",
       "  <tbody>\n",
       "    <tr>\n",
       "      <th>0</th>\n",
       "      <td>According to Gran , the company has no plans t...</td>\n",
       "      <td>neutral</td>\n",
       "    </tr>\n",
       "    <tr>\n",
       "      <th>1</th>\n",
       "      <td>Technopolis plans to develop in stages an area...</td>\n",
       "      <td>neutral</td>\n",
       "    </tr>\n",
       "    <tr>\n",
       "      <th>2</th>\n",
       "      <td>The international electronic industry company ...</td>\n",
       "      <td>negative</td>\n",
       "    </tr>\n",
       "    <tr>\n",
       "      <th>3</th>\n",
       "      <td>With the new production plant the company woul...</td>\n",
       "      <td>positive</td>\n",
       "    </tr>\n",
       "    <tr>\n",
       "      <th>4</th>\n",
       "      <td>According to the company 's updated strategy f...</td>\n",
       "      <td>positive</td>\n",
       "    </tr>\n",
       "    <tr>\n",
       "      <th>...</th>\n",
       "      <td>...</td>\n",
       "      <td>...</td>\n",
       "    </tr>\n",
       "    <tr>\n",
       "      <th>4841</th>\n",
       "      <td>LONDON MarketWatch -- Share prices ended lower...</td>\n",
       "      <td>negative</td>\n",
       "    </tr>\n",
       "    <tr>\n",
       "      <th>4842</th>\n",
       "      <td>Rinkuskiai 's beer sales fell by 6.5 per cent ...</td>\n",
       "      <td>neutral</td>\n",
       "    </tr>\n",
       "    <tr>\n",
       "      <th>4843</th>\n",
       "      <td>Operating profit fell to EUR 35.4 mn from EUR ...</td>\n",
       "      <td>negative</td>\n",
       "    </tr>\n",
       "    <tr>\n",
       "      <th>4844</th>\n",
       "      <td>Net sales of the Paper segment decreased to EU...</td>\n",
       "      <td>negative</td>\n",
       "    </tr>\n",
       "    <tr>\n",
       "      <th>4845</th>\n",
       "      <td>Sales in Finland decreased by 10.5 % in Januar...</td>\n",
       "      <td>negative</td>\n",
       "    </tr>\n",
       "  </tbody>\n",
       "</table>\n",
       "<p>4846 rows × 2 columns</p>\n",
       "</div>"
      ],
      "text/plain": [
       "                                                   text     label\n",
       "0     According to Gran , the company has no plans t...   neutral\n",
       "1     Technopolis plans to develop in stages an area...   neutral\n",
       "2     The international electronic industry company ...  negative\n",
       "3     With the new production plant the company woul...  positive\n",
       "4     According to the company 's updated strategy f...  positive\n",
       "...                                                 ...       ...\n",
       "4841  LONDON MarketWatch -- Share prices ended lower...  negative\n",
       "4842  Rinkuskiai 's beer sales fell by 6.5 per cent ...   neutral\n",
       "4843  Operating profit fell to EUR 35.4 mn from EUR ...  negative\n",
       "4844  Net sales of the Paper segment decreased to EU...  negative\n",
       "4845  Sales in Finland decreased by 10.5 % in Januar...  negative\n",
       "\n",
       "[4846 rows x 2 columns]"
      ]
     },
     "execution_count": 2,
     "metadata": {},
     "output_type": "execute_result"
    }
   ],
   "source": [
    "df"
   ]
  }
 ],
 "metadata": {
  "kernelspec": {
   "display_name": "Python 3",
   "language": "python",
   "name": "python3"
  },
  "language_info": {
   "codemirror_mode": {
    "name": "ipython",
    "version": 3
   },
   "file_extension": ".py",
   "mimetype": "text/x-python",
   "name": "python",
   "nbconvert_exporter": "python",
   "pygments_lexer": "ipython3",
   "version": "3.8.10"
  }
 },
 "nbformat": 4,
 "nbformat_minor": 5
}
